{
  "nbformat": 4,
  "nbformat_minor": 0,
  "metadata": {
    "kernelspec": {
      "display_name": "Python 3",
      "language": "python",
      "name": "python3"
    },
    "language_info": {
      "codemirror_mode": {
        "name": "ipython",
        "version": 3
      },
      "file_extension": ".py",
      "mimetype": "text/x-python",
      "name": "python",
      "nbconvert_exporter": "python",
      "pygments_lexer": "ipython3",
      "version": "3.7.6"
    },
    "colab": {
      "name": "Week 4 Day 2.ipynb",
      "provenance": [],
      "collapsed_sections": []
    }
  },
  "cells": [
    {
      "cell_type": "markdown",
      "metadata": {
        "id": "W74whz0p9QMs",
        "colab_type": "text"
      },
      "source": [
        "<h1>Quiz 1 : Pemahaman ALgoritma</h1>\n",
        "\n",
        "Jawab Pertanyaan di bawah ini dengan penyampaian bahasa sendiri!\n",
        "\n",
        "1. Bagaimana Process algoritma KNN?\n",
        "2. Jelaskan minimal 2 kekurangan dari Algoritma KNN?"
      ]
    },
    {
      "cell_type": "markdown",
      "metadata": {
        "id": "VsCp7f_w923_",
        "colab_type": "text"
      },
      "source": [
        "1. Proses algoritma KKN yaitu:\n",
        "- Menghitung jarak dirinya ke setiap data poin dengan menggunakan Euclidan Distance\n",
        "- Menentukan sebanyak k terdekat\n",
        "- Melakukan pengambilan suara untuk menentukan label dari suara terbanyak\n",
        "\n",
        "2. Kelemahan dari KKN yaitu:\n",
        "- Sangat sensitif terhadap data pencilan\n",
        "- Jika k nya genap maka si KNN akan ambigu jikalau label dari tetangga terdekat jumlahnya sama (solusinya menggunakan method weight yaitu mencari label yang terdekat)"
      ]
    },
    {
      "cell_type": "markdown",
      "metadata": {
        "id": "uS46ZlRb9QNZ",
        "colab_type": "text"
      },
      "source": [
        "<h1>Quiz 2 : Pengaplikasian Algoritma KNN</h1>\n",
        "\n",
        "- Buatlah model KNN\n",
        "- Training model tersebut kepada data X_train dengan hyperparaeter kombinasi antara  2<= k <=20 dan weights bernilai 'uniform', dan 'distance'  \n",
        "- Lakukan prediksi terhadap data X_test untuk model di setiap kombinasi k dan weights\n",
        "- Score dengan accuracy dari hasil prediksi terhadap data X_test untuk setiap kombinasi hyperparameter, masukan score tersebut ke dalam objek list dengan di groupkan berdasarkan jenis weights, sehingga di akhir kita punya variable misalkan list_uniform_score, dan list_distance_score\n",
        "- Plot ke dua list tersebut dengan lineplot kedalam satu axis dan bandingkan hasilnya"
      ]
    },
    {
      "cell_type": "code",
      "metadata": {
        "id": "TZYUBcfo9QOL",
        "colab_type": "code",
        "colab": {}
      },
      "source": [
        "from sklearn.datasets import load_wine\n",
        "import pandas as pd\n",
        "import numpy as np\n",
        "\n",
        "wine = load_wine()\n",
        "df = pd.DataFrame(np.c_[wine['data'], wine['target']], columns= wine['feature_names'] + ['class'])\n",
        "\n",
        "#Preprocessing data\n",
        "X = df.drop('class', axis=1)\n",
        "y = df['class']\n",
        "\n",
        "from sklearn.model_selection import train_test_split\n",
        "\n",
        "X_train, X_test, y_train, y_test = train_test_split(X, y, test_size=0.2, random_state=21)"
      ],
      "execution_count": 0,
      "outputs": []
    },
    {
      "cell_type": "code",
      "metadata": {
        "id": "Zuvj2mzCYhBH",
        "colab_type": "code",
        "colab": {}
      },
      "source": [
        "from sklearn.neighbors import KNeighborsClassifier\n",
        "from sklearn import metrics\n",
        "\n",
        "k_range = range(2, 21)\n",
        "\n",
        "scores = []\n",
        "scores2 = []\n",
        "\n",
        "for k in k_range:\n",
        "    model_knn = KNeighborsClassifier(n_neighbors=k, weights='uniform')\n",
        "    model_knn.fit(X_train, y_train)\n",
        "    y_new = model_knn.predict(X_test)\n",
        "    scores.append(metrics.accuracy_score(y_test, y_new))\n",
        "\n",
        "    model_knn2 = KNeighborsClassifier(n_neighbors=k, weights='distance')\n",
        "    model_knn2.fit(X_train, y_train)\n",
        "    y_new2 = model_knn2.predict(X_test)\n",
        "    scores2.append(metrics.accuracy_score(y_test, y_new2))"
      ],
      "execution_count": 0,
      "outputs": []
    },
    {
      "cell_type": "code",
      "metadata": {
        "id": "y3NBoNvedBx3",
        "colab_type": "code",
        "outputId": "a2d27dc0-81b6-4467-a3d1-747634f86992",
        "colab": {
          "base_uri": "https://localhost:8080/",
          "height": 72
        }
      },
      "source": [
        "print('Uniform Scores ->', scores)\n",
        "print('Distance Scores ->', scores2)"
      ],
      "execution_count": 0,
      "outputs": [
        {
          "output_type": "stream",
          "text": [
            "Uniform Scores -> [0.6944444444444444, 0.8055555555555556, 0.7222222222222222, 0.6666666666666666, 0.6388888888888888, 0.75, 0.6388888888888888, 0.6944444444444444, 0.6944444444444444, 0.7222222222222222, 0.6388888888888888, 0.6666666666666666, 0.6388888888888888, 0.6666666666666666, 0.6111111111111112, 0.6666666666666666, 0.6388888888888888, 0.6666666666666666, 0.6111111111111112]\n",
            "Distance Scores -> [0.75, 0.8333333333333334, 0.7777777777777778, 0.75, 0.7222222222222222, 0.75, 0.6944444444444444, 0.7222222222222222, 0.6944444444444444, 0.6944444444444444, 0.6944444444444444, 0.6944444444444444, 0.6944444444444444, 0.6666666666666666, 0.6666666666666666, 0.6666666666666666, 0.6666666666666666, 0.6666666666666666, 0.6666666666666666]\n"
          ],
          "name": "stdout"
        }
      ]
    },
    {
      "cell_type": "code",
      "metadata": {
        "id": "RdoRZfrjdz9B",
        "colab_type": "code",
        "outputId": "3e2b00bc-423f-48a5-e23e-306435904d84",
        "colab": {
          "base_uri": "https://localhost:8080/",
          "height": 530
        }
      },
      "source": [
        "import matplotlib.pyplot as plt\n",
        "\n",
        "fig, ax = plt.subplots(figsize=(12,8))\n",
        "plt.plot(k_range, scores, label='Uniform Scores', marker='x')\n",
        "plt.plot(k_range, scores2, label='Distance Scores', marker='.')\n",
        "plt.title('Accuary : Uniform Scores vs Distance Scores')\n",
        "plt.xlabel('K-Value')\n",
        "plt.ylabel('Scores')\n",
        "plt.legend(loc='upper right')"
      ],
      "execution_count": 0,
      "outputs": [
        {
          "output_type": "execute_result",
          "data": {
            "text/plain": [
              "<matplotlib.legend.Legend at 0x7f40e1b877b8>"
            ]
          },
          "metadata": {
            "tags": []
          },
          "execution_count": 45
        },
        {
          "output_type": "display_data",
          "data": {
            "image/png": "[encoded data removed]",
            "text/plain": [
              "<Figure size 864x576 with 1 Axes>"
            ]
          },
          "metadata": {
            "tags": [],
            "needs_background": "light"
          }
        }
      ]
    },
    {
      "cell_type": "markdown",
      "metadata": {
        "id": "UcrrTIUk9QRy",
        "colab_type": "text"
      },
      "source": [
        "Contoh hasil yang di harapkan :\n",
        "\n",
        "Uniform Scores -> [0.6944444444444444,\n",
        " 0.8055555555555556,\n",
        " 0.7222222222222222,\n",
        " 0.6666666666666666,\n",
        " 0.6388888888888888,\n",
        " 0.75,\n",
        " 0.6388888888888888,\n",
        " 0.6944444444444444,\n",
        " 0.6944444444444444,\n",
        " 0.7222222222222222,\n",
        " 0.6388888888888888,\n",
        " 0.6666666666666666,\n",
        " 0.6388888888888888,\n",
        " 0.6666666666666666,\n",
        " 0.6111111111111112,\n",
        " 0.6666666666666666,\n",
        " 0.6388888888888888,\n",
        " 0.6666666666666666,\n",
        " 0.6111111111111112]\n",
        " \n",
        " distance scores -> [0.75,\n",
        " 0.8333333333333334,\n",
        " 0.7777777777777778,\n",
        " 0.75,\n",
        " 0.7222222222222222,\n",
        " 0.75,\n",
        " 0.6944444444444444,\n",
        " 0.7222222222222222,\n",
        " 0.6944444444444444,\n",
        " 0.6944444444444444,\n",
        " 0.6944444444444444,\n",
        " 0.6944444444444444,\n",
        " 0.6944444444444444,\n",
        " 0.6666666666666666,\n",
        " 0.6666666666666666,\n",
        " 0.6666666666666666,\n",
        " 0.6666666666666666,\n",
        " 0.6666666666666666,\n",
        " 0.6666666666666666]\n",
        "\n",
        "![image.png](attachment:image.png)"
      ]
    },
    {
      "cell_type": "markdown",
      "metadata": {
        "id": "5Rm-PrFM9QS3",
        "colab_type": "text"
      },
      "source": [
        "<h1>Quiz 3 : Pengaplikasian Model Linear Regression</h1>\n",
        "\n",
        "Applikasikan model linear regresi kedalam data berikut. Kemudian tunjukan parameter koefesien dan intercept dari model tersebut."
      ]
    },
    {
      "cell_type": "code",
      "metadata": {
        "id": "osp6V4IN9QTg",
        "colab_type": "code",
        "colab": {}
      },
      "source": [
        "import numpy as np\n",
        "\n",
        "rng = np.random.RandomState(1)\n",
        "\n",
        "X = 10 * rng.rand(50, 4)\n",
        "y = np.array([  0.9826564 ,  49.40390035,  85.76013175,  29.17254633,\n",
        "        11.270054  ,  61.53852735, -19.52503854,  10.10230867,\n",
        "        82.03058206,  45.72660678,  82.09252575,  90.78872391,\n",
        "        67.94178098,  39.97492762, 124.78866966,  85.24615819,\n",
        "        85.68491086,  80.39481211,  14.54591581, 137.19722354,\n",
        "        85.04063428,  94.76681927,  84.64289989,  38.76421156,\n",
        "        47.33953927,  94.50853335,  77.3276567 ,  -9.77846805,\n",
        "        61.13434468,  42.12124052,  26.65634335, 120.41593333,\n",
        "       138.08132504, 103.33745675, 145.64447692,  19.54777986,\n",
        "        87.40631024, 111.47327389,  95.94874761, 146.34817502,\n",
        "       118.10333528,  56.85956484, 108.57660235, 114.30790247,\n",
        "        40.27107041,  73.83871008,  45.52217182,  -7.57752547,\n",
        "       147.81772162, 139.40285349])"
      ],
      "execution_count": 0,
      "outputs": []
    },
    {
      "cell_type": "code",
      "metadata": {
        "id": "a9SelPHaXiwT",
        "colab_type": "code",
        "colab": {}
      },
      "source": [
        "from sklearn.linear_model import LinearRegression\n",
        "model_lr2 = LinearRegression(fit_intercept=True)\n",
        "model_lr2.fit(X, y)\n",
        "y_predict = model_lr2.predict(X)"
      ],
      "execution_count": 0,
      "outputs": []
    },
    {
      "cell_type": "code",
      "metadata": {
        "id": "FS06zq54X5uc",
        "colab_type": "code",
        "outputId": "1e97f304-6cf2-434a-efdc-bf60dc6acf5c",
        "colab": {
          "base_uri": "https://localhost:8080/",
          "height": 34
        }
      },
      "source": [
        "model_lr2.coef_"
      ],
      "execution_count": 0,
      "outputs": [
        {
          "output_type": "execute_result",
          "data": {
            "text/plain": [
              "array([ 1.5, -5. ,  9. , 10. ])"
            ]
          },
          "metadata": {
            "tags": []
          },
          "execution_count": 9
        }
      ]
    },
    {
      "cell_type": "code",
      "metadata": {
        "id": "fFOUEoTRYP4p",
        "colab_type": "code",
        "outputId": "22c55fa4-c773-4f43-96c2-f76f7eb8ba7c",
        "colab": {
          "base_uri": "https://localhost:8080/",
          "height": 34
        }
      },
      "source": [
        "model_lr2.intercept_"
      ],
      "execution_count": 0,
      "outputs": [
        {
          "output_type": "execute_result",
          "data": {
            "text/plain": [
              "0.5000000016247981"
            ]
          },
          "metadata": {
            "tags": []
          },
          "execution_count": 10
        }
      ]
    },
    {
      "cell_type": "code",
      "metadata": {
        "id": "NLD_JXT7YR6i",
        "colab_type": "code",
        "colab": {}
      },
      "source": [
        ""
      ],
      "execution_count": 0,
      "outputs": []
    }
  ]
}