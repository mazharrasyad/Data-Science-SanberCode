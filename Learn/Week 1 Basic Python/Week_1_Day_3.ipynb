{
  "nbformat": 4,
  "nbformat_minor": 0,
  "metadata": {
    "kernelspec": {
      "display_name": "Python 3",
      "language": "python",
      "name": "python3"
    },
    "language_info": {
      "codemirror_mode": {
        "name": "ipython",
        "version": 3
      },
      "file_extension": ".py",
      "mimetype": "text/x-python",
      "name": "python",
      "nbconvert_exporter": "python",
      "pygments_lexer": "ipython3",
      "version": "3.7.7"
    },
    "colab": {
      "name": "Week 1 Day 3.ipynb",
      "provenance": [],
      "collapsed_sections": []
    }
  },
  "cells": [
    {
      "cell_type": "markdown",
      "metadata": {
        "id": "OKK1o-9pVJyy",
        "colab_type": "text"
      },
      "source": [
        "<h2>Quiz 1 : Helper Function</h2>\n",
        "\n",
        "Jawab Pertanyaan di bawah ini :\n",
        "\n",
        "Misalkan kamu ingin mengetahui tentang kegunaan fungsi 'len' di Python, maka fungsi apa yang bisa kamu gunakan untuk menolong kamu?"
      ]
    },
    {
      "cell_type": "code",
      "metadata": {
        "id": "E_2AuD5WVJzM",
        "colab_type": "code",
        "outputId": "b6b10e6c-bc50-41ec-8bbc-935a0ab42cb0",
        "colab": {
          "base_uri": "https://localhost:8080/",
          "height": 104
        }
      },
      "source": [
        "# lengkapi code ini\n",
        "help(len)"
      ],
      "execution_count": 0,
      "outputs": [
        {
          "output_type": "stream",
          "text": [
            "Help on built-in function len in module builtins:\n",
            "\n",
            "len(obj, /)\n",
            "    Return the number of items in a container.\n",
            "\n"
          ],
          "name": "stdout"
        }
      ]
    },
    {
      "cell_type": "markdown",
      "metadata": {
        "id": "I7OSdM08VJ0w",
        "colab_type": "text"
      },
      "source": [
        "<h2>Quiz 2 : Built-in Function</h2>\n",
        "\n",
        "Jawab Pertanyaan di bawah ini :\n",
        "    \n",
        "Apa itu built-in Function?\n",
        "\n",
        "Sebutkan 3 built-in Function di pyhon!\n",
        "\n",
        "Berikan contoh masing2 1 cara penggunaan built-in function yang kamu sebutkan sebelumnya"
      ]
    },
    {
      "cell_type": "markdown",
      "metadata": {
        "id": "HTfFKqZBVJ1T",
        "colab_type": "text"
      },
      "source": [
        "built-in Function adalah Fungsi bawaan yang sudah ada di python tanpa kita harus menginstall apapun\n",
        "\n",
        "3 contoh built-in Function :\n",
        "1. print()\n",
        "2. help()\n",
        "3. len()"
      ]
    },
    {
      "cell_type": "code",
      "metadata": {
        "id": "3vR6JDU0VJ1d",
        "colab_type": "code",
        "outputId": "2b5412c3-39df-4cb1-a14f-574d22bd0abf",
        "colab": {
          "base_uri": "https://localhost:8080/",
          "height": 139
        }
      },
      "source": [
        "print(\"Hello\")\n",
        "help(len)\n",
        "len(\"Hello\")"
      ],
      "execution_count": 0,
      "outputs": [
        {
          "output_type": "stream",
          "text": [
            "Hello\n",
            "Help on built-in function len in module builtins:\n",
            "\n",
            "len(obj, /)\n",
            "    Return the number of items in a container.\n",
            "\n"
          ],
          "name": "stdout"
        },
        {
          "output_type": "execute_result",
          "data": {
            "text/plain": [
              "5"
            ]
          },
          "metadata": {
            "tags": []
          },
          "execution_count": 15
        }
      ]
    },
    {
      "cell_type": "markdown",
      "metadata": {
        "id": "9BVOCXuLVJ2S",
        "colab_type": "text"
      },
      "source": [
        "<h2>Quiz 3 : Method dan Function</h2>\n",
        "\n",
        "Jawab Pertanyaan di bawah ini :\n",
        "    \n",
        "- Apa perbedaan method dan function?"
      ]
    },
    {
      "cell_type": "markdown",
      "metadata": {
        "id": "v4G5Wav8VJ2e",
        "colab_type": "text"
      },
      "source": [
        "Method adalah suatu fungsi yang dimiliki oleh suatu object sedangkan Function adalah blok kode terorganisir dan dapat digunakan kembali yang digunakan untuk melakukan sebuah tindakan/action."
      ]
    },
    {
      "cell_type": "markdown",
      "metadata": {
        "id": "tG2w6p0jVJ2p",
        "colab_type": "text"
      },
      "source": [
        "<h2>Quiz 4 : Menggunkan Method String</h2>\n",
        "\n",
        "Lengkapi kode untuk menghasilkan suatu output yang di harapkan"
      ]
    },
    {
      "cell_type": "code",
      "metadata": {
        "id": "pTHzRuRiVJ24",
        "colab_type": "code",
        "outputId": "ed5ed1b8-da46-43de-cc1a-dcb57a562e7c",
        "colab": {
          "base_uri": "https://localhost:8080/",
          "height": 52
        }
      },
      "source": [
        "kalimat = \"Corona cepat selesai\"\n",
        "\n",
        "# gunakan method untuk mengubah nilai kalimat menjadi uppercase semua kemudian tampilkan hasilnya\n",
        "print(kalimat.upper())\n",
        "\n",
        "# gunakan method untuk menghitung berapa huruf e di dalam kalimat\n",
        "print(kalimat.count('e'))"
      ],
      "execution_count": 0,
      "outputs": [
        {
          "output_type": "stream",
          "text": [
            "CORONA CEPAT SELESAI\n",
            "3\n"
          ],
          "name": "stdout"
        }
      ]
    },
    {
      "cell_type": "markdown",
      "metadata": {
        "id": "q1BoaLy6VJ4F",
        "colab_type": "text"
      },
      "source": [
        "Expected Output :\n",
        "\n",
        "CORONA CEPAT SELESAI\n",
        "\n",
        "3"
      ]
    },
    {
      "cell_type": "markdown",
      "metadata": {
        "id": "ByZYqlakVJ4d",
        "colab_type": "text"
      },
      "source": [
        "<h2>Quiz 5 : Menggunkan Method List</h2>\n",
        "\n",
        "Lengkapi kode untuk menghasilkan suatu output yang di harapkan"
      ]
    },
    {
      "cell_type": "code",
      "metadata": {
        "id": "AvND8IQlVJ4s",
        "colab_type": "code",
        "outputId": "adc783f9-a9fc-4b9d-f0c3-98acc1c12426",
        "colab": {
          "base_uri": "https://localhost:8080/",
          "height": 52
        }
      },
      "source": [
        "areas = [11.25, 18.0, 20.0, 10.75, 9.50]\n",
        "\n",
        "# gunakan suatu method dari object list untuk menampilkan index dari nilai 20\n",
        "print(areas.index(20))\n",
        "\n",
        "# gunakan suatu method dari object list untuk menambahkan nilai 15.5 kedalam list ke index terakhirnya\n",
        "areas.append(15.5)\n",
        "print(areas)"
      ],
      "execution_count": 0,
      "outputs": [
        {
          "output_type": "stream",
          "text": [
            "2\n",
            "[11.25, 18.0, 20.0, 10.75, 9.5, 15.5]\n"
          ],
          "name": "stdout"
        }
      ]
    },
    {
      "cell_type": "markdown",
      "metadata": {
        "id": "iG7m63_IVJ52",
        "colab_type": "text"
      },
      "source": [
        "Expected Output :\n",
        "\n",
        "2\n",
        "\n",
        "[11.25, 18.0, 20.0, 10.75, 9.50, 15.5]"
      ]
    },
    {
      "cell_type": "markdown",
      "metadata": {
        "id": "XfEMULpaVJ6G",
        "colab_type": "text"
      },
      "source": [
        "<h2>Quiz 6 : Membuat Simple Function</h2>\n",
        "\n",
        "Buatlah suatu fungsi yang menerima satu input argumen berbentuk list dan mempunyai elemen bertipe numeric semua, dimana fungsi tersebut berguna untuk menghitung rata2 dari kumpulan elemen list tersebut. namai fungsi tersebut 'mean_list'"
      ]
    },
    {
      "cell_type": "code",
      "metadata": {
        "id": "9MwROA9mVJ6V",
        "colab_type": "code",
        "outputId": "2c16c347-897e-418d-9174-00c502222489",
        "colab": {
          "base_uri": "https://localhost:8080/",
          "height": 34
        }
      },
      "source": [
        "obj_list = [11.25, 18.0, 20.0, 10.75, 9.50]\n",
        "def mean_list(inp_list):\n",
        "    return sum(inp_list) / len(inp_list)\n",
        "    \n",
        "print(mean_list(obj_list))"
      ],
      "execution_count": 0,
      "outputs": [
        {
          "output_type": "stream",
          "text": [
            "13.9\n"
          ],
          "name": "stdout"
        }
      ]
    },
    {
      "cell_type": "markdown",
      "metadata": {
        "id": "yW_-a3-rVJ62",
        "colab_type": "text"
      },
      "source": [
        "Expected Output :\n",
        "\n",
        "13.9"
      ]
    },
    {
      "cell_type": "markdown",
      "metadata": {
        "id": "On5zHjPhVJ69",
        "colab_type": "text"
      },
      "source": [
        "<h2>Quiz 7 : Membuat Function dengan Multiple arguments</h2>\n",
        "\n",
        "Buatlah suatu fungsi untuk melakukan penggabungan antara dua list"
      ]
    },
    {
      "cell_type": "code",
      "metadata": {
        "id": "k8IRJ7jLVJ7D",
        "colab_type": "code",
        "outputId": "fb3b42d7-2b87-4117-cb06-0c274762a2df",
        "colab": {
          "base_uri": "https://localhost:8080/",
          "height": 34
        }
      },
      "source": [
        "obj_list = [2, 4, 5, 6]\n",
        "obj_pengali = [1, 2, 3]\n",
        "def kali_list(a, b):\n",
        "    return a + b\n",
        "    \n",
        "    \n",
        "print(kali_list(obj_list, obj_pengali))"
      ],
      "execution_count": 0,
      "outputs": [
        {
          "output_type": "stream",
          "text": [
            "[2, 4, 5, 6, 1, 2, 3]\n"
          ],
          "name": "stdout"
        }
      ]
    },
    {
      "cell_type": "markdown",
      "metadata": {
        "id": "EMasrDpJVJ7i",
        "colab_type": "text"
      },
      "source": [
        "Expected Output :\n",
        "\n",
        "[2, 4, 5, 6, 1, 2, 3]"
      ]
    },
    {
      "cell_type": "code",
      "metadata": {
        "id": "Um2RPVytVJ7s",
        "colab_type": "code",
        "colab": {}
      },
      "source": [
        "<h2>Quiz 7 : Membuat Function dengan Multiple arguments</h2>\n",
        "\n",
        "Buatlah suatu fungsi untuk melakukan penggabungan antara dua list"
      ],
      "execution_count": 0,
      "outputs": []
    }
  ]
}