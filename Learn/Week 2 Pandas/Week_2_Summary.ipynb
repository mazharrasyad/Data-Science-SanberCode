{
  "nbformat": 4,
  "nbformat_minor": 0,
  "metadata": {
    "colab": {
      "name": "Week 2 Summary.ipynb",
      "provenance": [],
      "collapsed_sections": [
        "dEoO3TUxgEdA",
        "1c6RJ-YoiD6N",
        "1YSMKYotW3ho"
      ]
    },
    "kernelspec": {
      "name": "python3",
      "display_name": "Python 3"
    }
  },
  "cells": [
    {
      "cell_type": "markdown",
      "metadata": {
        "id": "dEoO3TUxgEdA",
        "colab_type": "text"
      },
      "source": [
        "# Day 1"
      ]
    },
    {
      "cell_type": "markdown",
      "metadata": {
        "id": "qsf4BWH_mksx",
        "colab_type": "text"
      },
      "source": [
        "**Video 1 : Pandas Apa itu Series Membuat Series dari List**"
      ]
    },
    {
      "cell_type": "code",
      "metadata": {
        "id": "dmt0UruUfFxe",
        "colab_type": "code",
        "colab": {}
      },
      "source": [
        "a = [1, 2, 3, 4, 8, 10]"
      ],
      "execution_count": 0,
      "outputs": []
    },
    {
      "cell_type": "code",
      "metadata": {
        "id": "Yv34GxxQgVrV",
        "colab_type": "code",
        "colab": {}
      },
      "source": [
        "import pandas as pd"
      ],
      "execution_count": 0,
      "outputs": []
    },
    {
      "cell_type": "code",
      "metadata": {
        "id": "v80SFd-Bgh9U",
        "colab_type": "code",
        "colab": {}
      },
      "source": [
        "obj_series = pd.Series(a)"
      ],
      "execution_count": 0,
      "outputs": []
    },
    {
      "cell_type": "code",
      "metadata": {
        "id": "X1JHSynRgmcX",
        "colab_type": "code",
        "colab": {}
      },
      "source": [
        "type(obj_series)"
      ],
      "execution_count": 0,
      "outputs": []
    },
    {
      "cell_type": "code",
      "metadata": {
        "id": "1Orj7bAwgsne",
        "colab_type": "code",
        "colab": {}
      },
      "source": [
        "obj_series"
      ],
      "execution_count": 0,
      "outputs": []
    },
    {
      "cell_type": "code",
      "metadata": {
        "id": "tKpJxNj8gxkb",
        "colab_type": "code",
        "colab": {}
      },
      "source": [
        "a"
      ],
      "execution_count": 0,
      "outputs": []
    },
    {
      "cell_type": "code",
      "metadata": {
        "id": "EET1hXd0g-VJ",
        "colab_type": "code",
        "colab": {}
      },
      "source": [
        "obj_series.values"
      ],
      "execution_count": 0,
      "outputs": []
    },
    {
      "cell_type": "code",
      "metadata": {
        "id": "sDnVeAb3hDya",
        "colab_type": "code",
        "colab": {}
      },
      "source": [
        "obj_series.index"
      ],
      "execution_count": 0,
      "outputs": []
    },
    {
      "cell_type": "code",
      "metadata": {
        "id": "czkjlGZPhJtz",
        "colab_type": "code",
        "colab": {}
      },
      "source": [
        "a[1:4]"
      ],
      "execution_count": 0,
      "outputs": []
    },
    {
      "cell_type": "code",
      "metadata": {
        "id": "qHIMcELdhM8c",
        "colab_type": "code",
        "colab": {}
      },
      "source": [
        "obj_series[1:4]"
      ],
      "execution_count": 0,
      "outputs": []
    },
    {
      "cell_type": "markdown",
      "metadata": {
        "id": "45lM7ONAmtDR",
        "colab_type": "text"
      },
      "source": [
        "**Video 2 : Pandas Apa Itu Series Perbedaan List dan Series**"
      ]
    },
    {
      "cell_type": "code",
      "metadata": {
        "id": "bSVMAIJMmwHy",
        "colab_type": "code",
        "colab": {}
      },
      "source": [
        "print(obj_series)"
      ],
      "execution_count": 0,
      "outputs": []
    },
    {
      "cell_type": "code",
      "metadata": {
        "id": "5DgNd-gXtsKb",
        "colab_type": "code",
        "colab": {}
      },
      "source": [
        "print(a)"
      ],
      "execution_count": 0,
      "outputs": []
    },
    {
      "cell_type": "code",
      "metadata": {
        "id": "1d6srLd-tukx",
        "colab_type": "code",
        "colab": {}
      },
      "source": [
        "obj_series = pd.Series([1, 3, 5], index=['a', 'b', 'c'])"
      ],
      "execution_count": 0,
      "outputs": []
    },
    {
      "cell_type": "code",
      "metadata": {
        "id": "8PEHias_t21_",
        "colab_type": "code",
        "colab": {}
      },
      "source": [
        "obj_series"
      ],
      "execution_count": 0,
      "outputs": []
    },
    {
      "cell_type": "code",
      "metadata": {
        "id": "JW4fNIs2t5UL",
        "colab_type": "code",
        "colab": {}
      },
      "source": [
        "obj_series['b']"
      ],
      "execution_count": 0,
      "outputs": []
    },
    {
      "cell_type": "markdown",
      "metadata": {
        "id": "ktFyw-bit_jf",
        "colab_type": "text"
      },
      "source": [
        "**Video 3 : Pandas Apa Itu Series Perbedaan Dictionary dan Series**"
      ]
    },
    {
      "cell_type": "code",
      "metadata": {
        "id": "NkcGcZKHuUyF",
        "colab_type": "code",
        "colab": {}
      },
      "source": [
        "obj_dict = {\n",
        "    'a' : 1,\n",
        "    'b' : 2,\n",
        "    'a' : 10\n",
        "}"
      ],
      "execution_count": 0,
      "outputs": []
    },
    {
      "cell_type": "code",
      "metadata": {
        "id": "bkGFidbTuuT0",
        "colab_type": "code",
        "outputId": "7d4aeb1a-bf4f-4746-dfa1-07fe75902bab",
        "colab": {
          "base_uri": "https://localhost:8080/",
          "height": 34
        }
      },
      "source": [
        "obj_dict"
      ],
      "execution_count": 0,
      "outputs": [
        {
          "output_type": "execute_result",
          "data": {
            "text/plain": [
              "{'a': 10, 'b': 2}"
            ]
          },
          "metadata": {
            "tags": []
          },
          "execution_count": 20
        }
      ]
    },
    {
      "cell_type": "code",
      "metadata": {
        "id": "aysbj2YBu0_J",
        "colab_type": "code",
        "colab": {}
      },
      "source": [
        "# obj_series = pd.Series([1, 2, 10], index=['a', 'b', 'a'])\n",
        "obj_series = pd.Series([1, 2, 10], index=['a', 'b', 'c'])"
      ],
      "execution_count": 0,
      "outputs": []
    },
    {
      "cell_type": "code",
      "metadata": {
        "id": "B2nxFsKXu_ZI",
        "colab_type": "code",
        "outputId": "50008cbd-2bcf-476c-95c5-dbeb4c9a99fc",
        "colab": {
          "base_uri": "https://localhost:8080/",
          "height": 69
        }
      },
      "source": [
        "obj_series['a':'b']"
      ],
      "execution_count": 0,
      "outputs": [
        {
          "output_type": "execute_result",
          "data": {
            "text/plain": [
              "a    1\n",
              "b    2\n",
              "dtype: int64"
            ]
          },
          "metadata": {
            "tags": []
          },
          "execution_count": 25
        }
      ]
    },
    {
      "cell_type": "markdown",
      "metadata": {
        "id": "zyG9ExXSvUkc",
        "colab_type": "text"
      },
      "source": [
        "**Video 4 : Membaca dan Membuat Data**"
      ]
    },
    {
      "cell_type": "code",
      "metadata": {
        "id": "8bCZu25-vcnV",
        "colab_type": "code",
        "colab": {}
      },
      "source": [
        "df = pd.read_csv('namafile')"
      ],
      "execution_count": 0,
      "outputs": []
    },
    {
      "cell_type": "markdown",
      "metadata": {
        "id": "1c6RJ-YoiD6N",
        "colab_type": "text"
      },
      "source": [
        "# Day 2"
      ]
    },
    {
      "cell_type": "markdown",
      "metadata": {
        "id": "XQBTfZwciJ79",
        "colab_type": "text"
      },
      "source": [
        "**Video 1 : Belajar Data Science Pandas Series Memilih dan Mengindex Data 1**"
      ]
    },
    {
      "cell_type": "code",
      "metadata": {
        "id": "E3D1LSS9iH0l",
        "colab_type": "code",
        "colab": {}
      },
      "source": [
        "import pandas as pd"
      ],
      "execution_count": 0,
      "outputs": []
    },
    {
      "cell_type": "code",
      "metadata": {
        "id": "PUdJTrTxiX0g",
        "colab_type": "code",
        "colab": {}
      },
      "source": [
        "a = pd.Series([1, 3, 5, 7], index=['a', 'b', 'c', 'd'])"
      ],
      "execution_count": 0,
      "outputs": []
    },
    {
      "cell_type": "code",
      "metadata": {
        "id": "oPgHTfkqidaV",
        "colab_type": "code",
        "colab": {}
      },
      "source": [
        "a"
      ],
      "execution_count": 0,
      "outputs": []
    },
    {
      "cell_type": "code",
      "metadata": {
        "id": "LEuciG43ivOv",
        "colab_type": "code",
        "colab": {}
      },
      "source": [
        "a.keys()"
      ],
      "execution_count": 0,
      "outputs": []
    },
    {
      "cell_type": "code",
      "metadata": {
        "id": "weHnUkUDizhB",
        "colab_type": "code",
        "colab": {}
      },
      "source": [
        "list(a.items())"
      ],
      "execution_count": 0,
      "outputs": []
    },
    {
      "cell_type": "code",
      "metadata": {
        "id": "xWxC0EdGi6Xf",
        "colab_type": "code",
        "colab": {}
      },
      "source": [
        "for key, value in a.items():\n",
        "  print(key)\n",
        "  print(value)"
      ],
      "execution_count": 0,
      "outputs": []
    },
    {
      "cell_type": "code",
      "metadata": {
        "id": "E6QQ8bs9jDY6",
        "colab_type": "code",
        "colab": {}
      },
      "source": [
        "a['c']"
      ],
      "execution_count": 0,
      "outputs": []
    },
    {
      "cell_type": "code",
      "metadata": {
        "id": "UgVm122JjKWX",
        "colab_type": "code",
        "colab": {}
      },
      "source": [
        "a[0:2]"
      ],
      "execution_count": 0,
      "outputs": []
    },
    {
      "cell_type": "markdown",
      "metadata": {
        "id": "JY0eOh1vjnV_",
        "colab_type": "text"
      },
      "source": [
        "**Video 2 : Belajar Data Science Pandas Series Memilih dan Mengindex Data 2**"
      ]
    },
    {
      "cell_type": "code",
      "metadata": {
        "id": "TQR0K65ojqJ5",
        "colab_type": "code",
        "colab": {}
      },
      "source": [
        "a.loc['a':'c']"
      ],
      "execution_count": 0,
      "outputs": []
    },
    {
      "cell_type": "code",
      "metadata": {
        "id": "M8BcBMlvkDwU",
        "colab_type": "code",
        "colab": {}
      },
      "source": [
        "a.iloc[0:3]"
      ],
      "execution_count": 0,
      "outputs": []
    },
    {
      "cell_type": "markdown",
      "metadata": {
        "id": "yltoGeC9mes5",
        "colab_type": "text"
      },
      "source": [
        "**Video 3 : Belajar Data Science Pandas DataFrame Memilih dan Mengindex Data 1**"
      ]
    },
    {
      "cell_type": "code",
      "metadata": {
        "id": "Y42a7HNjmj8K",
        "colab_type": "code",
        "outputId": "5ac6a861-a875-4e53-8782-d8d38b782ae5",
        "colab": {
          "base_uri": "https://localhost:8080/",
          "height": 206
        }
      },
      "source": [
        "area = pd.Series({\n",
        "    'California': 423967, \n",
        "    'Texas': 695662,\n",
        "    'New York': 141297,\n",
        "    'Florida': 170312,\n",
        "    'Illinois': 149995\n",
        "})\n",
        "\n",
        "pop = pd.Series({\n",
        "    'California': 38332521, \n",
        "    'Texas': 26448193,\n",
        "    'New York': 19651127,\n",
        "    'Florida': 170312,\n",
        "    'Illinois': 12882135\n",
        "})\n",
        "\n",
        "data = pd.DataFrame({'area':area, 'pop':pop})\n",
        "data"
      ],
      "execution_count": 0,
      "outputs": [
        {
          "output_type": "execute_result",
          "data": {
            "text/html": [
              "<div>\n",
              "<style scoped>\n",
              "    .dataframe tbody tr th:only-of-type {\n",
              "        vertical-align: middle;\n",
              "    }\n",
              "\n",
              "    .dataframe tbody tr th {\n",
              "        vertical-align: top;\n",
              "    }\n",
              "\n",
              "    .dataframe thead th {\n",
              "        text-align: right;\n",
              "    }\n",
              "</style>\n",
              "<table border=\"1\" class=\"dataframe\">\n",
              "  <thead>\n",
              "    <tr style=\"text-align: right;\">\n",
              "      <th></th>\n",
              "      <th>area</th>\n",
              "      <th>pop</th>\n",
              "    </tr>\n",
              "  </thead>\n",
              "  <tbody>\n",
              "    <tr>\n",
              "      <th>California</th>\n",
              "      <td>423967</td>\n",
              "      <td>38332521</td>\n",
              "    </tr>\n",
              "    <tr>\n",
              "      <th>Texas</th>\n",
              "      <td>695662</td>\n",
              "      <td>26448193</td>\n",
              "    </tr>\n",
              "    <tr>\n",
              "      <th>New York</th>\n",
              "      <td>141297</td>\n",
              "      <td>19651127</td>\n",
              "    </tr>\n",
              "    <tr>\n",
              "      <th>Florida</th>\n",
              "      <td>170312</td>\n",
              "      <td>170312</td>\n",
              "    </tr>\n",
              "    <tr>\n",
              "      <th>Illinois</th>\n",
              "      <td>149995</td>\n",
              "      <td>12882135</td>\n",
              "    </tr>\n",
              "  </tbody>\n",
              "</table>\n",
              "</div>"
            ],
            "text/plain": [
              "              area       pop\n",
              "California  423967  38332521\n",
              "Texas       695662  26448193\n",
              "New York    141297  19651127\n",
              "Florida     170312    170312\n",
              "Illinois    149995  12882135"
            ]
          },
          "metadata": {
            "tags": []
          },
          "execution_count": 17
        }
      ]
    },
    {
      "cell_type": "code",
      "metadata": {
        "id": "DFpDoE7OvoYx",
        "colab_type": "code",
        "colab": {}
      },
      "source": [
        "data['area']"
      ],
      "execution_count": 0,
      "outputs": []
    },
    {
      "cell_type": "code",
      "metadata": {
        "id": "YhWIVVexvtFE",
        "colab_type": "code",
        "colab": {}
      },
      "source": [
        "type(data['area'])"
      ],
      "execution_count": 0,
      "outputs": []
    },
    {
      "cell_type": "code",
      "metadata": {
        "id": "caPS0wbWvyFy",
        "colab_type": "code",
        "colab": {}
      },
      "source": [
        "type(data[['area']])"
      ],
      "execution_count": 0,
      "outputs": []
    },
    {
      "cell_type": "code",
      "metadata": {
        "id": "Vn-qSVjpv1at",
        "colab_type": "code",
        "colab": {}
      },
      "source": [
        "data[['area']]"
      ],
      "execution_count": 0,
      "outputs": []
    },
    {
      "cell_type": "code",
      "metadata": {
        "id": "UKKxbcC-v5-F",
        "colab_type": "code",
        "colab": {}
      },
      "source": [
        "# Error\n",
        "# data.area 123 \n",
        "data.area"
      ],
      "execution_count": 0,
      "outputs": []
    },
    {
      "cell_type": "code",
      "metadata": {
        "id": "6XiV0_Q4v_Jd",
        "colab_type": "code",
        "colab": {}
      },
      "source": [
        "data['area'] is data.area"
      ],
      "execution_count": 0,
      "outputs": []
    },
    {
      "cell_type": "markdown",
      "metadata": {
        "id": "2iAPcJ0I47El",
        "colab_type": "text"
      },
      "source": [
        "**Video 4 : Belajar Data Science Pandas DataFrame Memilih dan Mengindex Data 2**"
      ]
    },
    {
      "cell_type": "code",
      "metadata": {
        "id": "d1b8wE8a5CzY",
        "colab_type": "code",
        "colab": {}
      },
      "source": [
        "data.loc['Texas':'Florida', 'area':'pop']"
      ],
      "execution_count": 0,
      "outputs": []
    },
    {
      "cell_type": "code",
      "metadata": {
        "id": "ZQtDCKYb5nYY",
        "colab_type": "code",
        "colab": {}
      },
      "source": [
        "data.iloc[2:5, 1:]"
      ],
      "execution_count": 0,
      "outputs": []
    },
    {
      "cell_type": "code",
      "metadata": {
        "id": "LmefEoGr5sQ9",
        "colab_type": "code",
        "colab": {}
      },
      "source": [
        "data.iloc[2:5, :]"
      ],
      "execution_count": 0,
      "outputs": []
    },
    {
      "cell_type": "markdown",
      "metadata": {
        "id": "y8c5G9N6--NJ",
        "colab_type": "text"
      },
      "source": [
        "**Video 5 : Belajar Data Science Pandas DataFrame Filter Data Dengan Logic Operator**"
      ]
    },
    {
      "cell_type": "code",
      "metadata": {
        "id": "KewZpmaH-9Mv",
        "colab_type": "code",
        "colab": {}
      },
      "source": [
        "data['pop'] > 20000000"
      ],
      "execution_count": 0,
      "outputs": []
    },
    {
      "cell_type": "code",
      "metadata": {
        "id": "gc_I0rD-_d4l",
        "colab_type": "code",
        "colab": {}
      },
      "source": [
        "pop_15jt_lbh = data['pop'] > 15000000\n",
        "area_150rb_lbh = data['area'] > 15000"
      ],
      "execution_count": 0,
      "outputs": []
    },
    {
      "cell_type": "code",
      "metadata": {
        "id": "1WXNBjnk_ubH",
        "colab_type": "code",
        "colab": {}
      },
      "source": [
        "pop_15jt_lbh"
      ],
      "execution_count": 0,
      "outputs": []
    },
    {
      "cell_type": "code",
      "metadata": {
        "id": "JuWqXmb5AYuR",
        "colab_type": "code",
        "colab": {}
      },
      "source": [
        "area_150rb_lbh"
      ],
      "execution_count": 0,
      "outputs": []
    },
    {
      "cell_type": "code",
      "metadata": {
        "id": "d34AEfsS__Y4",
        "colab_type": "code",
        "colab": {}
      },
      "source": [
        "data[(pop_15jt_lbh) & (area_150rb_lbh)]"
      ],
      "execution_count": 0,
      "outputs": []
    },
    {
      "cell_type": "code",
      "metadata": {
        "id": "FgGY4WzjAq-b",
        "colab_type": "code",
        "colab": {}
      },
      "source": [
        "data[(pop_15jt_lbh) | (area_150rb_lbh)]"
      ],
      "execution_count": 0,
      "outputs": []
    },
    {
      "cell_type": "markdown",
      "metadata": {
        "id": "4guZD6tUE7H9",
        "colab_type": "text"
      },
      "source": [
        "**Video 6 : Belajar Data Science Pandas Data Transformasi**"
      ]
    },
    {
      "cell_type": "code",
      "metadata": {
        "id": "_PewpyUJFPGa",
        "colab_type": "code",
        "colab": {}
      },
      "source": [
        "def pop_5(x):\n",
        "  z = x + 0.2 * x\n",
        "  return z"
      ],
      "execution_count": 0,
      "outputs": []
    },
    {
      "cell_type": "code",
      "metadata": {
        "id": "bbPM5dsTFBZm",
        "colab_type": "code",
        "colab": {}
      },
      "source": [
        "data[['pop']].apply(pop_5)"
      ],
      "execution_count": 0,
      "outputs": []
    },
    {
      "cell_type": "code",
      "metadata": {
        "id": "onWq62UYFkR9",
        "colab_type": "code",
        "colab": {}
      },
      "source": [
        "data"
      ],
      "execution_count": 0,
      "outputs": []
    },
    {
      "cell_type": "code",
      "metadata": {
        "id": "_VezCfCbFp7S",
        "colab_type": "code",
        "colab": {}
      },
      "source": [
        "data['pop_5'] = data[['pop']].apply(pop_5)"
      ],
      "execution_count": 0,
      "outputs": []
    },
    {
      "cell_type": "code",
      "metadata": {
        "id": "E2E80UdfFuGd",
        "colab_type": "code",
        "colab": {}
      },
      "source": [
        "data"
      ],
      "execution_count": 0,
      "outputs": []
    },
    {
      "cell_type": "markdown",
      "metadata": {
        "id": "1YSMKYotW3ho",
        "colab_type": "text"
      },
      "source": [
        "# Day 3"
      ]
    },
    {
      "cell_type": "markdown",
      "metadata": {
        "id": "DIvqGTLrc6NV",
        "colab_type": "text"
      },
      "source": [
        "**Video 1 : Belajar Pandas : Mengubah Struktur Data dengan Teknik Pivoting**"
      ]
    },
    {
      "cell_type": "code",
      "metadata": {
        "id": "PTL3MT6zW9rF",
        "colab_type": "code",
        "colab": {}
      },
      "source": [
        "import pandas as pd"
      ],
      "execution_count": 0,
      "outputs": []
    },
    {
      "cell_type": "code",
      "metadata": {
        "id": "tSBYjQgpcU38",
        "colab_type": "code",
        "colab": {}
      },
      "source": [
        "penjualan = {\n",
        "    'toko':['Bandung','Garut','Jakarta','Garut','Bandung','Jakarta'],\n",
        "    'Barang':['Telur','Telur','Telur','Minyak','Minyak','Minyak'],\n",
        "    'Hasil':[200000,300000,150000,100000,120000,400000]\n",
        "}"
      ],
      "execution_count": 0,
      "outputs": []
    },
    {
      "cell_type": "code",
      "metadata": {
        "id": "A_10J3j6dc04",
        "colab_type": "code",
        "colab": {}
      },
      "source": [
        "df = pd.DataFrame(penjualan)"
      ],
      "execution_count": 0,
      "outputs": []
    },
    {
      "cell_type": "code",
      "metadata": {
        "id": "xzoIE3CAdipx",
        "colab_type": "code",
        "colab": {}
      },
      "source": [
        "df"
      ],
      "execution_count": 0,
      "outputs": []
    },
    {
      "cell_type": "code",
      "metadata": {
        "id": "-8yMBn_BdpwE",
        "colab_type": "code",
        "colab": {}
      },
      "source": [
        "df.pivot_table?"
      ],
      "execution_count": 0,
      "outputs": []
    },
    {
      "cell_type": "code",
      "metadata": {
        "id": "d9TcH6ItvHIy",
        "colab_type": "code",
        "colab": {}
      },
      "source": [
        "df.pivot_table(index='toko', columns='Barang', values='Hasil')"
      ],
      "execution_count": 0,
      "outputs": []
    },
    {
      "cell_type": "code",
      "metadata": {
        "id": "MRwXEqsOvZnx",
        "colab_type": "code",
        "colab": {}
      },
      "source": [
        "penjualan2 = {\n",
        "    'toko':['Bandung','Garut','Jakarta','Garut','Bandung','Jakarta'],\n",
        "    'Barang':['Telur','Telur','Telur','Minyak','Minyak','Minyak'],\n",
        "    'Hasil':[240000,320000,200000,300000,150000,200000]\n",
        "}"
      ],
      "execution_count": 0,
      "outputs": []
    },
    {
      "cell_type": "code",
      "metadata": {
        "id": "00a_Fp43vgkg",
        "colab_type": "code",
        "colab": {}
      },
      "source": [
        "df2 = pd.DataFrame(penjualan2)"
      ],
      "execution_count": 0,
      "outputs": []
    },
    {
      "cell_type": "code",
      "metadata": {
        "id": "Ewl41_muvoZh",
        "colab_type": "code",
        "colab": {}
      },
      "source": [
        "df2"
      ],
      "execution_count": 0,
      "outputs": []
    },
    {
      "cell_type": "code",
      "metadata": {
        "id": "dXlT-P8Avr1r",
        "colab_type": "code",
        "colab": {}
      },
      "source": [
        "df_gabung = df.append(df2, ignore_index=True)"
      ],
      "execution_count": 0,
      "outputs": []
    },
    {
      "cell_type": "code",
      "metadata": {
        "id": "pjF-gTG9vyaq",
        "colab_type": "code",
        "outputId": "719a3e1a-7d80-4a79-cc3b-e9ebf7ba18ce",
        "colab": {
          "base_uri": "https://localhost:8080/",
          "height": 426
        }
      },
      "source": [
        "df_gabung"
      ],
      "execution_count": 0,
      "outputs": [
        {
          "output_type": "execute_result",
          "data": {
            "text/html": [
              "<div>\n",
              "<style scoped>\n",
              "    .dataframe tbody tr th:only-of-type {\n",
              "        vertical-align: middle;\n",
              "    }\n",
              "\n",
              "    .dataframe tbody tr th {\n",
              "        vertical-align: top;\n",
              "    }\n",
              "\n",
              "    .dataframe thead th {\n",
              "        text-align: right;\n",
              "    }\n",
              "</style>\n",
              "<table border=\"1\" class=\"dataframe\">\n",
              "  <thead>\n",
              "    <tr style=\"text-align: right;\">\n",
              "      <th></th>\n",
              "      <th>toko</th>\n",
              "      <th>Barang</th>\n",
              "      <th>Hasil</th>\n",
              "    </tr>\n",
              "  </thead>\n",
              "  <tbody>\n",
              "    <tr>\n",
              "      <th>0</th>\n",
              "      <td>Bandung</td>\n",
              "      <td>Telur</td>\n",
              "      <td>200000</td>\n",
              "    </tr>\n",
              "    <tr>\n",
              "      <th>1</th>\n",
              "      <td>Garut</td>\n",
              "      <td>Telur</td>\n",
              "      <td>300000</td>\n",
              "    </tr>\n",
              "    <tr>\n",
              "      <th>2</th>\n",
              "      <td>Jakarta</td>\n",
              "      <td>Telur</td>\n",
              "      <td>150000</td>\n",
              "    </tr>\n",
              "    <tr>\n",
              "      <th>3</th>\n",
              "      <td>Garut</td>\n",
              "      <td>Minyak</td>\n",
              "      <td>100000</td>\n",
              "    </tr>\n",
              "    <tr>\n",
              "      <th>4</th>\n",
              "      <td>Bandung</td>\n",
              "      <td>Minyak</td>\n",
              "      <td>120000</td>\n",
              "    </tr>\n",
              "    <tr>\n",
              "      <th>5</th>\n",
              "      <td>Jakarta</td>\n",
              "      <td>Minyak</td>\n",
              "      <td>400000</td>\n",
              "    </tr>\n",
              "    <tr>\n",
              "      <th>6</th>\n",
              "      <td>Bandung</td>\n",
              "      <td>Telur</td>\n",
              "      <td>240000</td>\n",
              "    </tr>\n",
              "    <tr>\n",
              "      <th>7</th>\n",
              "      <td>Garut</td>\n",
              "      <td>Telur</td>\n",
              "      <td>320000</td>\n",
              "    </tr>\n",
              "    <tr>\n",
              "      <th>8</th>\n",
              "      <td>Jakarta</td>\n",
              "      <td>Telur</td>\n",
              "      <td>200000</td>\n",
              "    </tr>\n",
              "    <tr>\n",
              "      <th>9</th>\n",
              "      <td>Garut</td>\n",
              "      <td>Minyak</td>\n",
              "      <td>300000</td>\n",
              "    </tr>\n",
              "    <tr>\n",
              "      <th>10</th>\n",
              "      <td>Bandung</td>\n",
              "      <td>Minyak</td>\n",
              "      <td>150000</td>\n",
              "    </tr>\n",
              "    <tr>\n",
              "      <th>11</th>\n",
              "      <td>Jakarta</td>\n",
              "      <td>Minyak</td>\n",
              "      <td>200000</td>\n",
              "    </tr>\n",
              "  </tbody>\n",
              "</table>\n",
              "</div>"
            ],
            "text/plain": [
              "       toko  Barang   Hasil\n",
              "0   Bandung   Telur  200000\n",
              "1     Garut   Telur  300000\n",
              "2   Jakarta   Telur  150000\n",
              "3     Garut  Minyak  100000\n",
              "4   Bandung  Minyak  120000\n",
              "5   Jakarta  Minyak  400000\n",
              "6   Bandung   Telur  240000\n",
              "7     Garut   Telur  320000\n",
              "8   Jakarta   Telur  200000\n",
              "9     Garut  Minyak  300000\n",
              "10  Bandung  Minyak  150000\n",
              "11  Jakarta  Minyak  200000"
            ]
          },
          "metadata": {
            "tags": []
          },
          "execution_count": 54
        }
      ]
    },
    {
      "cell_type": "code",
      "metadata": {
        "id": "amewX5G5vySI",
        "colab_type": "code",
        "colab": {}
      },
      "source": [
        "# aggfunc default mean\n",
        "df_gabung.pivot_table(index='toko', columns='Barang', values='Hasil')"
      ],
      "execution_count": 0,
      "outputs": []
    },
    {
      "cell_type": "code",
      "metadata": {
        "id": "DP91AcvnxBdJ",
        "colab_type": "code",
        "outputId": "d818d4fa-3adf-4889-98b5-0428d7e39c9e",
        "colab": {
          "base_uri": "https://localhost:8080/",
          "height": 175
        }
      },
      "source": [
        "# aggfunc = sum\n",
        "df_gabung.pivot_table(index='toko', columns='Barang', values='Hasil', aggfunc='sum')"
      ],
      "execution_count": 0,
      "outputs": [
        {
          "output_type": "execute_result",
          "data": {
            "text/html": [
              "<div>\n",
              "<style scoped>\n",
              "    .dataframe tbody tr th:only-of-type {\n",
              "        vertical-align: middle;\n",
              "    }\n",
              "\n",
              "    .dataframe tbody tr th {\n",
              "        vertical-align: top;\n",
              "    }\n",
              "\n",
              "    .dataframe thead th {\n",
              "        text-align: right;\n",
              "    }\n",
              "</style>\n",
              "<table border=\"1\" class=\"dataframe\">\n",
              "  <thead>\n",
              "    <tr style=\"text-align: right;\">\n",
              "      <th>Barang</th>\n",
              "      <th>Minyak</th>\n",
              "      <th>Telur</th>\n",
              "    </tr>\n",
              "    <tr>\n",
              "      <th>toko</th>\n",
              "      <th></th>\n",
              "      <th></th>\n",
              "    </tr>\n",
              "  </thead>\n",
              "  <tbody>\n",
              "    <tr>\n",
              "      <th>Bandung</th>\n",
              "      <td>270000</td>\n",
              "      <td>440000</td>\n",
              "    </tr>\n",
              "    <tr>\n",
              "      <th>Garut</th>\n",
              "      <td>400000</td>\n",
              "      <td>620000</td>\n",
              "    </tr>\n",
              "    <tr>\n",
              "      <th>Jakarta</th>\n",
              "      <td>600000</td>\n",
              "      <td>350000</td>\n",
              "    </tr>\n",
              "  </tbody>\n",
              "</table>\n",
              "</div>"
            ],
            "text/plain": [
              "Barang   Minyak   Telur\n",
              "toko                   \n",
              "Bandung  270000  440000\n",
              "Garut    400000  620000\n",
              "Jakarta  600000  350000"
            ]
          },
          "metadata": {
            "tags": []
          },
          "execution_count": 55
        }
      ]
    },
    {
      "cell_type": "markdown",
      "metadata": {
        "id": "AKopFdy8yQgo",
        "colab_type": "text"
      },
      "source": [
        "**Video 2 : Belajar Pandas : Mengubah Struktur Data dengan Teknik Melting**"
      ]
    },
    {
      "cell_type": "code",
      "metadata": {
        "id": "p9zaiNxfybz1",
        "colab_type": "code",
        "colab": {}
      },
      "source": [
        "penjualan = {\n",
        "    'toko':['Bandung','Garut','Jakarta','Garut','Bandung','Jakarta'],\n",
        "    'Barang':['Telur','Telur','Telur','Minyak','Minyak','Minyak'],\n",
        "    'Hasil':[200000,300000,150000,100000,120000,400000]\n",
        "}\n",
        "\n",
        "penjualan2 = {\n",
        "    'toko':['Bandung','Garut','Jakarta'],\n",
        "    'Telur':[200000,300000,150000],\n",
        "    'Minyak':[120000,100000,400000]\n",
        "}"
      ],
      "execution_count": 0,
      "outputs": []
    },
    {
      "cell_type": "code",
      "metadata": {
        "id": "q-O_3oyWy7yI",
        "colab_type": "code",
        "colab": {}
      },
      "source": [
        "original_df = pd.DataFrame(penjualan)\n",
        "current_df = pd.DataFrame(penjualan2)"
      ],
      "execution_count": 0,
      "outputs": []
    },
    {
      "cell_type": "code",
      "metadata": {
        "id": "3EhD0nKIzTsr",
        "colab_type": "code",
        "outputId": "5897d428-0aab-4375-97f0-f4fa3ab16801",
        "colab": {
          "base_uri": "https://localhost:8080/",
          "height": 238
        }
      },
      "source": [
        "original_df"
      ],
      "execution_count": 0,
      "outputs": [
        {
          "output_type": "execute_result",
          "data": {
            "text/html": [
              "<div>\n",
              "<style scoped>\n",
              "    .dataframe tbody tr th:only-of-type {\n",
              "        vertical-align: middle;\n",
              "    }\n",
              "\n",
              "    .dataframe tbody tr th {\n",
              "        vertical-align: top;\n",
              "    }\n",
              "\n",
              "    .dataframe thead th {\n",
              "        text-align: right;\n",
              "    }\n",
              "</style>\n",
              "<table border=\"1\" class=\"dataframe\">\n",
              "  <thead>\n",
              "    <tr style=\"text-align: right;\">\n",
              "      <th></th>\n",
              "      <th>toko</th>\n",
              "      <th>Barang</th>\n",
              "      <th>Hasil</th>\n",
              "    </tr>\n",
              "  </thead>\n",
              "  <tbody>\n",
              "    <tr>\n",
              "      <th>0</th>\n",
              "      <td>Bandung</td>\n",
              "      <td>Telur</td>\n",
              "      <td>200000</td>\n",
              "    </tr>\n",
              "    <tr>\n",
              "      <th>1</th>\n",
              "      <td>Garut</td>\n",
              "      <td>Telur</td>\n",
              "      <td>300000</td>\n",
              "    </tr>\n",
              "    <tr>\n",
              "      <th>2</th>\n",
              "      <td>Jakarta</td>\n",
              "      <td>Telur</td>\n",
              "      <td>150000</td>\n",
              "    </tr>\n",
              "    <tr>\n",
              "      <th>3</th>\n",
              "      <td>Garut</td>\n",
              "      <td>Minyak</td>\n",
              "      <td>100000</td>\n",
              "    </tr>\n",
              "    <tr>\n",
              "      <th>4</th>\n",
              "      <td>Bandung</td>\n",
              "      <td>Minyak</td>\n",
              "      <td>120000</td>\n",
              "    </tr>\n",
              "    <tr>\n",
              "      <th>5</th>\n",
              "      <td>Jakarta</td>\n",
              "      <td>Minyak</td>\n",
              "      <td>400000</td>\n",
              "    </tr>\n",
              "  </tbody>\n",
              "</table>\n",
              "</div>"
            ],
            "text/plain": [
              "      toko  Barang   Hasil\n",
              "0  Bandung   Telur  200000\n",
              "1    Garut   Telur  300000\n",
              "2  Jakarta   Telur  150000\n",
              "3    Garut  Minyak  100000\n",
              "4  Bandung  Minyak  120000\n",
              "5  Jakarta  Minyak  400000"
            ]
          },
          "metadata": {
            "tags": []
          },
          "execution_count": 43
        }
      ]
    },
    {
      "cell_type": "code",
      "metadata": {
        "id": "fyvyJTY_zVxU",
        "colab_type": "code",
        "outputId": "7f5fe978-d826-4778-a79f-45ff1973f0f5",
        "colab": {
          "base_uri": "https://localhost:8080/",
          "height": 143
        }
      },
      "source": [
        "current_df"
      ],
      "execution_count": 0,
      "outputs": [
        {
          "output_type": "execute_result",
          "data": {
            "text/html": [
              "<div>\n",
              "<style scoped>\n",
              "    .dataframe tbody tr th:only-of-type {\n",
              "        vertical-align: middle;\n",
              "    }\n",
              "\n",
              "    .dataframe tbody tr th {\n",
              "        vertical-align: top;\n",
              "    }\n",
              "\n",
              "    .dataframe thead th {\n",
              "        text-align: right;\n",
              "    }\n",
              "</style>\n",
              "<table border=\"1\" class=\"dataframe\">\n",
              "  <thead>\n",
              "    <tr style=\"text-align: right;\">\n",
              "      <th></th>\n",
              "      <th>toko</th>\n",
              "      <th>Telur</th>\n",
              "      <th>Minyak</th>\n",
              "    </tr>\n",
              "  </thead>\n",
              "  <tbody>\n",
              "    <tr>\n",
              "      <th>0</th>\n",
              "      <td>Bandung</td>\n",
              "      <td>200000</td>\n",
              "      <td>120000</td>\n",
              "    </tr>\n",
              "    <tr>\n",
              "      <th>1</th>\n",
              "      <td>Garut</td>\n",
              "      <td>300000</td>\n",
              "      <td>100000</td>\n",
              "    </tr>\n",
              "    <tr>\n",
              "      <th>2</th>\n",
              "      <td>Jakarta</td>\n",
              "      <td>150000</td>\n",
              "      <td>400000</td>\n",
              "    </tr>\n",
              "  </tbody>\n",
              "</table>\n",
              "</div>"
            ],
            "text/plain": [
              "      toko   Telur  Minyak\n",
              "0  Bandung  200000  120000\n",
              "1    Garut  300000  100000\n",
              "2  Jakarta  150000  400000"
            ]
          },
          "metadata": {
            "tags": []
          },
          "execution_count": 44
        }
      ]
    },
    {
      "cell_type": "code",
      "metadata": {
        "id": "5--X0GHPzixu",
        "colab_type": "code",
        "outputId": "d98fda83-df14-425f-b459-9addf5722631",
        "colab": {
          "base_uri": "https://localhost:8080/",
          "height": 332
        }
      },
      "source": [
        "current_df.melt()"
      ],
      "execution_count": 0,
      "outputs": [
        {
          "output_type": "execute_result",
          "data": {
            "text/html": [
              "<div>\n",
              "<style scoped>\n",
              "    .dataframe tbody tr th:only-of-type {\n",
              "        vertical-align: middle;\n",
              "    }\n",
              "\n",
              "    .dataframe tbody tr th {\n",
              "        vertical-align: top;\n",
              "    }\n",
              "\n",
              "    .dataframe thead th {\n",
              "        text-align: right;\n",
              "    }\n",
              "</style>\n",
              "<table border=\"1\" class=\"dataframe\">\n",
              "  <thead>\n",
              "    <tr style=\"text-align: right;\">\n",
              "      <th></th>\n",
              "      <th>variable</th>\n",
              "      <th>value</th>\n",
              "    </tr>\n",
              "  </thead>\n",
              "  <tbody>\n",
              "    <tr>\n",
              "      <th>0</th>\n",
              "      <td>toko</td>\n",
              "      <td>Bandung</td>\n",
              "    </tr>\n",
              "    <tr>\n",
              "      <th>1</th>\n",
              "      <td>toko</td>\n",
              "      <td>Garut</td>\n",
              "    </tr>\n",
              "    <tr>\n",
              "      <th>2</th>\n",
              "      <td>toko</td>\n",
              "      <td>Jakarta</td>\n",
              "    </tr>\n",
              "    <tr>\n",
              "      <th>3</th>\n",
              "      <td>Telur</td>\n",
              "      <td>200000</td>\n",
              "    </tr>\n",
              "    <tr>\n",
              "      <th>4</th>\n",
              "      <td>Telur</td>\n",
              "      <td>300000</td>\n",
              "    </tr>\n",
              "    <tr>\n",
              "      <th>5</th>\n",
              "      <td>Telur</td>\n",
              "      <td>150000</td>\n",
              "    </tr>\n",
              "    <tr>\n",
              "      <th>6</th>\n",
              "      <td>Minyak</td>\n",
              "      <td>120000</td>\n",
              "    </tr>\n",
              "    <tr>\n",
              "      <th>7</th>\n",
              "      <td>Minyak</td>\n",
              "      <td>100000</td>\n",
              "    </tr>\n",
              "    <tr>\n",
              "      <th>8</th>\n",
              "      <td>Minyak</td>\n",
              "      <td>400000</td>\n",
              "    </tr>\n",
              "  </tbody>\n",
              "</table>\n",
              "</div>"
            ],
            "text/plain": [
              "  variable    value\n",
              "0     toko  Bandung\n",
              "1     toko    Garut\n",
              "2     toko  Jakarta\n",
              "3    Telur   200000\n",
              "4    Telur   300000\n",
              "5    Telur   150000\n",
              "6   Minyak   120000\n",
              "7   Minyak   100000\n",
              "8   Minyak   400000"
            ]
          },
          "metadata": {
            "tags": []
          },
          "execution_count": 45
        }
      ]
    },
    {
      "cell_type": "code",
      "metadata": {
        "id": "iFTgJQlM9aUc",
        "colab_type": "code",
        "colab": {}
      },
      "source": [
        "current_df.melt?"
      ],
      "execution_count": 0,
      "outputs": []
    },
    {
      "cell_type": "code",
      "metadata": {
        "id": "L0-tWNRF9lnj",
        "colab_type": "code",
        "outputId": "3e0f3ef8-3529-44e4-a708-5ec3c8be69cd",
        "colab": {
          "base_uri": "https://localhost:8080/",
          "height": 238
        }
      },
      "source": [
        "current_df.melt(id_vars=['toko'])"
      ],
      "execution_count": 0,
      "outputs": [
        {
          "output_type": "execute_result",
          "data": {
            "text/html": [
              "<div>\n",
              "<style scoped>\n",
              "    .dataframe tbody tr th:only-of-type {\n",
              "        vertical-align: middle;\n",
              "    }\n",
              "\n",
              "    .dataframe tbody tr th {\n",
              "        vertical-align: top;\n",
              "    }\n",
              "\n",
              "    .dataframe thead th {\n",
              "        text-align: right;\n",
              "    }\n",
              "</style>\n",
              "<table border=\"1\" class=\"dataframe\">\n",
              "  <thead>\n",
              "    <tr style=\"text-align: right;\">\n",
              "      <th></th>\n",
              "      <th>toko</th>\n",
              "      <th>variable</th>\n",
              "      <th>value</th>\n",
              "    </tr>\n",
              "  </thead>\n",
              "  <tbody>\n",
              "    <tr>\n",
              "      <th>0</th>\n",
              "      <td>Bandung</td>\n",
              "      <td>Telur</td>\n",
              "      <td>200000</td>\n",
              "    </tr>\n",
              "    <tr>\n",
              "      <th>1</th>\n",
              "      <td>Garut</td>\n",
              "      <td>Telur</td>\n",
              "      <td>300000</td>\n",
              "    </tr>\n",
              "    <tr>\n",
              "      <th>2</th>\n",
              "      <td>Jakarta</td>\n",
              "      <td>Telur</td>\n",
              "      <td>150000</td>\n",
              "    </tr>\n",
              "    <tr>\n",
              "      <th>3</th>\n",
              "      <td>Bandung</td>\n",
              "      <td>Minyak</td>\n",
              "      <td>120000</td>\n",
              "    </tr>\n",
              "    <tr>\n",
              "      <th>4</th>\n",
              "      <td>Garut</td>\n",
              "      <td>Minyak</td>\n",
              "      <td>100000</td>\n",
              "    </tr>\n",
              "    <tr>\n",
              "      <th>5</th>\n",
              "      <td>Jakarta</td>\n",
              "      <td>Minyak</td>\n",
              "      <td>400000</td>\n",
              "    </tr>\n",
              "  </tbody>\n",
              "</table>\n",
              "</div>"
            ],
            "text/plain": [
              "      toko variable   value\n",
              "0  Bandung    Telur  200000\n",
              "1    Garut    Telur  300000\n",
              "2  Jakarta    Telur  150000\n",
              "3  Bandung   Minyak  120000\n",
              "4    Garut   Minyak  100000\n",
              "5  Jakarta   Minyak  400000"
            ]
          },
          "metadata": {
            "tags": []
          },
          "execution_count": 46
        }
      ]
    },
    {
      "cell_type": "code",
      "metadata": {
        "id": "f4HQFDWu9uay",
        "colab_type": "code",
        "colab": {}
      },
      "source": [
        "current_df.melt(id_vars=['toko'], value_vars=['Telur'])"
      ],
      "execution_count": 0,
      "outputs": []
    },
    {
      "cell_type": "code",
      "metadata": {
        "id": "zHurkloM_Hhd",
        "colab_type": "code",
        "outputId": "1d556ab4-40a4-4666-ea53-a03a40f697fe",
        "colab": {
          "base_uri": "https://localhost:8080/",
          "height": 238
        }
      },
      "source": [
        "current_df.melt(id_vars=['toko'], value_vars=['Telur', 'Minyak'])"
      ],
      "execution_count": 0,
      "outputs": [
        {
          "output_type": "execute_result",
          "data": {
            "text/html": [
              "<div>\n",
              "<style scoped>\n",
              "    .dataframe tbody tr th:only-of-type {\n",
              "        vertical-align: middle;\n",
              "    }\n",
              "\n",
              "    .dataframe tbody tr th {\n",
              "        vertical-align: top;\n",
              "    }\n",
              "\n",
              "    .dataframe thead th {\n",
              "        text-align: right;\n",
              "    }\n",
              "</style>\n",
              "<table border=\"1\" class=\"dataframe\">\n",
              "  <thead>\n",
              "    <tr style=\"text-align: right;\">\n",
              "      <th></th>\n",
              "      <th>toko</th>\n",
              "      <th>variable</th>\n",
              "      <th>value</th>\n",
              "    </tr>\n",
              "  </thead>\n",
              "  <tbody>\n",
              "    <tr>\n",
              "      <th>0</th>\n",
              "      <td>Bandung</td>\n",
              "      <td>Telur</td>\n",
              "      <td>200000</td>\n",
              "    </tr>\n",
              "    <tr>\n",
              "      <th>1</th>\n",
              "      <td>Garut</td>\n",
              "      <td>Telur</td>\n",
              "      <td>300000</td>\n",
              "    </tr>\n",
              "    <tr>\n",
              "      <th>2</th>\n",
              "      <td>Jakarta</td>\n",
              "      <td>Telur</td>\n",
              "      <td>150000</td>\n",
              "    </tr>\n",
              "    <tr>\n",
              "      <th>3</th>\n",
              "      <td>Bandung</td>\n",
              "      <td>Minyak</td>\n",
              "      <td>120000</td>\n",
              "    </tr>\n",
              "    <tr>\n",
              "      <th>4</th>\n",
              "      <td>Garut</td>\n",
              "      <td>Minyak</td>\n",
              "      <td>100000</td>\n",
              "    </tr>\n",
              "    <tr>\n",
              "      <th>5</th>\n",
              "      <td>Jakarta</td>\n",
              "      <td>Minyak</td>\n",
              "      <td>400000</td>\n",
              "    </tr>\n",
              "  </tbody>\n",
              "</table>\n",
              "</div>"
            ],
            "text/plain": [
              "      toko variable   value\n",
              "0  Bandung    Telur  200000\n",
              "1    Garut    Telur  300000\n",
              "2  Jakarta    Telur  150000\n",
              "3  Bandung   Minyak  120000\n",
              "4    Garut   Minyak  100000\n",
              "5  Jakarta   Minyak  400000"
            ]
          },
          "metadata": {
            "tags": []
          },
          "execution_count": 52
        }
      ]
    },
    {
      "cell_type": "code",
      "metadata": {
        "id": "d3FoK8g9_bN5",
        "colab_type": "code",
        "outputId": "48dfb25a-8d68-45f4-cac1-72a31bc57f5f",
        "colab": {
          "base_uri": "https://localhost:8080/",
          "height": 238
        }
      },
      "source": [
        "current_df.melt(id_vars=['toko'], value_vars=['Telur', 'Minyak'], var_name='Barang', value_name='Hasil')"
      ],
      "execution_count": 0,
      "outputs": [
        {
          "output_type": "execute_result",
          "data": {
            "text/html": [
              "<div>\n",
              "<style scoped>\n",
              "    .dataframe tbody tr th:only-of-type {\n",
              "        vertical-align: middle;\n",
              "    }\n",
              "\n",
              "    .dataframe tbody tr th {\n",
              "        vertical-align: top;\n",
              "    }\n",
              "\n",
              "    .dataframe thead th {\n",
              "        text-align: right;\n",
              "    }\n",
              "</style>\n",
              "<table border=\"1\" class=\"dataframe\">\n",
              "  <thead>\n",
              "    <tr style=\"text-align: right;\">\n",
              "      <th></th>\n",
              "      <th>toko</th>\n",
              "      <th>Barang</th>\n",
              "      <th>Hasil</th>\n",
              "    </tr>\n",
              "  </thead>\n",
              "  <tbody>\n",
              "    <tr>\n",
              "      <th>0</th>\n",
              "      <td>Bandung</td>\n",
              "      <td>Telur</td>\n",
              "      <td>200000</td>\n",
              "    </tr>\n",
              "    <tr>\n",
              "      <th>1</th>\n",
              "      <td>Garut</td>\n",
              "      <td>Telur</td>\n",
              "      <td>300000</td>\n",
              "    </tr>\n",
              "    <tr>\n",
              "      <th>2</th>\n",
              "      <td>Jakarta</td>\n",
              "      <td>Telur</td>\n",
              "      <td>150000</td>\n",
              "    </tr>\n",
              "    <tr>\n",
              "      <th>3</th>\n",
              "      <td>Bandung</td>\n",
              "      <td>Minyak</td>\n",
              "      <td>120000</td>\n",
              "    </tr>\n",
              "    <tr>\n",
              "      <th>4</th>\n",
              "      <td>Garut</td>\n",
              "      <td>Minyak</td>\n",
              "      <td>100000</td>\n",
              "    </tr>\n",
              "    <tr>\n",
              "      <th>5</th>\n",
              "      <td>Jakarta</td>\n",
              "      <td>Minyak</td>\n",
              "      <td>400000</td>\n",
              "    </tr>\n",
              "  </tbody>\n",
              "</table>\n",
              "</div>"
            ],
            "text/plain": [
              "      toko  Barang   Hasil\n",
              "0  Bandung   Telur  200000\n",
              "1    Garut   Telur  300000\n",
              "2  Jakarta   Telur  150000\n",
              "3  Bandung  Minyak  120000\n",
              "4    Garut  Minyak  100000\n",
              "5  Jakarta  Minyak  400000"
            ]
          },
          "metadata": {
            "tags": []
          },
          "execution_count": 51
        }
      ]
    },
    {
      "cell_type": "code",
      "metadata": {
        "id": "3biL_iQ8_rkA",
        "colab_type": "code",
        "outputId": "25f172ec-db4b-49b9-c2be-5c654a50cef4",
        "colab": {
          "base_uri": "https://localhost:8080/",
          "height": 238
        }
      },
      "source": [
        "original_df"
      ],
      "execution_count": 0,
      "outputs": [
        {
          "output_type": "execute_result",
          "data": {
            "text/html": [
              "<div>\n",
              "<style scoped>\n",
              "    .dataframe tbody tr th:only-of-type {\n",
              "        vertical-align: middle;\n",
              "    }\n",
              "\n",
              "    .dataframe tbody tr th {\n",
              "        vertical-align: top;\n",
              "    }\n",
              "\n",
              "    .dataframe thead th {\n",
              "        text-align: right;\n",
              "    }\n",
              "</style>\n",
              "<table border=\"1\" class=\"dataframe\">\n",
              "  <thead>\n",
              "    <tr style=\"text-align: right;\">\n",
              "      <th></th>\n",
              "      <th>toko</th>\n",
              "      <th>Barang</th>\n",
              "      <th>Hasil</th>\n",
              "    </tr>\n",
              "  </thead>\n",
              "  <tbody>\n",
              "    <tr>\n",
              "      <th>0</th>\n",
              "      <td>Bandung</td>\n",
              "      <td>Telur</td>\n",
              "      <td>200000</td>\n",
              "    </tr>\n",
              "    <tr>\n",
              "      <th>1</th>\n",
              "      <td>Garut</td>\n",
              "      <td>Telur</td>\n",
              "      <td>300000</td>\n",
              "    </tr>\n",
              "    <tr>\n",
              "      <th>2</th>\n",
              "      <td>Jakarta</td>\n",
              "      <td>Telur</td>\n",
              "      <td>150000</td>\n",
              "    </tr>\n",
              "    <tr>\n",
              "      <th>3</th>\n",
              "      <td>Garut</td>\n",
              "      <td>Minyak</td>\n",
              "      <td>100000</td>\n",
              "    </tr>\n",
              "    <tr>\n",
              "      <th>4</th>\n",
              "      <td>Bandung</td>\n",
              "      <td>Minyak</td>\n",
              "      <td>120000</td>\n",
              "    </tr>\n",
              "    <tr>\n",
              "      <th>5</th>\n",
              "      <td>Jakarta</td>\n",
              "      <td>Minyak</td>\n",
              "      <td>400000</td>\n",
              "    </tr>\n",
              "  </tbody>\n",
              "</table>\n",
              "</div>"
            ],
            "text/plain": [
              "      toko  Barang   Hasil\n",
              "0  Bandung   Telur  200000\n",
              "1    Garut   Telur  300000\n",
              "2  Jakarta   Telur  150000\n",
              "3    Garut  Minyak  100000\n",
              "4  Bandung  Minyak  120000\n",
              "5  Jakarta  Minyak  400000"
            ]
          },
          "metadata": {
            "tags": []
          },
          "execution_count": 50
        }
      ]
    },
    {
      "cell_type": "markdown",
      "metadata": {
        "id": "xceVlA_zArb_",
        "colab_type": "text"
      },
      "source": [
        "# Day 4"
      ]
    },
    {
      "cell_type": "markdown",
      "metadata": {
        "id": "SRWZFFaIAvtY",
        "colab_type": "text"
      },
      "source": [
        "**Video 1 : Belajar Pandas : Menggroup kan data**"
      ]
    },
    {
      "cell_type": "code",
      "metadata": {
        "id": "38GtkP72A4Zz",
        "colab_type": "code",
        "colab": {}
      },
      "source": [
        "import pandas as pd"
      ],
      "execution_count": 0,
      "outputs": []
    },
    {
      "cell_type": "code",
      "metadata": {
        "id": "OG1Ctm30AuBm",
        "colab_type": "code",
        "colab": {}
      },
      "source": [
        "penjualan = {\n",
        "    'Hari':['Hari-1']*6+['Hari-2']*6,\n",
        "    'toko':['Bandung','Garut','Jakarta','Garut','Bandung','Jakarta','Bandung','Garut','Jakarta','Garut','Bandung','Jakarta'],\n",
        "    'Barang':['Telur','Telur','Telur','Minyak','Minyak','Minyak','Telur','Telur','Telur','Minyak','Minyak','Minyak'],\n",
        "    'Pendapatan_Kotor':[200000,300000,150000,100000,120000,400000,240000,320000,200000,300000,150000,200000],\n",
        "    'Pendapatan_Bersih':[80000,100000,50000,50000,50000,200000,120000,150000,120000,100000,110000,90000]\n",
        "}"
      ],
      "execution_count": 0,
      "outputs": []
    },
    {
      "cell_type": "code",
      "metadata": {
        "id": "fySfJ44pB-aZ",
        "colab_type": "code",
        "outputId": "9e84eef7-f0b6-4c56-a59a-6924c209b23f",
        "colab": {
          "base_uri": "https://localhost:8080/",
          "height": 426
        }
      },
      "source": [
        "df = pd.DataFrame(penjualan)\n",
        "df"
      ],
      "execution_count": 0,
      "outputs": [
        {
          "output_type": "execute_result",
          "data": {
            "text/html": [
              "<div>\n",
              "<style scoped>\n",
              "    .dataframe tbody tr th:only-of-type {\n",
              "        vertical-align: middle;\n",
              "    }\n",
              "\n",
              "    .dataframe tbody tr th {\n",
              "        vertical-align: top;\n",
              "    }\n",
              "\n",
              "    .dataframe thead th {\n",
              "        text-align: right;\n",
              "    }\n",
              "</style>\n",
              "<table border=\"1\" class=\"dataframe\">\n",
              "  <thead>\n",
              "    <tr style=\"text-align: right;\">\n",
              "      <th></th>\n",
              "      <th>Hari</th>\n",
              "      <th>toko</th>\n",
              "      <th>Barang</th>\n",
              "      <th>Pendapatan_Kotor</th>\n",
              "      <th>Pendapatan_Bersih</th>\n",
              "    </tr>\n",
              "  </thead>\n",
              "  <tbody>\n",
              "    <tr>\n",
              "      <th>0</th>\n",
              "      <td>Hari-1</td>\n",
              "      <td>Bandung</td>\n",
              "      <td>Telur</td>\n",
              "      <td>200000</td>\n",
              "      <td>80000</td>\n",
              "    </tr>\n",
              "    <tr>\n",
              "      <th>1</th>\n",
              "      <td>Hari-1</td>\n",
              "      <td>Garut</td>\n",
              "      <td>Telur</td>\n",
              "      <td>300000</td>\n",
              "      <td>100000</td>\n",
              "    </tr>\n",
              "    <tr>\n",
              "      <th>2</th>\n",
              "      <td>Hari-1</td>\n",
              "      <td>Jakarta</td>\n",
              "      <td>Telur</td>\n",
              "      <td>150000</td>\n",
              "      <td>50000</td>\n",
              "    </tr>\n",
              "    <tr>\n",
              "      <th>3</th>\n",
              "      <td>Hari-1</td>\n",
              "      <td>Garut</td>\n",
              "      <td>Minyak</td>\n",
              "      <td>100000</td>\n",
              "      <td>50000</td>\n",
              "    </tr>\n",
              "    <tr>\n",
              "      <th>4</th>\n",
              "      <td>Hari-1</td>\n",
              "      <td>Bandung</td>\n",
              "      <td>Minyak</td>\n",
              "      <td>120000</td>\n",
              "      <td>50000</td>\n",
              "    </tr>\n",
              "    <tr>\n",
              "      <th>5</th>\n",
              "      <td>Hari-1</td>\n",
              "      <td>Jakarta</td>\n",
              "      <td>Minyak</td>\n",
              "      <td>400000</td>\n",
              "      <td>200000</td>\n",
              "    </tr>\n",
              "    <tr>\n",
              "      <th>6</th>\n",
              "      <td>Hari-2</td>\n",
              "      <td>Bandung</td>\n",
              "      <td>Telur</td>\n",
              "      <td>240000</td>\n",
              "      <td>120000</td>\n",
              "    </tr>\n",
              "    <tr>\n",
              "      <th>7</th>\n",
              "      <td>Hari-2</td>\n",
              "      <td>Garut</td>\n",
              "      <td>Telur</td>\n",
              "      <td>320000</td>\n",
              "      <td>150000</td>\n",
              "    </tr>\n",
              "    <tr>\n",
              "      <th>8</th>\n",
              "      <td>Hari-2</td>\n",
              "      <td>Jakarta</td>\n",
              "      <td>Telur</td>\n",
              "      <td>200000</td>\n",
              "      <td>120000</td>\n",
              "    </tr>\n",
              "    <tr>\n",
              "      <th>9</th>\n",
              "      <td>Hari-2</td>\n",
              "      <td>Garut</td>\n",
              "      <td>Minyak</td>\n",
              "      <td>300000</td>\n",
              "      <td>100000</td>\n",
              "    </tr>\n",
              "    <tr>\n",
              "      <th>10</th>\n",
              "      <td>Hari-2</td>\n",
              "      <td>Bandung</td>\n",
              "      <td>Minyak</td>\n",
              "      <td>150000</td>\n",
              "      <td>110000</td>\n",
              "    </tr>\n",
              "    <tr>\n",
              "      <th>11</th>\n",
              "      <td>Hari-2</td>\n",
              "      <td>Jakarta</td>\n",
              "      <td>Minyak</td>\n",
              "      <td>200000</td>\n",
              "      <td>90000</td>\n",
              "    </tr>\n",
              "  </tbody>\n",
              "</table>\n",
              "</div>"
            ],
            "text/plain": [
              "      Hari     toko  Barang  Pendapatan_Kotor  Pendapatan_Bersih\n",
              "0   Hari-1  Bandung   Telur            200000              80000\n",
              "1   Hari-1    Garut   Telur            300000             100000\n",
              "2   Hari-1  Jakarta   Telur            150000              50000\n",
              "3   Hari-1    Garut  Minyak            100000              50000\n",
              "4   Hari-1  Bandung  Minyak            120000              50000\n",
              "5   Hari-1  Jakarta  Minyak            400000             200000\n",
              "6   Hari-2  Bandung   Telur            240000             120000\n",
              "7   Hari-2    Garut   Telur            320000             150000\n",
              "8   Hari-2  Jakarta   Telur            200000             120000\n",
              "9   Hari-2    Garut  Minyak            300000             100000\n",
              "10  Hari-2  Bandung  Minyak            150000             110000\n",
              "11  Hari-2  Jakarta  Minyak            200000              90000"
            ]
          },
          "metadata": {
            "tags": []
          },
          "execution_count": 5
        }
      ]
    },
    {
      "cell_type": "code",
      "metadata": {
        "id": "ndurwtyHCOMD",
        "colab_type": "code",
        "colab": {}
      },
      "source": [
        "# Kita ingin mengetahui pendapatan bersih dan bersih berdasarkan hari\n",
        "df.groupby('Hari')"
      ],
      "execution_count": 0,
      "outputs": []
    },
    {
      "cell_type": "code",
      "metadata": {
        "id": "GRNd5w4WCeGQ",
        "colab_type": "code",
        "colab": {}
      },
      "source": [
        "# Aggregation contoh sum, std, min, max\n",
        "df.groupby('Hari').sum()"
      ],
      "execution_count": 0,
      "outputs": []
    },
    {
      "cell_type": "code",
      "metadata": {
        "id": "lWRDfwhHCzp2",
        "colab_type": "code",
        "colab": {}
      },
      "source": [
        "df.groupby(['Hari','toko'])"
      ],
      "execution_count": 0,
      "outputs": []
    },
    {
      "cell_type": "code",
      "metadata": {
        "id": "ZbINtkLbC_9p",
        "colab_type": "code",
        "colab": {}
      },
      "source": [
        "df.groupby(['Hari','toko']).sum()"
      ],
      "execution_count": 0,
      "outputs": []
    },
    {
      "cell_type": "markdown",
      "metadata": {
        "id": "a2ClHwokDP6h",
        "colab_type": "text"
      },
      "source": [
        "**Video 2 : Belajar Pandas : Grouping Data dan Aggregasi Data**"
      ]
    },
    {
      "cell_type": "code",
      "metadata": {
        "id": "fUfJttSWDSbW",
        "colab_type": "code",
        "colab": {}
      },
      "source": [
        "# Group by multiple columns\n",
        "# secara default semua column mengalami aggregation\n",
        "df.groupby('Hari').mean()"
      ],
      "execution_count": 0,
      "outputs": []
    },
    {
      "cell_type": "code",
      "metadata": {
        "id": "YE8kgcTSDrzr",
        "colab_type": "code",
        "colab": {}
      },
      "source": [
        "# group by dengan kolom tertentu\n",
        "# df.groupby('Hari')[['Pendapatan_Kotor','Pendapatan_Bersih']].mean()\n",
        "df.groupby('Hari')[['Pendapatan_Kotor']].mean()"
      ],
      "execution_count": 0,
      "outputs": []
    },
    {
      "cell_type": "code",
      "metadata": {
        "id": "TIV5IJsNDXmM",
        "colab_type": "code",
        "outputId": "b9536b9c-cc72-4b31-94ee-777d43a51606",
        "colab": {
          "base_uri": "https://localhost:8080/",
          "height": 175
        }
      },
      "source": [
        "# Group by multiple aggregation\n",
        "# melakukan banyak aggregation\n",
        "df.groupby('Hari')[['Pendapatan_Kotor','Pendapatan_Bersih']].agg(['mean','sum'])"
      ],
      "execution_count": 0,
      "outputs": [
        {
          "output_type": "execute_result",
          "data": {
            "text/html": [
              "<div>\n",
              "<style scoped>\n",
              "    .dataframe tbody tr th:only-of-type {\n",
              "        vertical-align: middle;\n",
              "    }\n",
              "\n",
              "    .dataframe tbody tr th {\n",
              "        vertical-align: top;\n",
              "    }\n",
              "\n",
              "    .dataframe thead tr th {\n",
              "        text-align: left;\n",
              "    }\n",
              "\n",
              "    .dataframe thead tr:last-of-type th {\n",
              "        text-align: right;\n",
              "    }\n",
              "</style>\n",
              "<table border=\"1\" class=\"dataframe\">\n",
              "  <thead>\n",
              "    <tr>\n",
              "      <th></th>\n",
              "      <th colspan=\"2\" halign=\"left\">Pendapatan_Kotor</th>\n",
              "      <th colspan=\"2\" halign=\"left\">Pendapatan_Bersih</th>\n",
              "    </tr>\n",
              "    <tr>\n",
              "      <th></th>\n",
              "      <th>mean</th>\n",
              "      <th>sum</th>\n",
              "      <th>mean</th>\n",
              "      <th>sum</th>\n",
              "    </tr>\n",
              "    <tr>\n",
              "      <th>Hari</th>\n",
              "      <th></th>\n",
              "      <th></th>\n",
              "      <th></th>\n",
              "      <th></th>\n",
              "    </tr>\n",
              "  </thead>\n",
              "  <tbody>\n",
              "    <tr>\n",
              "      <th>Hari-1</th>\n",
              "      <td>211666.666667</td>\n",
              "      <td>1270000</td>\n",
              "      <td>88333.333333</td>\n",
              "      <td>530000</td>\n",
              "    </tr>\n",
              "    <tr>\n",
              "      <th>Hari-2</th>\n",
              "      <td>235000.000000</td>\n",
              "      <td>1410000</td>\n",
              "      <td>115000.000000</td>\n",
              "      <td>690000</td>\n",
              "    </tr>\n",
              "  </tbody>\n",
              "</table>\n",
              "</div>"
            ],
            "text/plain": [
              "       Pendapatan_Kotor          Pendapatan_Bersih        \n",
              "                   mean      sum              mean     sum\n",
              "Hari                                                      \n",
              "Hari-1    211666.666667  1270000      88333.333333  530000\n",
              "Hari-2    235000.000000  1410000     115000.000000  690000"
            ]
          },
          "metadata": {
            "tags": []
          },
          "execution_count": 11
        }
      ]
    },
    {
      "cell_type": "code",
      "metadata": {
        "id": "gCiMU7JxDaSh",
        "colab_type": "code",
        "colab": {}
      },
      "source": [
        "# Group by with custom function\n",
        "# membuat aggregation sendiri\n",
        "def diff_min_max(x):\n",
        "  return x.max() - x.min()\n",
        "\n",
        "df.groupby('Hari')[['Pendapatan_Kotor','Pendapatan_Bersih']].agg(['mean',diff_min_max])"
      ],
      "execution_count": 0,
      "outputs": []
    },
    {
      "cell_type": "code",
      "metadata": {
        "id": "vod2xhvHENwj",
        "colab_type": "code",
        "outputId": "690fc2d8-9ede-4d31-c11d-eb242a8d0d48",
        "colab": {
          "base_uri": "https://localhost:8080/",
          "height": 143
        }
      },
      "source": [
        "# Custom aggregation with dictionaries\n",
        "# dapat melakukan aggregation yang berbeda setiap kolom\n",
        "df.groupby('Hari')[['Pendapatan_Kotor','Pendapatan_Bersih']].agg({'Pendapatan_Kotor':'sum','Pendapatan_Bersih':diff_min_max})"
      ],
      "execution_count": 0,
      "outputs": [
        {
          "output_type": "execute_result",
          "data": {
            "text/html": [
              "<div>\n",
              "<style scoped>\n",
              "    .dataframe tbody tr th:only-of-type {\n",
              "        vertical-align: middle;\n",
              "    }\n",
              "\n",
              "    .dataframe tbody tr th {\n",
              "        vertical-align: top;\n",
              "    }\n",
              "\n",
              "    .dataframe thead th {\n",
              "        text-align: right;\n",
              "    }\n",
              "</style>\n",
              "<table border=\"1\" class=\"dataframe\">\n",
              "  <thead>\n",
              "    <tr style=\"text-align: right;\">\n",
              "      <th></th>\n",
              "      <th>Pendapatan_Kotor</th>\n",
              "      <th>Pendapatan_Bersih</th>\n",
              "    </tr>\n",
              "    <tr>\n",
              "      <th>Hari</th>\n",
              "      <th></th>\n",
              "      <th></th>\n",
              "    </tr>\n",
              "  </thead>\n",
              "  <tbody>\n",
              "    <tr>\n",
              "      <th>Hari-1</th>\n",
              "      <td>1270000</td>\n",
              "      <td>150000</td>\n",
              "    </tr>\n",
              "    <tr>\n",
              "      <th>Hari-2</th>\n",
              "      <td>1410000</td>\n",
              "      <td>60000</td>\n",
              "    </tr>\n",
              "  </tbody>\n",
              "</table>\n",
              "</div>"
            ],
            "text/plain": [
              "        Pendapatan_Kotor  Pendapatan_Bersih\n",
              "Hari                                       \n",
              "Hari-1           1270000             150000\n",
              "Hari-2           1410000              60000"
            ]
          },
          "metadata": {
            "tags": []
          },
          "execution_count": 17
        }
      ]
    },
    {
      "cell_type": "markdown",
      "metadata": {
        "id": "IFNOgOOWfeB5",
        "colab_type": "text"
      },
      "source": [
        "# Day 5"
      ]
    },
    {
      "cell_type": "markdown",
      "metadata": {
        "id": "_J0Mwm8_fhLy",
        "colab_type": "text"
      },
      "source": [
        "**Video 1 : Belajar Pandas : Menggabungkan Data**"
      ]
    },
    {
      "cell_type": "code",
      "metadata": {
        "id": "573H52b_eXlb",
        "colab_type": "code",
        "colab": {}
      },
      "source": [
        "import pandas as pd"
      ],
      "execution_count": 0,
      "outputs": []
    },
    {
      "cell_type": "code",
      "metadata": {
        "id": "Dp16Z_9WMi5a",
        "colab_type": "code",
        "outputId": "82612acd-a11e-4079-eaf9-a543623d2cc1",
        "colab": {
          "base_uri": "https://localhost:8080/",
          "height": 206
        }
      },
      "source": [
        "# Dummy Data 1\n",
        "dummy_data1 = {\n",
        "    'id':['1','2','3','4','5'],\n",
        "    'Feature1':['A','C','E','G','I'],\n",
        "    'Feature2':['B','D','F','H','J']\n",
        "}\n",
        "\n",
        "df1 = pd.DataFrame(dummy_data1, columns=['id','Feature1','Feature2'])\n",
        "df1"
      ],
      "execution_count": 0,
      "outputs": [
        {
          "output_type": "execute_result",
          "data": {
            "text/html": [
              "<div>\n",
              "<style scoped>\n",
              "    .dataframe tbody tr th:only-of-type {\n",
              "        vertical-align: middle;\n",
              "    }\n",
              "\n",
              "    .dataframe tbody tr th {\n",
              "        vertical-align: top;\n",
              "    }\n",
              "\n",
              "    .dataframe thead th {\n",
              "        text-align: right;\n",
              "    }\n",
              "</style>\n",
              "<table border=\"1\" class=\"dataframe\">\n",
              "  <thead>\n",
              "    <tr style=\"text-align: right;\">\n",
              "      <th></th>\n",
              "      <th>id</th>\n",
              "      <th>Feature1</th>\n",
              "      <th>Feature2</th>\n",
              "    </tr>\n",
              "  </thead>\n",
              "  <tbody>\n",
              "    <tr>\n",
              "      <th>0</th>\n",
              "      <td>1</td>\n",
              "      <td>A</td>\n",
              "      <td>B</td>\n",
              "    </tr>\n",
              "    <tr>\n",
              "      <th>1</th>\n",
              "      <td>2</td>\n",
              "      <td>C</td>\n",
              "      <td>D</td>\n",
              "    </tr>\n",
              "    <tr>\n",
              "      <th>2</th>\n",
              "      <td>3</td>\n",
              "      <td>E</td>\n",
              "      <td>F</td>\n",
              "    </tr>\n",
              "    <tr>\n",
              "      <th>3</th>\n",
              "      <td>4</td>\n",
              "      <td>G</td>\n",
              "      <td>H</td>\n",
              "    </tr>\n",
              "    <tr>\n",
              "      <th>4</th>\n",
              "      <td>5</td>\n",
              "      <td>I</td>\n",
              "      <td>J</td>\n",
              "    </tr>\n",
              "  </tbody>\n",
              "</table>\n",
              "</div>"
            ],
            "text/plain": [
              "  id Feature1 Feature2\n",
              "0  1        A        B\n",
              "1  2        C        D\n",
              "2  3        E        F\n",
              "3  4        G        H\n",
              "4  5        I        J"
            ]
          },
          "metadata": {
            "tags": []
          },
          "execution_count": 18
        }
      ]
    },
    {
      "cell_type": "code",
      "metadata": {
        "id": "usG0uTvxNxen",
        "colab_type": "code",
        "outputId": "1432a5d7-cc93-4b7d-9157-2229b11d6edc",
        "colab": {
          "base_uri": "https://localhost:8080/",
          "height": 206
        }
      },
      "source": [
        "# Dummy Data 2\n",
        "dummy_data2 = {\n",
        "    'id':['1','2','6','7','8'],\n",
        "    'Feature1':['K','M','O','Q','S'],\n",
        "    'Feature2':['L','N','P','R','T']\n",
        "}\n",
        "\n",
        "df2 = pd.DataFrame(dummy_data2, columns=['id','Feature1','Feature2'])\n",
        "df2"
      ],
      "execution_count": 0,
      "outputs": [
        {
          "output_type": "execute_result",
          "data": {
            "text/html": [
              "<div>\n",
              "<style scoped>\n",
              "    .dataframe tbody tr th:only-of-type {\n",
              "        vertical-align: middle;\n",
              "    }\n",
              "\n",
              "    .dataframe tbody tr th {\n",
              "        vertical-align: top;\n",
              "    }\n",
              "\n",
              "    .dataframe thead th {\n",
              "        text-align: right;\n",
              "    }\n",
              "</style>\n",
              "<table border=\"1\" class=\"dataframe\">\n",
              "  <thead>\n",
              "    <tr style=\"text-align: right;\">\n",
              "      <th></th>\n",
              "      <th>id</th>\n",
              "      <th>Feature1</th>\n",
              "      <th>Feature2</th>\n",
              "    </tr>\n",
              "  </thead>\n",
              "  <tbody>\n",
              "    <tr>\n",
              "      <th>0</th>\n",
              "      <td>1</td>\n",
              "      <td>K</td>\n",
              "      <td>L</td>\n",
              "    </tr>\n",
              "    <tr>\n",
              "      <th>1</th>\n",
              "      <td>2</td>\n",
              "      <td>M</td>\n",
              "      <td>N</td>\n",
              "    </tr>\n",
              "    <tr>\n",
              "      <th>2</th>\n",
              "      <td>6</td>\n",
              "      <td>O</td>\n",
              "      <td>P</td>\n",
              "    </tr>\n",
              "    <tr>\n",
              "      <th>3</th>\n",
              "      <td>7</td>\n",
              "      <td>Q</td>\n",
              "      <td>R</td>\n",
              "    </tr>\n",
              "    <tr>\n",
              "      <th>4</th>\n",
              "      <td>8</td>\n",
              "      <td>S</td>\n",
              "      <td>T</td>\n",
              "    </tr>\n",
              "  </tbody>\n",
              "</table>\n",
              "</div>"
            ],
            "text/plain": [
              "  id Feature1 Feature2\n",
              "0  1        K        L\n",
              "1  2        M        N\n",
              "2  6        O        P\n",
              "3  7        Q        R\n",
              "4  8        S        T"
            ]
          },
          "metadata": {
            "tags": []
          },
          "execution_count": 19
        }
      ]
    },
    {
      "cell_type": "code",
      "metadata": {
        "id": "YuD2IktxN8-2",
        "colab_type": "code",
        "outputId": "d98d4387-f686-4ea6-e682-ef7d296aa841",
        "colab": {
          "base_uri": "https://localhost:8080/",
          "height": 363
        }
      },
      "source": [
        "# Dummy Data 3\n",
        "dummy_data3 = {\n",
        "    'id':['1','2','3','4','5','7','8','9','10','11'],\n",
        "    'Feature3':[12,13,14,15,16,17,15,12,13,23]\n",
        "}\n",
        "\n",
        "df3 = pd.DataFrame(dummy_data3, columns=['id','Feature3'])\n",
        "df3"
      ],
      "execution_count": 0,
      "outputs": [
        {
          "output_type": "execute_result",
          "data": {
            "text/html": [
              "<div>\n",
              "<style scoped>\n",
              "    .dataframe tbody tr th:only-of-type {\n",
              "        vertical-align: middle;\n",
              "    }\n",
              "\n",
              "    .dataframe tbody tr th {\n",
              "        vertical-align: top;\n",
              "    }\n",
              "\n",
              "    .dataframe thead th {\n",
              "        text-align: right;\n",
              "    }\n",
              "</style>\n",
              "<table border=\"1\" class=\"dataframe\">\n",
              "  <thead>\n",
              "    <tr style=\"text-align: right;\">\n",
              "      <th></th>\n",
              "      <th>id</th>\n",
              "      <th>Feature3</th>\n",
              "    </tr>\n",
              "  </thead>\n",
              "  <tbody>\n",
              "    <tr>\n",
              "      <th>0</th>\n",
              "      <td>1</td>\n",
              "      <td>12</td>\n",
              "    </tr>\n",
              "    <tr>\n",
              "      <th>1</th>\n",
              "      <td>2</td>\n",
              "      <td>13</td>\n",
              "    </tr>\n",
              "    <tr>\n",
              "      <th>2</th>\n",
              "      <td>3</td>\n",
              "      <td>14</td>\n",
              "    </tr>\n",
              "    <tr>\n",
              "      <th>3</th>\n",
              "      <td>4</td>\n",
              "      <td>15</td>\n",
              "    </tr>\n",
              "    <tr>\n",
              "      <th>4</th>\n",
              "      <td>5</td>\n",
              "      <td>16</td>\n",
              "    </tr>\n",
              "    <tr>\n",
              "      <th>5</th>\n",
              "      <td>7</td>\n",
              "      <td>17</td>\n",
              "    </tr>\n",
              "    <tr>\n",
              "      <th>6</th>\n",
              "      <td>8</td>\n",
              "      <td>15</td>\n",
              "    </tr>\n",
              "    <tr>\n",
              "      <th>7</th>\n",
              "      <td>9</td>\n",
              "      <td>12</td>\n",
              "    </tr>\n",
              "    <tr>\n",
              "      <th>8</th>\n",
              "      <td>10</td>\n",
              "      <td>13</td>\n",
              "    </tr>\n",
              "    <tr>\n",
              "      <th>9</th>\n",
              "      <td>11</td>\n",
              "      <td>23</td>\n",
              "    </tr>\n",
              "  </tbody>\n",
              "</table>\n",
              "</div>"
            ],
            "text/plain": [
              "   id  Feature3\n",
              "0   1        12\n",
              "1   2        13\n",
              "2   3        14\n",
              "3   4        15\n",
              "4   5        16\n",
              "5   7        17\n",
              "6   8        15\n",
              "7   9        12\n",
              "8  10        13\n",
              "9  11        23"
            ]
          },
          "metadata": {
            "tags": []
          },
          "execution_count": 22
        }
      ]
    },
    {
      "cell_type": "code",
      "metadata": {
        "id": "JwTY6AhKPC3L",
        "colab_type": "code",
        "colab": {}
      },
      "source": [
        "# Menggabungkan data 1 dan data 2, pada row\n",
        "df_list = [df1,df2]\n",
        "pd.concat(df_list)\n",
        "# index tidak unique"
      ],
      "execution_count": 0,
      "outputs": []
    },
    {
      "cell_type": "code",
      "metadata": {
        "id": "n-5s_m1vPhH8",
        "colab_type": "code",
        "colab": {}
      },
      "source": [
        "pd.concat(df_list,ignore_index=True)\n",
        "# index unique"
      ],
      "execution_count": 0,
      "outputs": []
    },
    {
      "cell_type": "code",
      "metadata": {
        "id": "3XFLv7mlPoOk",
        "colab_type": "code",
        "colab": {}
      },
      "source": [
        "# menggabungkan data pada column\n",
        "pd.concat(df_list,ignore_index=True,axis=1)\n",
        "# axis digunakan untuk menggabungkan berdasarkan kolom\n",
        "# secara default bernilai 0 dan berdasarkan baris\n",
        "# Jika digabung berdasarkan kolom maka tidak perlu ignore_index"
      ],
      "execution_count": 0,
      "outputs": []
    },
    {
      "cell_type": "code",
      "metadata": {
        "id": "MGoKRoLFP_fJ",
        "colab_type": "code",
        "colab": {}
      },
      "source": [
        "# digabung berdasarkan kolom dan tanpa ignore_index\n",
        "pd.concat(df_list,axis=1)"
      ],
      "execution_count": 0,
      "outputs": []
    },
    {
      "cell_type": "markdown",
      "metadata": {
        "id": "BUPJ7bGJeTeJ",
        "colab_type": "text"
      },
      "source": [
        "**Video 2 : Belajar Pandas : Menggabungkan Data 2**"
      ]
    },
    {
      "cell_type": "code",
      "metadata": {
        "id": "q2VMjf11UIDW",
        "colab_type": "code",
        "colab": {}
      },
      "source": [
        "# menggabungkan data dengan berbagai logic penggabungan\n",
        "# seperti inner join, outer join, dsb\n",
        "# pd.merge()"
      ],
      "execution_count": 0,
      "outputs": []
    },
    {
      "cell_type": "code",
      "metadata": {
        "id": "WTttTOD_UeTM",
        "colab_type": "code",
        "colab": {}
      },
      "source": [
        "df12 = pd.concat(df_list)"
      ],
      "execution_count": 0,
      "outputs": []
    },
    {
      "cell_type": "code",
      "metadata": {
        "id": "tfEnPNBBUmXp",
        "colab_type": "code",
        "outputId": "84bf1d10-9ec8-4d41-f5ab-3fd8da6cf34d",
        "colab": {
          "base_uri": "https://localhost:8080/",
          "height": 363
        }
      },
      "source": [
        "df12"
      ],
      "execution_count": 0,
      "outputs": [
        {
          "output_type": "execute_result",
          "data": {
            "text/html": [
              "<div>\n",
              "<style scoped>\n",
              "    .dataframe tbody tr th:only-of-type {\n",
              "        vertical-align: middle;\n",
              "    }\n",
              "\n",
              "    .dataframe tbody tr th {\n",
              "        vertical-align: top;\n",
              "    }\n",
              "\n",
              "    .dataframe thead th {\n",
              "        text-align: right;\n",
              "    }\n",
              "</style>\n",
              "<table border=\"1\" class=\"dataframe\">\n",
              "  <thead>\n",
              "    <tr style=\"text-align: right;\">\n",
              "      <th></th>\n",
              "      <th>id</th>\n",
              "      <th>Feature1</th>\n",
              "      <th>Feature2</th>\n",
              "    </tr>\n",
              "  </thead>\n",
              "  <tbody>\n",
              "    <tr>\n",
              "      <th>0</th>\n",
              "      <td>1</td>\n",
              "      <td>A</td>\n",
              "      <td>B</td>\n",
              "    </tr>\n",
              "    <tr>\n",
              "      <th>1</th>\n",
              "      <td>2</td>\n",
              "      <td>C</td>\n",
              "      <td>D</td>\n",
              "    </tr>\n",
              "    <tr>\n",
              "      <th>2</th>\n",
              "      <td>3</td>\n",
              "      <td>E</td>\n",
              "      <td>F</td>\n",
              "    </tr>\n",
              "    <tr>\n",
              "      <th>3</th>\n",
              "      <td>4</td>\n",
              "      <td>G</td>\n",
              "      <td>H</td>\n",
              "    </tr>\n",
              "    <tr>\n",
              "      <th>4</th>\n",
              "      <td>5</td>\n",
              "      <td>I</td>\n",
              "      <td>J</td>\n",
              "    </tr>\n",
              "    <tr>\n",
              "      <th>0</th>\n",
              "      <td>1</td>\n",
              "      <td>K</td>\n",
              "      <td>L</td>\n",
              "    </tr>\n",
              "    <tr>\n",
              "      <th>1</th>\n",
              "      <td>2</td>\n",
              "      <td>M</td>\n",
              "      <td>N</td>\n",
              "    </tr>\n",
              "    <tr>\n",
              "      <th>2</th>\n",
              "      <td>6</td>\n",
              "      <td>O</td>\n",
              "      <td>P</td>\n",
              "    </tr>\n",
              "    <tr>\n",
              "      <th>3</th>\n",
              "      <td>7</td>\n",
              "      <td>Q</td>\n",
              "      <td>R</td>\n",
              "    </tr>\n",
              "    <tr>\n",
              "      <th>4</th>\n",
              "      <td>8</td>\n",
              "      <td>S</td>\n",
              "      <td>T</td>\n",
              "    </tr>\n",
              "  </tbody>\n",
              "</table>\n",
              "</div>"
            ],
            "text/plain": [
              "  id Feature1 Feature2\n",
              "0  1        A        B\n",
              "1  2        C        D\n",
              "2  3        E        F\n",
              "3  4        G        H\n",
              "4  5        I        J\n",
              "0  1        K        L\n",
              "1  2        M        N\n",
              "2  6        O        P\n",
              "3  7        Q        R\n",
              "4  8        S        T"
            ]
          },
          "metadata": {
            "tags": []
          },
          "execution_count": 37
        }
      ]
    },
    {
      "cell_type": "code",
      "metadata": {
        "id": "vVWlwhCmUrqt",
        "colab_type": "code",
        "outputId": "c68b4fa3-10dd-432c-9c16-23a8b0e98618",
        "colab": {
          "base_uri": "https://localhost:8080/",
          "height": 363
        }
      },
      "source": [
        "df3"
      ],
      "execution_count": 0,
      "outputs": [
        {
          "output_type": "execute_result",
          "data": {
            "text/html": [
              "<div>\n",
              "<style scoped>\n",
              "    .dataframe tbody tr th:only-of-type {\n",
              "        vertical-align: middle;\n",
              "    }\n",
              "\n",
              "    .dataframe tbody tr th {\n",
              "        vertical-align: top;\n",
              "    }\n",
              "\n",
              "    .dataframe thead th {\n",
              "        text-align: right;\n",
              "    }\n",
              "</style>\n",
              "<table border=\"1\" class=\"dataframe\">\n",
              "  <thead>\n",
              "    <tr style=\"text-align: right;\">\n",
              "      <th></th>\n",
              "      <th>id</th>\n",
              "      <th>Feature3</th>\n",
              "    </tr>\n",
              "  </thead>\n",
              "  <tbody>\n",
              "    <tr>\n",
              "      <th>0</th>\n",
              "      <td>1</td>\n",
              "      <td>12</td>\n",
              "    </tr>\n",
              "    <tr>\n",
              "      <th>1</th>\n",
              "      <td>2</td>\n",
              "      <td>13</td>\n",
              "    </tr>\n",
              "    <tr>\n",
              "      <th>2</th>\n",
              "      <td>3</td>\n",
              "      <td>14</td>\n",
              "    </tr>\n",
              "    <tr>\n",
              "      <th>3</th>\n",
              "      <td>4</td>\n",
              "      <td>15</td>\n",
              "    </tr>\n",
              "    <tr>\n",
              "      <th>4</th>\n",
              "      <td>5</td>\n",
              "      <td>16</td>\n",
              "    </tr>\n",
              "    <tr>\n",
              "      <th>5</th>\n",
              "      <td>7</td>\n",
              "      <td>17</td>\n",
              "    </tr>\n",
              "    <tr>\n",
              "      <th>6</th>\n",
              "      <td>8</td>\n",
              "      <td>15</td>\n",
              "    </tr>\n",
              "    <tr>\n",
              "      <th>7</th>\n",
              "      <td>9</td>\n",
              "      <td>12</td>\n",
              "    </tr>\n",
              "    <tr>\n",
              "      <th>8</th>\n",
              "      <td>10</td>\n",
              "      <td>13</td>\n",
              "    </tr>\n",
              "    <tr>\n",
              "      <th>9</th>\n",
              "      <td>11</td>\n",
              "      <td>23</td>\n",
              "    </tr>\n",
              "  </tbody>\n",
              "</table>\n",
              "</div>"
            ],
            "text/plain": [
              "   id  Feature3\n",
              "0   1        12\n",
              "1   2        13\n",
              "2   3        14\n",
              "3   4        15\n",
              "4   5        16\n",
              "5   7        17\n",
              "6   8        15\n",
              "7   9        12\n",
              "8  10        13\n",
              "9  11        23"
            ]
          },
          "metadata": {
            "tags": []
          },
          "execution_count": 36
        }
      ]
    },
    {
      "cell_type": "code",
      "metadata": {
        "id": "BLLJZbIVUwLd",
        "colab_type": "code",
        "colab": {}
      },
      "source": [
        "# on digunakan jika kolomnya sama antara data yang lain\n",
        "pd.merge(df12, df3, on='id')"
      ],
      "execution_count": 0,
      "outputs": []
    },
    {
      "cell_type": "code",
      "metadata": {
        "id": "QEwAn-uFU05X",
        "colab_type": "code",
        "colab": {}
      },
      "source": [
        "df3.columns = ['idkey', 'Feature']\n",
        "df3"
      ],
      "execution_count": 0,
      "outputs": []
    },
    {
      "cell_type": "code",
      "metadata": {
        "id": "2wL-__gTVAqG",
        "colab_type": "code",
        "outputId": "e7926e38-40ee-4d26-cead-04e4fa2d5536",
        "colab": {
          "base_uri": "https://localhost:8080/",
          "height": 332
        }
      },
      "source": [
        "# jika kolom berbeda masih\n",
        "pd.merge(df12, df3, left_on='id', right_on='idkey')"
      ],
      "execution_count": 0,
      "outputs": [
        {
          "output_type": "execute_result",
          "data": {
            "text/html": [
              "<div>\n",
              "<style scoped>\n",
              "    .dataframe tbody tr th:only-of-type {\n",
              "        vertical-align: middle;\n",
              "    }\n",
              "\n",
              "    .dataframe tbody tr th {\n",
              "        vertical-align: top;\n",
              "    }\n",
              "\n",
              "    .dataframe thead th {\n",
              "        text-align: right;\n",
              "    }\n",
              "</style>\n",
              "<table border=\"1\" class=\"dataframe\">\n",
              "  <thead>\n",
              "    <tr style=\"text-align: right;\">\n",
              "      <th></th>\n",
              "      <th>id</th>\n",
              "      <th>Feature1</th>\n",
              "      <th>Feature2</th>\n",
              "      <th>idkey</th>\n",
              "      <th>Feature</th>\n",
              "    </tr>\n",
              "  </thead>\n",
              "  <tbody>\n",
              "    <tr>\n",
              "      <th>0</th>\n",
              "      <td>1</td>\n",
              "      <td>A</td>\n",
              "      <td>B</td>\n",
              "      <td>1</td>\n",
              "      <td>12</td>\n",
              "    </tr>\n",
              "    <tr>\n",
              "      <th>1</th>\n",
              "      <td>1</td>\n",
              "      <td>K</td>\n",
              "      <td>L</td>\n",
              "      <td>1</td>\n",
              "      <td>12</td>\n",
              "    </tr>\n",
              "    <tr>\n",
              "      <th>2</th>\n",
              "      <td>2</td>\n",
              "      <td>C</td>\n",
              "      <td>D</td>\n",
              "      <td>2</td>\n",
              "      <td>13</td>\n",
              "    </tr>\n",
              "    <tr>\n",
              "      <th>3</th>\n",
              "      <td>2</td>\n",
              "      <td>M</td>\n",
              "      <td>N</td>\n",
              "      <td>2</td>\n",
              "      <td>13</td>\n",
              "    </tr>\n",
              "    <tr>\n",
              "      <th>4</th>\n",
              "      <td>3</td>\n",
              "      <td>E</td>\n",
              "      <td>F</td>\n",
              "      <td>3</td>\n",
              "      <td>14</td>\n",
              "    </tr>\n",
              "    <tr>\n",
              "      <th>5</th>\n",
              "      <td>4</td>\n",
              "      <td>G</td>\n",
              "      <td>H</td>\n",
              "      <td>4</td>\n",
              "      <td>15</td>\n",
              "    </tr>\n",
              "    <tr>\n",
              "      <th>6</th>\n",
              "      <td>5</td>\n",
              "      <td>I</td>\n",
              "      <td>J</td>\n",
              "      <td>5</td>\n",
              "      <td>16</td>\n",
              "    </tr>\n",
              "    <tr>\n",
              "      <th>7</th>\n",
              "      <td>7</td>\n",
              "      <td>Q</td>\n",
              "      <td>R</td>\n",
              "      <td>7</td>\n",
              "      <td>17</td>\n",
              "    </tr>\n",
              "    <tr>\n",
              "      <th>8</th>\n",
              "      <td>8</td>\n",
              "      <td>S</td>\n",
              "      <td>T</td>\n",
              "      <td>8</td>\n",
              "      <td>15</td>\n",
              "    </tr>\n",
              "  </tbody>\n",
              "</table>\n",
              "</div>"
            ],
            "text/plain": [
              "  id Feature1 Feature2 idkey  Feature\n",
              "0  1        A        B     1       12\n",
              "1  1        K        L     1       12\n",
              "2  2        C        D     2       13\n",
              "3  2        M        N     2       13\n",
              "4  3        E        F     3       14\n",
              "5  4        G        H     4       15\n",
              "6  5        I        J     5       16\n",
              "7  7        Q        R     7       17\n",
              "8  8        S        T     8       15"
            ]
          },
          "metadata": {
            "tags": []
          },
          "execution_count": 41
        }
      ]
    },
    {
      "cell_type": "code",
      "metadata": {
        "id": "nTQSjWBVVVaC",
        "colab_type": "code",
        "colab": {}
      },
      "source": [
        "# menggabungkan data berdasarkan logic penggabungan\n",
        "# outer join\n",
        "# inner join\n",
        "# left join\n",
        "# right join"
      ],
      "execution_count": 0,
      "outputs": []
    },
    {
      "cell_type": "code",
      "metadata": {
        "id": "r6fadiz1VfYr",
        "colab_type": "code",
        "outputId": "b3eb4d08-019d-4a99-fe41-015925518ff7",
        "colab": {
          "base_uri": "https://localhost:8080/",
          "height": 300
        }
      },
      "source": [
        "# outer join, menggabungkan semua data\n",
        "pd.merge(df1, df2, on='id', how='outer')\n",
        "# how untuk mendefinisikan logic penggabungan apa yang ingin digunakan"
      ],
      "execution_count": 0,
      "outputs": [
        {
          "output_type": "execute_result",
          "data": {
            "text/html": [
              "<div>\n",
              "<style scoped>\n",
              "    .dataframe tbody tr th:only-of-type {\n",
              "        vertical-align: middle;\n",
              "    }\n",
              "\n",
              "    .dataframe tbody tr th {\n",
              "        vertical-align: top;\n",
              "    }\n",
              "\n",
              "    .dataframe thead th {\n",
              "        text-align: right;\n",
              "    }\n",
              "</style>\n",
              "<table border=\"1\" class=\"dataframe\">\n",
              "  <thead>\n",
              "    <tr style=\"text-align: right;\">\n",
              "      <th></th>\n",
              "      <th>id</th>\n",
              "      <th>Feature1_x</th>\n",
              "      <th>Feature2_x</th>\n",
              "      <th>Feature1_y</th>\n",
              "      <th>Feature2_y</th>\n",
              "    </tr>\n",
              "  </thead>\n",
              "  <tbody>\n",
              "    <tr>\n",
              "      <th>0</th>\n",
              "      <td>1</td>\n",
              "      <td>A</td>\n",
              "      <td>B</td>\n",
              "      <td>K</td>\n",
              "      <td>L</td>\n",
              "    </tr>\n",
              "    <tr>\n",
              "      <th>1</th>\n",
              "      <td>2</td>\n",
              "      <td>C</td>\n",
              "      <td>D</td>\n",
              "      <td>M</td>\n",
              "      <td>N</td>\n",
              "    </tr>\n",
              "    <tr>\n",
              "      <th>2</th>\n",
              "      <td>3</td>\n",
              "      <td>E</td>\n",
              "      <td>F</td>\n",
              "      <td>NaN</td>\n",
              "      <td>NaN</td>\n",
              "    </tr>\n",
              "    <tr>\n",
              "      <th>3</th>\n",
              "      <td>4</td>\n",
              "      <td>G</td>\n",
              "      <td>H</td>\n",
              "      <td>NaN</td>\n",
              "      <td>NaN</td>\n",
              "    </tr>\n",
              "    <tr>\n",
              "      <th>4</th>\n",
              "      <td>5</td>\n",
              "      <td>I</td>\n",
              "      <td>J</td>\n",
              "      <td>NaN</td>\n",
              "      <td>NaN</td>\n",
              "    </tr>\n",
              "    <tr>\n",
              "      <th>5</th>\n",
              "      <td>6</td>\n",
              "      <td>NaN</td>\n",
              "      <td>NaN</td>\n",
              "      <td>O</td>\n",
              "      <td>P</td>\n",
              "    </tr>\n",
              "    <tr>\n",
              "      <th>6</th>\n",
              "      <td>7</td>\n",
              "      <td>NaN</td>\n",
              "      <td>NaN</td>\n",
              "      <td>Q</td>\n",
              "      <td>R</td>\n",
              "    </tr>\n",
              "    <tr>\n",
              "      <th>7</th>\n",
              "      <td>8</td>\n",
              "      <td>NaN</td>\n",
              "      <td>NaN</td>\n",
              "      <td>S</td>\n",
              "      <td>T</td>\n",
              "    </tr>\n",
              "  </tbody>\n",
              "</table>\n",
              "</div>"
            ],
            "text/plain": [
              "  id Feature1_x Feature2_x Feature1_y Feature2_y\n",
              "0  1          A          B          K          L\n",
              "1  2          C          D          M          N\n",
              "2  3          E          F        NaN        NaN\n",
              "3  4          G          H        NaN        NaN\n",
              "4  5          I          J        NaN        NaN\n",
              "5  6        NaN        NaN          O          P\n",
              "6  7        NaN        NaN          Q          R\n",
              "7  8        NaN        NaN          S          T"
            ]
          },
          "metadata": {
            "tags": []
          },
          "execution_count": 42
        }
      ]
    },
    {
      "cell_type": "code",
      "metadata": {
        "id": "BSZgyOzvVtnV",
        "colab_type": "code",
        "outputId": "948eadb6-42d5-475d-e972-35650bcf8953",
        "colab": {
          "base_uri": "https://localhost:8080/",
          "height": 206
        }
      },
      "source": [
        "df1"
      ],
      "execution_count": 0,
      "outputs": [
        {
          "output_type": "execute_result",
          "data": {
            "text/html": [
              "<div>\n",
              "<style scoped>\n",
              "    .dataframe tbody tr th:only-of-type {\n",
              "        vertical-align: middle;\n",
              "    }\n",
              "\n",
              "    .dataframe tbody tr th {\n",
              "        vertical-align: top;\n",
              "    }\n",
              "\n",
              "    .dataframe thead th {\n",
              "        text-align: right;\n",
              "    }\n",
              "</style>\n",
              "<table border=\"1\" class=\"dataframe\">\n",
              "  <thead>\n",
              "    <tr style=\"text-align: right;\">\n",
              "      <th></th>\n",
              "      <th>id</th>\n",
              "      <th>Feature1</th>\n",
              "      <th>Feature2</th>\n",
              "    </tr>\n",
              "  </thead>\n",
              "  <tbody>\n",
              "    <tr>\n",
              "      <th>0</th>\n",
              "      <td>1</td>\n",
              "      <td>A</td>\n",
              "      <td>B</td>\n",
              "    </tr>\n",
              "    <tr>\n",
              "      <th>1</th>\n",
              "      <td>2</td>\n",
              "      <td>C</td>\n",
              "      <td>D</td>\n",
              "    </tr>\n",
              "    <tr>\n",
              "      <th>2</th>\n",
              "      <td>3</td>\n",
              "      <td>E</td>\n",
              "      <td>F</td>\n",
              "    </tr>\n",
              "    <tr>\n",
              "      <th>3</th>\n",
              "      <td>4</td>\n",
              "      <td>G</td>\n",
              "      <td>H</td>\n",
              "    </tr>\n",
              "    <tr>\n",
              "      <th>4</th>\n",
              "      <td>5</td>\n",
              "      <td>I</td>\n",
              "      <td>J</td>\n",
              "    </tr>\n",
              "  </tbody>\n",
              "</table>\n",
              "</div>"
            ],
            "text/plain": [
              "  id Feature1 Feature2\n",
              "0  1        A        B\n",
              "1  2        C        D\n",
              "2  3        E        F\n",
              "3  4        G        H\n",
              "4  5        I        J"
            ]
          },
          "metadata": {
            "tags": []
          },
          "execution_count": 43
        }
      ]
    },
    {
      "cell_type": "code",
      "metadata": {
        "id": "3aWZGEFYVxQX",
        "colab_type": "code",
        "outputId": "b51cfad4-bc61-402f-e6e5-4e348529568a",
        "colab": {
          "base_uri": "https://localhost:8080/",
          "height": 206
        }
      },
      "source": [
        "df2"
      ],
      "execution_count": 0,
      "outputs": [
        {
          "output_type": "execute_result",
          "data": {
            "text/html": [
              "<div>\n",
              "<style scoped>\n",
              "    .dataframe tbody tr th:only-of-type {\n",
              "        vertical-align: middle;\n",
              "    }\n",
              "\n",
              "    .dataframe tbody tr th {\n",
              "        vertical-align: top;\n",
              "    }\n",
              "\n",
              "    .dataframe thead th {\n",
              "        text-align: right;\n",
              "    }\n",
              "</style>\n",
              "<table border=\"1\" class=\"dataframe\">\n",
              "  <thead>\n",
              "    <tr style=\"text-align: right;\">\n",
              "      <th></th>\n",
              "      <th>id</th>\n",
              "      <th>Feature1</th>\n",
              "      <th>Feature2</th>\n",
              "    </tr>\n",
              "  </thead>\n",
              "  <tbody>\n",
              "    <tr>\n",
              "      <th>0</th>\n",
              "      <td>1</td>\n",
              "      <td>K</td>\n",
              "      <td>L</td>\n",
              "    </tr>\n",
              "    <tr>\n",
              "      <th>1</th>\n",
              "      <td>2</td>\n",
              "      <td>M</td>\n",
              "      <td>N</td>\n",
              "    </tr>\n",
              "    <tr>\n",
              "      <th>2</th>\n",
              "      <td>6</td>\n",
              "      <td>O</td>\n",
              "      <td>P</td>\n",
              "    </tr>\n",
              "    <tr>\n",
              "      <th>3</th>\n",
              "      <td>7</td>\n",
              "      <td>Q</td>\n",
              "      <td>R</td>\n",
              "    </tr>\n",
              "    <tr>\n",
              "      <th>4</th>\n",
              "      <td>8</td>\n",
              "      <td>S</td>\n",
              "      <td>T</td>\n",
              "    </tr>\n",
              "  </tbody>\n",
              "</table>\n",
              "</div>"
            ],
            "text/plain": [
              "  id Feature1 Feature2\n",
              "0  1        K        L\n",
              "1  2        M        N\n",
              "2  6        O        P\n",
              "3  7        Q        R\n",
              "4  8        S        T"
            ]
          },
          "metadata": {
            "tags": []
          },
          "execution_count": 44
        }
      ]
    },
    {
      "cell_type": "code",
      "metadata": {
        "id": "8DYzZEKfWGeI",
        "colab_type": "code",
        "outputId": "97a274f9-9b0b-469e-9fdd-664e83a3ea6a",
        "colab": {
          "base_uri": "https://localhost:8080/",
          "height": 112
        }
      },
      "source": [
        "# inner join, menggabungkan data yang beririsan aja\n",
        "pd.merge(df1, df2, on='id', how='inner')"
      ],
      "execution_count": 0,
      "outputs": [
        {
          "output_type": "execute_result",
          "data": {
            "text/html": [
              "<div>\n",
              "<style scoped>\n",
              "    .dataframe tbody tr th:only-of-type {\n",
              "        vertical-align: middle;\n",
              "    }\n",
              "\n",
              "    .dataframe tbody tr th {\n",
              "        vertical-align: top;\n",
              "    }\n",
              "\n",
              "    .dataframe thead th {\n",
              "        text-align: right;\n",
              "    }\n",
              "</style>\n",
              "<table border=\"1\" class=\"dataframe\">\n",
              "  <thead>\n",
              "    <tr style=\"text-align: right;\">\n",
              "      <th></th>\n",
              "      <th>id</th>\n",
              "      <th>Feature1_x</th>\n",
              "      <th>Feature2_x</th>\n",
              "      <th>Feature1_y</th>\n",
              "      <th>Feature2_y</th>\n",
              "    </tr>\n",
              "  </thead>\n",
              "  <tbody>\n",
              "    <tr>\n",
              "      <th>0</th>\n",
              "      <td>1</td>\n",
              "      <td>A</td>\n",
              "      <td>B</td>\n",
              "      <td>K</td>\n",
              "      <td>L</td>\n",
              "    </tr>\n",
              "    <tr>\n",
              "      <th>1</th>\n",
              "      <td>2</td>\n",
              "      <td>C</td>\n",
              "      <td>D</td>\n",
              "      <td>M</td>\n",
              "      <td>N</td>\n",
              "    </tr>\n",
              "  </tbody>\n",
              "</table>\n",
              "</div>"
            ],
            "text/plain": [
              "  id Feature1_x Feature2_x Feature1_y Feature2_y\n",
              "0  1          A          B          K          L\n",
              "1  2          C          D          M          N"
            ]
          },
          "metadata": {
            "tags": []
          },
          "execution_count": 45
        }
      ]
    },
    {
      "cell_type": "code",
      "metadata": {
        "id": "g5Hfiu7fWLGw",
        "colab_type": "code",
        "outputId": "3c8c483f-0419-4b16-e39e-ff298cd7a564",
        "colab": {
          "base_uri": "https://localhost:8080/",
          "height": 206
        }
      },
      "source": [
        "# left join, menghasilkan semua id yang berasal dari data 1\n",
        "pd.merge(df1, df2, on='id', how='left')"
      ],
      "execution_count": 0,
      "outputs": [
        {
          "output_type": "execute_result",
          "data": {
            "text/html": [
              "<div>\n",
              "<style scoped>\n",
              "    .dataframe tbody tr th:only-of-type {\n",
              "        vertical-align: middle;\n",
              "    }\n",
              "\n",
              "    .dataframe tbody tr th {\n",
              "        vertical-align: top;\n",
              "    }\n",
              "\n",
              "    .dataframe thead th {\n",
              "        text-align: right;\n",
              "    }\n",
              "</style>\n",
              "<table border=\"1\" class=\"dataframe\">\n",
              "  <thead>\n",
              "    <tr style=\"text-align: right;\">\n",
              "      <th></th>\n",
              "      <th>id</th>\n",
              "      <th>Feature1_x</th>\n",
              "      <th>Feature2_x</th>\n",
              "      <th>Feature1_y</th>\n",
              "      <th>Feature2_y</th>\n",
              "    </tr>\n",
              "  </thead>\n",
              "  <tbody>\n",
              "    <tr>\n",
              "      <th>0</th>\n",
              "      <td>1</td>\n",
              "      <td>A</td>\n",
              "      <td>B</td>\n",
              "      <td>K</td>\n",
              "      <td>L</td>\n",
              "    </tr>\n",
              "    <tr>\n",
              "      <th>1</th>\n",
              "      <td>2</td>\n",
              "      <td>C</td>\n",
              "      <td>D</td>\n",
              "      <td>M</td>\n",
              "      <td>N</td>\n",
              "    </tr>\n",
              "    <tr>\n",
              "      <th>2</th>\n",
              "      <td>3</td>\n",
              "      <td>E</td>\n",
              "      <td>F</td>\n",
              "      <td>NaN</td>\n",
              "      <td>NaN</td>\n",
              "    </tr>\n",
              "    <tr>\n",
              "      <th>3</th>\n",
              "      <td>4</td>\n",
              "      <td>G</td>\n",
              "      <td>H</td>\n",
              "      <td>NaN</td>\n",
              "      <td>NaN</td>\n",
              "    </tr>\n",
              "    <tr>\n",
              "      <th>4</th>\n",
              "      <td>5</td>\n",
              "      <td>I</td>\n",
              "      <td>J</td>\n",
              "      <td>NaN</td>\n",
              "      <td>NaN</td>\n",
              "    </tr>\n",
              "  </tbody>\n",
              "</table>\n",
              "</div>"
            ],
            "text/plain": [
              "  id Feature1_x Feature2_x Feature1_y Feature2_y\n",
              "0  1          A          B          K          L\n",
              "1  2          C          D          M          N\n",
              "2  3          E          F        NaN        NaN\n",
              "3  4          G          H        NaN        NaN\n",
              "4  5          I          J        NaN        NaN"
            ]
          },
          "metadata": {
            "tags": []
          },
          "execution_count": 46
        }
      ]
    },
    {
      "cell_type": "code",
      "metadata": {
        "id": "5UTILaUzWNR8",
        "colab_type": "code",
        "outputId": "f434506f-5632-46d1-ccb9-102aca68d875",
        "colab": {
          "base_uri": "https://localhost:8080/",
          "height": 206
        }
      },
      "source": [
        "# right join, menghasilkan semua id yang berasal dari data 2\n",
        "pd.merge(df1, df2, on='id', how='right')"
      ],
      "execution_count": 0,
      "outputs": [
        {
          "output_type": "execute_result",
          "data": {
            "text/html": [
              "<div>\n",
              "<style scoped>\n",
              "    .dataframe tbody tr th:only-of-type {\n",
              "        vertical-align: middle;\n",
              "    }\n",
              "\n",
              "    .dataframe tbody tr th {\n",
              "        vertical-align: top;\n",
              "    }\n",
              "\n",
              "    .dataframe thead th {\n",
              "        text-align: right;\n",
              "    }\n",
              "</style>\n",
              "<table border=\"1\" class=\"dataframe\">\n",
              "  <thead>\n",
              "    <tr style=\"text-align: right;\">\n",
              "      <th></th>\n",
              "      <th>id</th>\n",
              "      <th>Feature1_x</th>\n",
              "      <th>Feature2_x</th>\n",
              "      <th>Feature1_y</th>\n",
              "      <th>Feature2_y</th>\n",
              "    </tr>\n",
              "  </thead>\n",
              "  <tbody>\n",
              "    <tr>\n",
              "      <th>0</th>\n",
              "      <td>1</td>\n",
              "      <td>A</td>\n",
              "      <td>B</td>\n",
              "      <td>K</td>\n",
              "      <td>L</td>\n",
              "    </tr>\n",
              "    <tr>\n",
              "      <th>1</th>\n",
              "      <td>2</td>\n",
              "      <td>C</td>\n",
              "      <td>D</td>\n",
              "      <td>M</td>\n",
              "      <td>N</td>\n",
              "    </tr>\n",
              "    <tr>\n",
              "      <th>2</th>\n",
              "      <td>6</td>\n",
              "      <td>NaN</td>\n",
              "      <td>NaN</td>\n",
              "      <td>O</td>\n",
              "      <td>P</td>\n",
              "    </tr>\n",
              "    <tr>\n",
              "      <th>3</th>\n",
              "      <td>7</td>\n",
              "      <td>NaN</td>\n",
              "      <td>NaN</td>\n",
              "      <td>Q</td>\n",
              "      <td>R</td>\n",
              "    </tr>\n",
              "    <tr>\n",
              "      <th>4</th>\n",
              "      <td>8</td>\n",
              "      <td>NaN</td>\n",
              "      <td>NaN</td>\n",
              "      <td>S</td>\n",
              "      <td>T</td>\n",
              "    </tr>\n",
              "  </tbody>\n",
              "</table>\n",
              "</div>"
            ],
            "text/plain": [
              "  id Feature1_x Feature2_x Feature1_y Feature2_y\n",
              "0  1          A          B          K          L\n",
              "1  2          C          D          M          N\n",
              "2  6        NaN        NaN          O          P\n",
              "3  7        NaN        NaN          Q          R\n",
              "4  8        NaN        NaN          S          T"
            ]
          },
          "metadata": {
            "tags": []
          },
          "execution_count": 47
        }
      ]
    }
  ]
}