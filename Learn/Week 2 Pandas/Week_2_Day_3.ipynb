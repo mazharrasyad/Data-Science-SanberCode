{
  "nbformat": 4,
  "nbformat_minor": 0,
  "metadata": {
    "kernelspec": {
      "display_name": "Python 3",
      "language": "python",
      "name": "python3"
    },
    "language_info": {
      "codemirror_mode": {
        "name": "ipython",
        "version": 3
      },
      "file_extension": ".py",
      "mimetype": "text/x-python",
      "name": "python",
      "nbconvert_exporter": "python",
      "pygments_lexer": "ipython3",
      "version": "3.7.7"
    },
    "colab": {
      "name": "Week 2 Day 3.ipynb",
      "provenance": [],
      "collapsed_sections": []
    }
  },
  "cells": [
    {
      "cell_type": "markdown",
      "metadata": {
        "id": "0kQhZ-5bKrxR",
        "colab_type": "text"
      },
      "source": [
        "<h2>Quiz 1 : Pivoting and Melting</h2>\n",
        "\n",
        "Jelaskan itu pivoting dan melting data"
      ]
    },
    {
      "cell_type": "markdown",
      "metadata": {
        "id": "O7OpqeB9KrxX",
        "colab_type": "text"
      },
      "source": [
        "jawaban : Pivoting adalah suatu pengubahan bentuk data dengan memutar data yang terletak di baris menjadi di column.\n",
        "\n",
        "Melting adalah ‘unpivoting’, melting mengubah suatu data dengan memutar dari yang tadinya berada di posisi column menjadi di posisi row."
      ]
    },
    {
      "cell_type": "markdown",
      "metadata": {
        "id": "jImnOOlTKrxa",
        "colab_type": "text"
      },
      "source": [
        "<h2>Quiz 2 : Data structure Comprehension</h2>\n",
        "\n",
        "Data yang rapi adalah :\n",
        "1. Setiap row menunjukan suatu unit observasi\n",
        "2. Setiap column merupakan suatu unit variable\n",
        "\n",
        "Bagaimana pun, dalam menentukan unit observasi itu tergantung dari kasus yang di hadapi. sebagai seorang data scientist pasti akan menemukan berbagai bentuk struktur data. adalah sangat penting bagi seorang data scientist untuk dapat memahami dan menjelaskan setiap struktur data. Kemampuan memahami hubungan antara index baris, column dan isi data adalah kunci untuk memahami informasi apa yang data sedang beritahukan kepada kita.\n",
        "\n",
        "Di bawah ini terdapat 2 data yang berisi sama, tetapi memiliki struktur yang berbeda. Jelaskan perbedaan dari 2 struktur data tersebut"
      ]
    },
    {
      "cell_type": "markdown",
      "metadata": {
        "id": "HYtZqGxLKrxc",
        "colab_type": "text"
      },
      "source": [
        "![alt text](https://drive.google.com/uc?id=1h13CDPzIjc-2XyRcyu-p1fet0Ep1gdMA)"
      ]
    },
    {
      "cell_type": "markdown",
      "metadata": {
        "id": "nn4EuLbnKrxf",
        "colab_type": "text"
      },
      "source": [
        "![alt text](https://drive.google.com/uc?id=12ji98ell5tNcCxeBzl4v8qqBtFMgDSr0)"
      ]
    },
    {
      "cell_type": "markdown",
      "metadata": {
        "id": "_fixNOUAKrxh",
        "colab_type": "text"
      },
      "source": [
        "Tabel 1 menggambarkan struktur data yang rapi atau dapat dikatakan efektif dan efisien, mulai dari tidak adanya redudansi data serta baris dan kolom saling berhubungan\n",
        "\n",
        "sedangkan Tabel 2 menggambarkan struktur data yang kurang rapi karena terlihat banyak yang redudansi serta sulit untuk menemukan informasi yang akan dicari"
      ]
    },
    {
      "cell_type": "markdown",
      "metadata": {
        "id": "Vxig2IeYKrxj",
        "colab_type": "text"
      },
      "source": [
        "<h2>Quiz 3 : Reshaping Data 1</h2>"
      ]
    },
    {
      "cell_type": "code",
      "metadata": {
        "id": "4Jp7bLWNKrxl",
        "colab_type": "code",
        "outputId": "bdcef4ca-a3e0-436f-b4a4-328fd35c09b9",
        "colab": {
          "base_uri": "https://localhost:8080/",
          "height": 426
        }
      },
      "source": [
        "import pandas as pd\n",
        "import random\n",
        "\n",
        "data = {\n",
        "    'Tipe Ujian' : ['UTS1', 'UAS1', 'UTS2', 'UAS2']*3,\n",
        "    'Mata Pelajaran' : ['Fisika']*4 + ['Matematika']*4+['Statistika']*4,\n",
        "    'Rata2 Waktu Belajar (menit)' : [random.choice(range(200, 800)) for i in range(12)],\n",
        "    'Rata2 Nilai Ujian' : [random.choice(range(40, 100)) for i in range(12)] \n",
        "}\n",
        "df = pd.DataFrame(data)\n",
        "df"
      ],
      "execution_count": 0,
      "outputs": [
        {
          "output_type": "execute_result",
          "data": {
            "text/html": [
              "<div>\n",
              "<style scoped>\n",
              "    .dataframe tbody tr th:only-of-type {\n",
              "        vertical-align: middle;\n",
              "    }\n",
              "\n",
              "    .dataframe tbody tr th {\n",
              "        vertical-align: top;\n",
              "    }\n",
              "\n",
              "    .dataframe thead th {\n",
              "        text-align: right;\n",
              "    }\n",
              "</style>\n",
              "<table border=\"1\" class=\"dataframe\">\n",
              "  <thead>\n",
              "    <tr style=\"text-align: right;\">\n",
              "      <th></th>\n",
              "      <th>Tipe Ujian</th>\n",
              "      <th>Mata Pelajaran</th>\n",
              "      <th>Rata2 Waktu Belajar (menit)</th>\n",
              "      <th>Rata2 Nilai Ujian</th>\n",
              "    </tr>\n",
              "  </thead>\n",
              "  <tbody>\n",
              "    <tr>\n",
              "      <th>0</th>\n",
              "      <td>UTS1</td>\n",
              "      <td>Fisika</td>\n",
              "      <td>669</td>\n",
              "      <td>87</td>\n",
              "    </tr>\n",
              "    <tr>\n",
              "      <th>1</th>\n",
              "      <td>UAS1</td>\n",
              "      <td>Fisika</td>\n",
              "      <td>466</td>\n",
              "      <td>44</td>\n",
              "    </tr>\n",
              "    <tr>\n",
              "      <th>2</th>\n",
              "      <td>UTS2</td>\n",
              "      <td>Fisika</td>\n",
              "      <td>696</td>\n",
              "      <td>49</td>\n",
              "    </tr>\n",
              "    <tr>\n",
              "      <th>3</th>\n",
              "      <td>UAS2</td>\n",
              "      <td>Fisika</td>\n",
              "      <td>419</td>\n",
              "      <td>78</td>\n",
              "    </tr>\n",
              "    <tr>\n",
              "      <th>4</th>\n",
              "      <td>UTS1</td>\n",
              "      <td>Matematika</td>\n",
              "      <td>738</td>\n",
              "      <td>71</td>\n",
              "    </tr>\n",
              "    <tr>\n",
              "      <th>5</th>\n",
              "      <td>UAS1</td>\n",
              "      <td>Matematika</td>\n",
              "      <td>607</td>\n",
              "      <td>43</td>\n",
              "    </tr>\n",
              "    <tr>\n",
              "      <th>6</th>\n",
              "      <td>UTS2</td>\n",
              "      <td>Matematika</td>\n",
              "      <td>453</td>\n",
              "      <td>72</td>\n",
              "    </tr>\n",
              "    <tr>\n",
              "      <th>7</th>\n",
              "      <td>UAS2</td>\n",
              "      <td>Matematika</td>\n",
              "      <td>704</td>\n",
              "      <td>51</td>\n",
              "    </tr>\n",
              "    <tr>\n",
              "      <th>8</th>\n",
              "      <td>UTS1</td>\n",
              "      <td>Statistika</td>\n",
              "      <td>233</td>\n",
              "      <td>56</td>\n",
              "    </tr>\n",
              "    <tr>\n",
              "      <th>9</th>\n",
              "      <td>UAS1</td>\n",
              "      <td>Statistika</td>\n",
              "      <td>332</td>\n",
              "      <td>62</td>\n",
              "    </tr>\n",
              "    <tr>\n",
              "      <th>10</th>\n",
              "      <td>UTS2</td>\n",
              "      <td>Statistika</td>\n",
              "      <td>652</td>\n",
              "      <td>80</td>\n",
              "    </tr>\n",
              "    <tr>\n",
              "      <th>11</th>\n",
              "      <td>UAS2</td>\n",
              "      <td>Statistika</td>\n",
              "      <td>765</td>\n",
              "      <td>76</td>\n",
              "    </tr>\n",
              "  </tbody>\n",
              "</table>\n",
              "</div>"
            ],
            "text/plain": [
              "   Tipe Ujian Mata Pelajaran  Rata2 Waktu Belajar (menit)  Rata2 Nilai Ujian\n",
              "0        UTS1         Fisika                          669                 87\n",
              "1        UAS1         Fisika                          466                 44\n",
              "2        UTS2         Fisika                          696                 49\n",
              "3        UAS2         Fisika                          419                 78\n",
              "4        UTS1     Matematika                          738                 71\n",
              "5        UAS1     Matematika                          607                 43\n",
              "6        UTS2     Matematika                          453                 72\n",
              "7        UAS2     Matematika                          704                 51\n",
              "8        UTS1     Statistika                          233                 56\n",
              "9        UAS1     Statistika                          332                 62\n",
              "10       UTS2     Statistika                          652                 80\n",
              "11       UAS2     Statistika                          765                 76"
            ]
          },
          "metadata": {
            "tags": []
          },
          "execution_count": 6
        }
      ]
    },
    {
      "cell_type": "markdown",
      "metadata": {
        "id": "G3yKJFwTKrx8",
        "colab_type": "text"
      },
      "source": [
        "Perhatikan data di atas, kemudian ubahlah bentuknya agar sesuai yang di harapkan."
      ]
    },
    {
      "cell_type": "code",
      "metadata": {
        "id": "ztFDyKDYKrx-",
        "colab_type": "code",
        "outputId": "2023585d-c48c-40a6-eaea-716086d26704",
        "colab": {
          "base_uri": "https://localhost:8080/",
          "height": 238
        }
      },
      "source": [
        "df.pivot_table(index='Tipe Ujian', columns=['Mata Pelajaran'], values=['Rata2 Nilai Ujian','Rata2 Waktu Belajar (menit)'])"
      ],
      "execution_count": 0,
      "outputs": [
        {
          "output_type": "execute_result",
          "data": {
            "text/html": [
              "<div>\n",
              "<style scoped>\n",
              "    .dataframe tbody tr th:only-of-type {\n",
              "        vertical-align: middle;\n",
              "    }\n",
              "\n",
              "    .dataframe tbody tr th {\n",
              "        vertical-align: top;\n",
              "    }\n",
              "\n",
              "    .dataframe thead tr th {\n",
              "        text-align: left;\n",
              "    }\n",
              "\n",
              "    .dataframe thead tr:last-of-type th {\n",
              "        text-align: right;\n",
              "    }\n",
              "</style>\n",
              "<table border=\"1\" class=\"dataframe\">\n",
              "  <thead>\n",
              "    <tr>\n",
              "      <th></th>\n",
              "      <th colspan=\"3\" halign=\"left\">Rata2 Nilai Ujian</th>\n",
              "      <th colspan=\"3\" halign=\"left\">Rata2 Waktu Belajar (menit)</th>\n",
              "    </tr>\n",
              "    <tr>\n",
              "      <th>Mata Pelajaran</th>\n",
              "      <th>Fisika</th>\n",
              "      <th>Matematika</th>\n",
              "      <th>Statistika</th>\n",
              "      <th>Fisika</th>\n",
              "      <th>Matematika</th>\n",
              "      <th>Statistika</th>\n",
              "    </tr>\n",
              "    <tr>\n",
              "      <th>Tipe Ujian</th>\n",
              "      <th></th>\n",
              "      <th></th>\n",
              "      <th></th>\n",
              "      <th></th>\n",
              "      <th></th>\n",
              "      <th></th>\n",
              "    </tr>\n",
              "  </thead>\n",
              "  <tbody>\n",
              "    <tr>\n",
              "      <th>UAS1</th>\n",
              "      <td>44</td>\n",
              "      <td>43</td>\n",
              "      <td>62</td>\n",
              "      <td>466</td>\n",
              "      <td>607</td>\n",
              "      <td>332</td>\n",
              "    </tr>\n",
              "    <tr>\n",
              "      <th>UAS2</th>\n",
              "      <td>78</td>\n",
              "      <td>51</td>\n",
              "      <td>76</td>\n",
              "      <td>419</td>\n",
              "      <td>704</td>\n",
              "      <td>765</td>\n",
              "    </tr>\n",
              "    <tr>\n",
              "      <th>UTS1</th>\n",
              "      <td>87</td>\n",
              "      <td>71</td>\n",
              "      <td>56</td>\n",
              "      <td>669</td>\n",
              "      <td>738</td>\n",
              "      <td>233</td>\n",
              "    </tr>\n",
              "    <tr>\n",
              "      <th>UTS2</th>\n",
              "      <td>49</td>\n",
              "      <td>72</td>\n",
              "      <td>80</td>\n",
              "      <td>696</td>\n",
              "      <td>453</td>\n",
              "      <td>652</td>\n",
              "    </tr>\n",
              "  </tbody>\n",
              "</table>\n",
              "</div>"
            ],
            "text/plain": [
              "               Rata2 Nilai Ujian             ... Rata2 Waktu Belajar (menit)           \n",
              "Mata Pelajaran            Fisika Matematika  ...                  Matematika Statistika\n",
              "Tipe Ujian                                   ...                                       \n",
              "UAS1                          44         43  ...                         607        332\n",
              "UAS2                          78         51  ...                         704        765\n",
              "UTS1                          87         71  ...                         738        233\n",
              "UTS2                          49         72  ...                         453        652\n",
              "\n",
              "[4 rows x 6 columns]"
            ]
          },
          "metadata": {
            "tags": []
          },
          "execution_count": 7
        }
      ]
    },
    {
      "cell_type": "markdown",
      "metadata": {
        "id": "xA8ZlQErKryO",
        "colab_type": "text"
      },
      "source": [
        "Expected Result :\n",
        "\n",
        "![alt text](https://drive.google.com/uc?id=1XufsfqZe7-XZLsb92SpATexy-QRZE0ow)"
      ]
    },
    {
      "cell_type": "markdown",
      "metadata": {
        "id": "pXb8LRDWKryQ",
        "colab_type": "text"
      },
      "source": [
        "<h2>Quiz 4 : Reshaping Data 2</h2>"
      ]
    },
    {
      "cell_type": "code",
      "metadata": {
        "id": "LHe2XZyNKryS",
        "colab_type": "code",
        "outputId": "0b737005-55bc-43f0-9d11-e945c77dea7b",
        "colab": {
          "base_uri": "https://localhost:8080/",
          "height": 143
        }
      },
      "source": [
        "import pandas as pd\n",
        "\n",
        "data = {\n",
        "    'Hari' : ['Sabtu', 'Minggu'],\n",
        "    'Kebun Binatang' : [271, 399],\n",
        "    'Dufan' : [501, 700],\n",
        "    'Disney' : [1000, 1001],\n",
        "    'Bali' : [900, 803]\n",
        "}\n",
        "df = pd.DataFrame(data).set_index('Hari')\n",
        "df"
      ],
      "execution_count": 0,
      "outputs": [
        {
          "output_type": "execute_result",
          "data": {
            "text/html": [
              "<div>\n",
              "<style scoped>\n",
              "    .dataframe tbody tr th:only-of-type {\n",
              "        vertical-align: middle;\n",
              "    }\n",
              "\n",
              "    .dataframe tbody tr th {\n",
              "        vertical-align: top;\n",
              "    }\n",
              "\n",
              "    .dataframe thead th {\n",
              "        text-align: right;\n",
              "    }\n",
              "</style>\n",
              "<table border=\"1\" class=\"dataframe\">\n",
              "  <thead>\n",
              "    <tr style=\"text-align: right;\">\n",
              "      <th></th>\n",
              "      <th>Kebun Binatang</th>\n",
              "      <th>Dufan</th>\n",
              "      <th>Disney</th>\n",
              "      <th>Bali</th>\n",
              "    </tr>\n",
              "    <tr>\n",
              "      <th>Hari</th>\n",
              "      <th></th>\n",
              "      <th></th>\n",
              "      <th></th>\n",
              "      <th></th>\n",
              "    </tr>\n",
              "  </thead>\n",
              "  <tbody>\n",
              "    <tr>\n",
              "      <th>Sabtu</th>\n",
              "      <td>271</td>\n",
              "      <td>501</td>\n",
              "      <td>1000</td>\n",
              "      <td>900</td>\n",
              "    </tr>\n",
              "    <tr>\n",
              "      <th>Minggu</th>\n",
              "      <td>399</td>\n",
              "      <td>700</td>\n",
              "      <td>1001</td>\n",
              "      <td>803</td>\n",
              "    </tr>\n",
              "  </tbody>\n",
              "</table>\n",
              "</div>"
            ],
            "text/plain": [
              "        Kebun Binatang  Dufan  Disney  Bali\n",
              "Hari                                       \n",
              "Sabtu              271    501    1000   900\n",
              "Minggu             399    700    1001   803"
            ]
          },
          "metadata": {
            "tags": []
          },
          "execution_count": 24
        }
      ]
    },
    {
      "cell_type": "markdown",
      "metadata": {
        "id": "w87S4Xl_Kryg",
        "colab_type": "text"
      },
      "source": [
        "diatas adalah data tentang jumlah pengunjung di berbagai tempat hiburan, ubahlah struktur data tersebut sehingga sesuai dengan hasil yang diharapkan."
      ]
    },
    {
      "cell_type": "code",
      "metadata": {
        "id": "6F8RUMXGhkuL",
        "colab_type": "code",
        "colab": {}
      },
      "source": [
        "df = df.reset_index()"
      ],
      "execution_count": 0,
      "outputs": []
    },
    {
      "cell_type": "code",
      "metadata": {
        "id": "51o6mpLq0Piw",
        "colab_type": "code",
        "outputId": "b0ebcfd9-cc5c-4bb3-c2fc-1c5c5c97c694",
        "colab": {
          "base_uri": "https://localhost:8080/",
          "height": 300
        }
      },
      "source": [
        "df.melt(id_vars=['Hari'], value_vars=['Kebun Binatang','Dufan','Disney','Bali'], var_name='Tempat Hiburan', value_name='Pengunjung')"
      ],
      "execution_count": 0,
      "outputs": [
        {
          "output_type": "execute_result",
          "data": {
            "text/html": [
              "<div>\n",
              "<style scoped>\n",
              "    .dataframe tbody tr th:only-of-type {\n",
              "        vertical-align: middle;\n",
              "    }\n",
              "\n",
              "    .dataframe tbody tr th {\n",
              "        vertical-align: top;\n",
              "    }\n",
              "\n",
              "    .dataframe thead th {\n",
              "        text-align: right;\n",
              "    }\n",
              "</style>\n",
              "<table border=\"1\" class=\"dataframe\">\n",
              "  <thead>\n",
              "    <tr style=\"text-align: right;\">\n",
              "      <th></th>\n",
              "      <th>Hari</th>\n",
              "      <th>Tempat Hiburan</th>\n",
              "      <th>Pengunjung</th>\n",
              "    </tr>\n",
              "  </thead>\n",
              "  <tbody>\n",
              "    <tr>\n",
              "      <th>0</th>\n",
              "      <td>Sabtu</td>\n",
              "      <td>Kebun Binatang</td>\n",
              "      <td>271</td>\n",
              "    </tr>\n",
              "    <tr>\n",
              "      <th>1</th>\n",
              "      <td>Minggu</td>\n",
              "      <td>Kebun Binatang</td>\n",
              "      <td>399</td>\n",
              "    </tr>\n",
              "    <tr>\n",
              "      <th>2</th>\n",
              "      <td>Sabtu</td>\n",
              "      <td>Dufan</td>\n",
              "      <td>501</td>\n",
              "    </tr>\n",
              "    <tr>\n",
              "      <th>3</th>\n",
              "      <td>Minggu</td>\n",
              "      <td>Dufan</td>\n",
              "      <td>700</td>\n",
              "    </tr>\n",
              "    <tr>\n",
              "      <th>4</th>\n",
              "      <td>Sabtu</td>\n",
              "      <td>Disney</td>\n",
              "      <td>1000</td>\n",
              "    </tr>\n",
              "    <tr>\n",
              "      <th>5</th>\n",
              "      <td>Minggu</td>\n",
              "      <td>Disney</td>\n",
              "      <td>1001</td>\n",
              "    </tr>\n",
              "    <tr>\n",
              "      <th>6</th>\n",
              "      <td>Sabtu</td>\n",
              "      <td>Bali</td>\n",
              "      <td>900</td>\n",
              "    </tr>\n",
              "    <tr>\n",
              "      <th>7</th>\n",
              "      <td>Minggu</td>\n",
              "      <td>Bali</td>\n",
              "      <td>803</td>\n",
              "    </tr>\n",
              "  </tbody>\n",
              "</table>\n",
              "</div>"
            ],
            "text/plain": [
              "     Hari  Tempat Hiburan  Pengunjung\n",
              "0   Sabtu  Kebun Binatang         271\n",
              "1  Minggu  Kebun Binatang         399\n",
              "2   Sabtu           Dufan         501\n",
              "3  Minggu           Dufan         700\n",
              "4   Sabtu          Disney        1000\n",
              "5  Minggu          Disney        1001\n",
              "6   Sabtu            Bali         900\n",
              "7  Minggu            Bali         803"
            ]
          },
          "metadata": {
            "tags": []
          },
          "execution_count": 50
        }
      ]
    },
    {
      "cell_type": "markdown",
      "metadata": {
        "id": "d7_5dDsRKryi",
        "colab_type": "text"
      },
      "source": [
        "Expected Result :\n",
        "\n",
        "![alt text](https://drive.google.com/uc?id=159mIqcyfeD30EEcyZmmkovORa6cZDLtn)"
      ]
    },
    {
      "cell_type": "markdown",
      "metadata": {
        "id": "GGHgeYkEKryk",
        "colab_type": "text"
      },
      "source": [
        "<h2>Quiz 5 : Pivoting and Aggregating</h2>"
      ]
    },
    {
      "cell_type": "code",
      "metadata": {
        "id": "iKMM155KKryn",
        "colab_type": "code",
        "outputId": "76ebcd3f-6d21-4c3f-99f7-ea433f0ba7a4",
        "colab": {
          "base_uri": "https://localhost:8080/",
          "height": 269
        }
      },
      "source": [
        "import pandas as pd\n",
        "\n",
        "data = {\n",
        "    'Tipe Ujian' : ['UTS1', 'UAS1']*3,\n",
        "    'Mata Pelajaran' :['Statistika', 'Fisika', 'Fisika', 'Statistika', 'Fisika', 'Statistika'],\n",
        "    'Jumlah Peserta' : [14, 17, 12, 16, 14, 13]\n",
        "}\n",
        "df = pd.DataFrame(data).set_index('Tipe Ujian')\n",
        "df"
      ],
      "execution_count": 0,
      "outputs": [
        {
          "output_type": "execute_result",
          "data": {
            "text/html": [
              "<div>\n",
              "<style scoped>\n",
              "    .dataframe tbody tr th:only-of-type {\n",
              "        vertical-align: middle;\n",
              "    }\n",
              "\n",
              "    .dataframe tbody tr th {\n",
              "        vertical-align: top;\n",
              "    }\n",
              "\n",
              "    .dataframe thead th {\n",
              "        text-align: right;\n",
              "    }\n",
              "</style>\n",
              "<table border=\"1\" class=\"dataframe\">\n",
              "  <thead>\n",
              "    <tr style=\"text-align: right;\">\n",
              "      <th></th>\n",
              "      <th>Mata Pelajaran</th>\n",
              "      <th>Jumlah Peserta</th>\n",
              "    </tr>\n",
              "    <tr>\n",
              "      <th>Tipe Ujian</th>\n",
              "      <th></th>\n",
              "      <th></th>\n",
              "    </tr>\n",
              "  </thead>\n",
              "  <tbody>\n",
              "    <tr>\n",
              "      <th>UTS1</th>\n",
              "      <td>Statistika</td>\n",
              "      <td>14</td>\n",
              "    </tr>\n",
              "    <tr>\n",
              "      <th>UAS1</th>\n",
              "      <td>Fisika</td>\n",
              "      <td>17</td>\n",
              "    </tr>\n",
              "    <tr>\n",
              "      <th>UTS1</th>\n",
              "      <td>Fisika</td>\n",
              "      <td>12</td>\n",
              "    </tr>\n",
              "    <tr>\n",
              "      <th>UAS1</th>\n",
              "      <td>Statistika</td>\n",
              "      <td>16</td>\n",
              "    </tr>\n",
              "    <tr>\n",
              "      <th>UTS1</th>\n",
              "      <td>Fisika</td>\n",
              "      <td>14</td>\n",
              "    </tr>\n",
              "    <tr>\n",
              "      <th>UAS1</th>\n",
              "      <td>Statistika</td>\n",
              "      <td>13</td>\n",
              "    </tr>\n",
              "  </tbody>\n",
              "</table>\n",
              "</div>"
            ],
            "text/plain": [
              "           Mata Pelajaran  Jumlah Peserta\n",
              "Tipe Ujian                               \n",
              "UTS1           Statistika              14\n",
              "UAS1               Fisika              17\n",
              "UTS1               Fisika              12\n",
              "UAS1           Statistika              16\n",
              "UTS1               Fisika              14\n",
              "UAS1           Statistika              13"
            ]
          },
          "metadata": {
            "tags": []
          },
          "execution_count": 57
        }
      ]
    },
    {
      "cell_type": "markdown",
      "metadata": {
        "id": "odnDYRM3Kryz",
        "colab_type": "text"
      },
      "source": [
        "Perhatikan bahwa data jumlah peserta ujian untuk suatu tipe ujian dan mata pelajaran tertentu ada yang duplikat, ubahlah struktur data tersebut dan lakukan aggregasi berjenis jumlah sehingga sesuai dengan hasil yang di harapkan\n",
        "\n",
        "Expected Result :\n",
        "\n",
        "![alt text](https://drive.google.com/uc?id=1emoz7orYR-0mCHffvAgM8j-V1P6yVHf0)"
      ]
    },
    {
      "cell_type": "code",
      "metadata": {
        "id": "mupPolWo2es-",
        "colab_type": "code",
        "outputId": "40070933-4dee-4266-c0e4-5ff57595d45b",
        "colab": {
          "base_uri": "https://localhost:8080/",
          "height": 143
        }
      },
      "source": [
        "df.pivot_table(index='Tipe Ujian', columns='Mata Pelajaran', values='Jumlah Peserta', aggfunc='sum')"
      ],
      "execution_count": 0,
      "outputs": [
        {
          "output_type": "execute_result",
          "data": {
            "text/html": [
              "<div>\n",
              "<style scoped>\n",
              "    .dataframe tbody tr th:only-of-type {\n",
              "        vertical-align: middle;\n",
              "    }\n",
              "\n",
              "    .dataframe tbody tr th {\n",
              "        vertical-align: top;\n",
              "    }\n",
              "\n",
              "    .dataframe thead th {\n",
              "        text-align: right;\n",
              "    }\n",
              "</style>\n",
              "<table border=\"1\" class=\"dataframe\">\n",
              "  <thead>\n",
              "    <tr style=\"text-align: right;\">\n",
              "      <th>Mata Pelajaran</th>\n",
              "      <th>Fisika</th>\n",
              "      <th>Statistika</th>\n",
              "    </tr>\n",
              "    <tr>\n",
              "      <th>Tipe Ujian</th>\n",
              "      <th></th>\n",
              "      <th></th>\n",
              "    </tr>\n",
              "  </thead>\n",
              "  <tbody>\n",
              "    <tr>\n",
              "      <th>UAS1</th>\n",
              "      <td>17</td>\n",
              "      <td>29</td>\n",
              "    </tr>\n",
              "    <tr>\n",
              "      <th>UTS1</th>\n",
              "      <td>26</td>\n",
              "      <td>14</td>\n",
              "    </tr>\n",
              "  </tbody>\n",
              "</table>\n",
              "</div>"
            ],
            "text/plain": [
              "Mata Pelajaran  Fisika  Statistika\n",
              "Tipe Ujian                        \n",
              "UAS1                17          29\n",
              "UTS1                26          14"
            ]
          },
          "metadata": {
            "tags": []
          },
          "execution_count": 58
        }
      ]
    }
  ]
}