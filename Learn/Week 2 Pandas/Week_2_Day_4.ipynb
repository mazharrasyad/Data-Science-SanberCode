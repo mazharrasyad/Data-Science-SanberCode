{
  "nbformat": 4,
  "nbformat_minor": 0,
  "metadata": {
    "kernelspec": {
      "display_name": "Python 3",
      "language": "python",
      "name": "python3"
    },
    "language_info": {
      "codemirror_mode": {
        "name": "ipython",
        "version": 3
      },
      "file_extension": ".py",
      "mimetype": "text/x-python",
      "name": "python",
      "nbconvert_exporter": "python",
      "pygments_lexer": "ipython3",
      "version": "3.7.7"
    },
    "colab": {
      "name": "Week 2 Day 4.ipynb",
      "provenance": [],
      "collapsed_sections": []
    }
  },
  "cells": [
    {
      "cell_type": "markdown",
      "metadata": {
        "id": "FpYTc550uf_7",
        "colab_type": "text"
      },
      "source": [
        "<b>Note</b> : Pada kuis kali ini kita akan menggunakan data diamonds.csv yang bisa kalian download disini. setelah di download, kalian pindahkan data tersebut satu level dengan direktori file notebook ini.\n"
      ]
    },
    {
      "cell_type": "code",
      "metadata": {
        "id": "KfOPgneougAP",
        "colab_type": "code",
        "colab": {}
      },
      "source": [
        "import pandas as pd\n",
        "df = pd.read_csv('diamonds.csv')\n",
        "df.drop('Unnamed: 0', axis=1, inplace=True)"
      ],
      "execution_count": 0,
      "outputs": []
    },
    {
      "cell_type": "code",
      "metadata": {
        "id": "zaoHa3WWugB5",
        "colab_type": "code",
        "outputId": "a76bf085-2363-4fe2-d9b8-91744106a56e",
        "colab": {
          "base_uri": "https://localhost:8080/",
          "height": 206
        }
      },
      "source": [
        "df.head()"
      ],
      "execution_count": 0,
      "outputs": [
        {
          "output_type": "execute_result",
          "data": {
            "text/html": [
              "<div>\n",
              "<style scoped>\n",
              "    .dataframe tbody tr th:only-of-type {\n",
              "        vertical-align: middle;\n",
              "    }\n",
              "\n",
              "    .dataframe tbody tr th {\n",
              "        vertical-align: top;\n",
              "    }\n",
              "\n",
              "    .dataframe thead th {\n",
              "        text-align: right;\n",
              "    }\n",
              "</style>\n",
              "<table border=\"1\" class=\"dataframe\">\n",
              "  <thead>\n",
              "    <tr style=\"text-align: right;\">\n",
              "      <th></th>\n",
              "      <th>carat</th>\n",
              "      <th>cut</th>\n",
              "      <th>color</th>\n",
              "      <th>clarity</th>\n",
              "      <th>depth</th>\n",
              "      <th>table</th>\n",
              "      <th>price</th>\n",
              "      <th>x</th>\n",
              "      <th>y</th>\n",
              "      <th>z</th>\n",
              "    </tr>\n",
              "  </thead>\n",
              "  <tbody>\n",
              "    <tr>\n",
              "      <th>0</th>\n",
              "      <td>0.23</td>\n",
              "      <td>Ideal</td>\n",
              "      <td>E</td>\n",
              "      <td>SI2</td>\n",
              "      <td>61.5</td>\n",
              "      <td>55.0</td>\n",
              "      <td>326</td>\n",
              "      <td>3.95</td>\n",
              "      <td>3.98</td>\n",
              "      <td>2.43</td>\n",
              "    </tr>\n",
              "    <tr>\n",
              "      <th>1</th>\n",
              "      <td>0.21</td>\n",
              "      <td>Premium</td>\n",
              "      <td>E</td>\n",
              "      <td>SI1</td>\n",
              "      <td>59.8</td>\n",
              "      <td>61.0</td>\n",
              "      <td>326</td>\n",
              "      <td>3.89</td>\n",
              "      <td>3.84</td>\n",
              "      <td>2.31</td>\n",
              "    </tr>\n",
              "    <tr>\n",
              "      <th>2</th>\n",
              "      <td>0.23</td>\n",
              "      <td>Good</td>\n",
              "      <td>E</td>\n",
              "      <td>VS1</td>\n",
              "      <td>56.9</td>\n",
              "      <td>65.0</td>\n",
              "      <td>327</td>\n",
              "      <td>4.05</td>\n",
              "      <td>4.07</td>\n",
              "      <td>2.31</td>\n",
              "    </tr>\n",
              "    <tr>\n",
              "      <th>3</th>\n",
              "      <td>0.29</td>\n",
              "      <td>Premium</td>\n",
              "      <td>I</td>\n",
              "      <td>VS2</td>\n",
              "      <td>62.4</td>\n",
              "      <td>58.0</td>\n",
              "      <td>334</td>\n",
              "      <td>4.20</td>\n",
              "      <td>4.23</td>\n",
              "      <td>2.63</td>\n",
              "    </tr>\n",
              "    <tr>\n",
              "      <th>4</th>\n",
              "      <td>0.31</td>\n",
              "      <td>Good</td>\n",
              "      <td>J</td>\n",
              "      <td>SI2</td>\n",
              "      <td>63.3</td>\n",
              "      <td>58.0</td>\n",
              "      <td>335</td>\n",
              "      <td>4.34</td>\n",
              "      <td>4.35</td>\n",
              "      <td>2.75</td>\n",
              "    </tr>\n",
              "  </tbody>\n",
              "</table>\n",
              "</div>"
            ],
            "text/plain": [
              "   carat      cut color clarity  depth  table  price     x     y     z\n",
              "0   0.23    Ideal     E     SI2   61.5   55.0    326  3.95  3.98  2.43\n",
              "1   0.21  Premium     E     SI1   59.8   61.0    326  3.89  3.84  2.31\n",
              "2   0.23     Good     E     VS1   56.9   65.0    327  4.05  4.07  2.31\n",
              "3   0.29  Premium     I     VS2   62.4   58.0    334  4.20  4.23  2.63\n",
              "4   0.31     Good     J     SI2   63.3   58.0    335  4.34  4.35  2.75"
            ]
          },
          "metadata": {
            "tags": []
          },
          "execution_count": 4
        }
      ]
    },
    {
      "cell_type": "markdown",
      "metadata": {
        "id": "ruJmj5dOugDX",
        "colab_type": "text"
      },
      "source": [
        "Columns Metadata :\n",
        "\n",
        "carat : berat diamond\n",
        "\n",
        "cut : kualitas diamond\n",
        "\n",
        "color : warna diamond\n",
        "\n",
        "clarity : level kemurnian diamonds\n",
        "\n",
        "depth : tinggi dari diamond tabel\n",
        "\n",
        "table : lebar  dari diamond tabel\n",
        "\n",
        "price : harga diamond ($US)\n",
        "\n",
        "x : panjang\n",
        "\n",
        "y : lebar\n",
        "\n",
        "z : kedalaaman"
      ]
    },
    {
      "cell_type": "markdown",
      "metadata": {
        "id": "cc3BFzcyugDi",
        "colab_type": "text"
      },
      "source": [
        "<h2>Quiz 1 : Process Grouping</h2>\n",
        "\n",
        "Jelaskan prosess yang terjadi dalam grouping data menggungkan method <b>groupby()</b> dari pandas."
      ]
    },
    {
      "cell_type": "markdown",
      "metadata": {
        "id": "WIbJ-h1NugDv",
        "colab_type": "text"
      },
      "source": [
        "Ketika menggunakan method groupby() maka akan ada proses-proses berurutan yang terjadi yaitu :\n",
        "1. Splitting : Memisahkan data kedalam suatu group berdasarkan kriteria tertentu.\n",
        "2. Applying : Melakukan suatu operasi terhadap sekumpulan data di group-group tersebut.\n",
        "3. Combining : Menggabungkan data menjadi suatu struktur baru"
      ]
    },
    {
      "cell_type": "markdown",
      "metadata": {
        "id": "4sH4a9VTugD9",
        "colab_type": "text"
      },
      "source": [
        "<h2>Quiz 2 : Grouping All Column</h2>\n",
        "    \n",
        "Group data diamond berdasarkan cut (kualitas), lakukan aggregasi dengan fungsi rata2.\n",
        "\n",
        "Kemudian jawab pertanyaan berikut.\n",
        "- Berapa harga rata2 dari diamond berkualitas Premium"
      ]
    },
    {
      "cell_type": "code",
      "metadata": {
        "id": "dH88oA5eugEK",
        "colab_type": "code",
        "outputId": "09af253d-1055-43d5-dc38-262dbc79f997",
        "colab": {
          "base_uri": "https://localhost:8080/",
          "height": 238
        }
      },
      "source": [
        "# code here\n",
        "df.groupby('cut').agg('mean')"
      ],
      "execution_count": 0,
      "outputs": [
        {
          "output_type": "execute_result",
          "data": {
            "text/html": [
              "<div>\n",
              "<style scoped>\n",
              "    .dataframe tbody tr th:only-of-type {\n",
              "        vertical-align: middle;\n",
              "    }\n",
              "\n",
              "    .dataframe tbody tr th {\n",
              "        vertical-align: top;\n",
              "    }\n",
              "\n",
              "    .dataframe thead th {\n",
              "        text-align: right;\n",
              "    }\n",
              "</style>\n",
              "<table border=\"1\" class=\"dataframe\">\n",
              "  <thead>\n",
              "    <tr style=\"text-align: right;\">\n",
              "      <th></th>\n",
              "      <th>carat</th>\n",
              "      <th>depth</th>\n",
              "      <th>table</th>\n",
              "      <th>price</th>\n",
              "      <th>x</th>\n",
              "      <th>y</th>\n",
              "      <th>z</th>\n",
              "    </tr>\n",
              "    <tr>\n",
              "      <th>cut</th>\n",
              "      <th></th>\n",
              "      <th></th>\n",
              "      <th></th>\n",
              "      <th></th>\n",
              "      <th></th>\n",
              "      <th></th>\n",
              "      <th></th>\n",
              "    </tr>\n",
              "  </thead>\n",
              "  <tbody>\n",
              "    <tr>\n",
              "      <th>Fair</th>\n",
              "      <td>1.046137</td>\n",
              "      <td>64.041677</td>\n",
              "      <td>59.053789</td>\n",
              "      <td>4358.757764</td>\n",
              "      <td>6.246894</td>\n",
              "      <td>6.182652</td>\n",
              "      <td>3.982770</td>\n",
              "    </tr>\n",
              "    <tr>\n",
              "      <th>Good</th>\n",
              "      <td>0.849185</td>\n",
              "      <td>62.365879</td>\n",
              "      <td>58.694639</td>\n",
              "      <td>3928.864452</td>\n",
              "      <td>5.838785</td>\n",
              "      <td>5.850744</td>\n",
              "      <td>3.639507</td>\n",
              "    </tr>\n",
              "    <tr>\n",
              "      <th>Ideal</th>\n",
              "      <td>0.702837</td>\n",
              "      <td>61.709401</td>\n",
              "      <td>55.951668</td>\n",
              "      <td>3457.541970</td>\n",
              "      <td>5.507451</td>\n",
              "      <td>5.520080</td>\n",
              "      <td>3.401448</td>\n",
              "    </tr>\n",
              "    <tr>\n",
              "      <th>Premium</th>\n",
              "      <td>0.891955</td>\n",
              "      <td>61.264673</td>\n",
              "      <td>58.746095</td>\n",
              "      <td>4584.257704</td>\n",
              "      <td>5.973887</td>\n",
              "      <td>5.944879</td>\n",
              "      <td>3.647124</td>\n",
              "    </tr>\n",
              "    <tr>\n",
              "      <th>Very Good</th>\n",
              "      <td>0.806381</td>\n",
              "      <td>61.818275</td>\n",
              "      <td>57.956150</td>\n",
              "      <td>3981.759891</td>\n",
              "      <td>5.740696</td>\n",
              "      <td>5.770026</td>\n",
              "      <td>3.559801</td>\n",
              "    </tr>\n",
              "  </tbody>\n",
              "</table>\n",
              "</div>"
            ],
            "text/plain": [
              "              carat      depth      table  ...         x         y         z\n",
              "cut                                        ...                              \n",
              "Fair       1.046137  64.041677  59.053789  ...  6.246894  6.182652  3.982770\n",
              "Good       0.849185  62.365879  58.694639  ...  5.838785  5.850744  3.639507\n",
              "Ideal      0.702837  61.709401  55.951668  ...  5.507451  5.520080  3.401448\n",
              "Premium    0.891955  61.264673  58.746095  ...  5.973887  5.944879  3.647124\n",
              "Very Good  0.806381  61.818275  57.956150  ...  5.740696  5.770026  3.559801\n",
              "\n",
              "[5 rows x 7 columns]"
            ]
          },
          "metadata": {
            "tags": []
          },
          "execution_count": 5
        }
      ]
    },
    {
      "cell_type": "markdown",
      "metadata": {
        "id": "ILRCGtJ1ugFC",
        "colab_type": "text"
      },
      "source": [
        "jawaban : 4584.257704"
      ]
    },
    {
      "cell_type": "markdown",
      "metadata": {
        "id": "aw_QdwwUugFQ",
        "colab_type": "text"
      },
      "source": [
        "Expected Output :\n",
        "\n",
        "![image.png](attachment:image.png)"
      ]
    },
    {
      "cell_type": "markdown",
      "metadata": {
        "id": "jE7his2YugFg",
        "colab_type": "text"
      },
      "source": [
        "<h2>Quiz 3 : Grouping Some Column base on Multiple Criteria</h2>\n",
        "    \n",
        "Lakukan groupby pada data berdasarkan kriteria cut(kualitas) dan color (warna) secara berurutan, dengan aggregasi pada column carat, table, dan price saja. dengan fungsi agregasi rata-rata.\n",
        "\n",
        "Kemudian jawab pertanyaan berikut :\n",
        "- Berapa harga diamond yang berkriteria premium dan berwarna J\n",
        "- Berapa nilai dari carat diamond yang berkriteria very good dan berwarna H"
      ]
    },
    {
      "cell_type": "markdown",
      "metadata": {
        "id": "3bLdBe67ugFw",
        "colab_type": "text"
      },
      "source": [
        "Expected Output :\n",
        "\n",
        "Note : gambar hanya sebagaian dari keseluruhan data\n",
        "\n",
        "![image.png](attachment:image.png)"
      ]
    },
    {
      "cell_type": "code",
      "metadata": {
        "id": "mUNXfqPdugF_",
        "colab_type": "code",
        "colab": {}
      },
      "source": [
        "# code here\n",
        "df.groupby(['cut','color'])[['carat','table','price']].agg('mean')"
      ],
      "execution_count": 0,
      "outputs": []
    },
    {
      "cell_type": "markdown",
      "metadata": {
        "id": "iPe0ETR3ugGx",
        "colab_type": "text"
      },
      "source": [
        "jawaban\n",
        "1. 6294.591584\n",
        "2. 0.915948"
      ]
    },
    {
      "cell_type": "markdown",
      "metadata": {
        "id": "a3_TyZNrugHB",
        "colab_type": "text"
      },
      "source": [
        "Expected Output : \n",
        "\n",
        "![image.png](attachment:image.png)"
      ]
    },
    {
      "cell_type": "markdown",
      "metadata": {
        "id": "HtXJsF3zugHM",
        "colab_type": "text"
      },
      "source": [
        "<h2>Quiz 4 : Group By Multiple Aggregate Base on Multiple Criteria</h2>\n",
        "    \n",
        "Lakukan groupby pada data berdasarkan kriteria cut(kualitas) dan color (warna) secara berurutan kemudian aggregasi objek group by nya dengan fungsi rata2 dan median.\n",
        "\n",
        "Kemudian Jawab Pertanyaan berikut :\n",
        "\n",
        "- Berapa nilai median dari harga diamond berkualitas good dan berwarna F"
      ]
    },
    {
      "cell_type": "code",
      "metadata": {
        "id": "0HfV59hPugHX",
        "colab_type": "code",
        "colab": {}
      },
      "source": [
        "# code here\n",
        "df.groupby(['cut','color']).agg(['mean','median'])"
      ],
      "execution_count": 0,
      "outputs": []
    },
    {
      "cell_type": "markdown",
      "metadata": {
        "id": "OyBdpRSsugIb",
        "colab_type": "text"
      },
      "source": [
        "jawaban : 2647.0"
      ]
    },
    {
      "cell_type": "markdown",
      "metadata": {
        "id": "ZPIFU3PdugIn",
        "colab_type": "text"
      },
      "source": [
        "Expected Output :\n",
        "\n",
        "Note : gambar hanya sebagaian dari keseluruhan data\n",
        "\n",
        "![image.png](attachment:image.png)"
      ]
    },
    {
      "cell_type": "markdown",
      "metadata": {
        "id": "CBeqZIHsugI1",
        "colab_type": "text"
      },
      "source": [
        "<h2>Quiz 5 : Group By With Different Aggregation for specific Column</h2>\n",
        "    \n",
        "Lakukan groupby pada data berdasarkan criteria cut(kualitas), kemudian aggreagate dengan fungsi max pada column price dan fungsi min pada column carat.\n",
        "\n",
        "Kemudian Jawab Pertanyaan berikut :\n",
        "\n",
        "- Berapa nilai max dari price untuk diamond berkualitas Ideal"
      ]
    },
    {
      "cell_type": "markdown",
      "metadata": {
        "id": "ElE0hyeTugJB",
        "colab_type": "text"
      },
      "source": [
        "Expected Output :\n",
        "\n",
        "![image.png](attachment:image.png)"
      ]
    },
    {
      "cell_type": "code",
      "metadata": {
        "id": "Vp_SHK0WugJQ",
        "colab_type": "code",
        "outputId": "710aa0c1-5441-4675-d579-bb84158e226c",
        "colab": {
          "base_uri": "https://localhost:8080/",
          "height": 238
        }
      },
      "source": [
        "# code here\n",
        "df.groupby('cut').agg({'price':'max','carat':'min'})"
      ],
      "execution_count": 0,
      "outputs": [
        {
          "output_type": "execute_result",
          "data": {
            "text/html": [
              "<div>\n",
              "<style scoped>\n",
              "    .dataframe tbody tr th:only-of-type {\n",
              "        vertical-align: middle;\n",
              "    }\n",
              "\n",
              "    .dataframe tbody tr th {\n",
              "        vertical-align: top;\n",
              "    }\n",
              "\n",
              "    .dataframe thead th {\n",
              "        text-align: right;\n",
              "    }\n",
              "</style>\n",
              "<table border=\"1\" class=\"dataframe\">\n",
              "  <thead>\n",
              "    <tr style=\"text-align: right;\">\n",
              "      <th></th>\n",
              "      <th>price</th>\n",
              "      <th>carat</th>\n",
              "    </tr>\n",
              "    <tr>\n",
              "      <th>cut</th>\n",
              "      <th></th>\n",
              "      <th></th>\n",
              "    </tr>\n",
              "  </thead>\n",
              "  <tbody>\n",
              "    <tr>\n",
              "      <th>Fair</th>\n",
              "      <td>18574</td>\n",
              "      <td>0.22</td>\n",
              "    </tr>\n",
              "    <tr>\n",
              "      <th>Good</th>\n",
              "      <td>18788</td>\n",
              "      <td>0.23</td>\n",
              "    </tr>\n",
              "    <tr>\n",
              "      <th>Ideal</th>\n",
              "      <td>18806</td>\n",
              "      <td>0.20</td>\n",
              "    </tr>\n",
              "    <tr>\n",
              "      <th>Premium</th>\n",
              "      <td>18823</td>\n",
              "      <td>0.20</td>\n",
              "    </tr>\n",
              "    <tr>\n",
              "      <th>Very Good</th>\n",
              "      <td>18818</td>\n",
              "      <td>0.20</td>\n",
              "    </tr>\n",
              "  </tbody>\n",
              "</table>\n",
              "</div>"
            ],
            "text/plain": [
              "           price  carat\n",
              "cut                    \n",
              "Fair       18574   0.22\n",
              "Good       18788   0.23\n",
              "Ideal      18806   0.20\n",
              "Premium    18823   0.20\n",
              "Very Good  18818   0.20"
            ]
          },
          "metadata": {
            "tags": []
          },
          "execution_count": 9
        }
      ]
    },
    {
      "cell_type": "markdown",
      "metadata": {
        "id": "fm2QsMLpugKS",
        "colab_type": "text"
      },
      "source": [
        "jawaban : 18806"
      ]
    },
    {
      "cell_type": "markdown",
      "metadata": {
        "id": "W4Q3z6-qugKa",
        "colab_type": "text"
      },
      "source": [
        "<h2>Quiz 6 : Group By With Custom Function</h2>\n",
        "    \n",
        "Lakukan groupby pada data berdasarkan criteria cut(kualitas), kemudian lakukan aggregasi dengan fungsi standarisasi pada column carat dan fungsi rentang nilai antara max dan min pada column price.\n",
        "\n",
        "Kemudian jawab pertanyaan berikut :\n",
        "- Berapa selisih harga tertinggi dan terendah dari diamond berkualitas Premium"
      ]
    },
    {
      "cell_type": "markdown",
      "metadata": {
        "id": "BjsuYgJRugKm",
        "colab_type": "text"
      },
      "source": [
        "Expected Output :\n",
        "\n",
        "![image.png](attachment:image.png)"
      ]
    },
    {
      "cell_type": "code",
      "metadata": {
        "id": "BES3WTKiugKy",
        "colab_type": "code",
        "outputId": "4cc53cae-5a42-44f7-b887-7c4fb06c673d",
        "colab": {
          "base_uri": "https://localhost:8080/",
          "height": 238
        }
      },
      "source": [
        "# code here\n",
        "def rentang(x):\n",
        "  return x.max() - x.min()\n",
        "\n",
        "df.groupby('cut').agg({'carat':'std','price':rentang})"
      ],
      "execution_count": 0,
      "outputs": [
        {
          "output_type": "execute_result",
          "data": {
            "text/html": [
              "<div>\n",
              "<style scoped>\n",
              "    .dataframe tbody tr th:only-of-type {\n",
              "        vertical-align: middle;\n",
              "    }\n",
              "\n",
              "    .dataframe tbody tr th {\n",
              "        vertical-align: top;\n",
              "    }\n",
              "\n",
              "    .dataframe thead th {\n",
              "        text-align: right;\n",
              "    }\n",
              "</style>\n",
              "<table border=\"1\" class=\"dataframe\">\n",
              "  <thead>\n",
              "    <tr style=\"text-align: right;\">\n",
              "      <th></th>\n",
              "      <th>carat</th>\n",
              "      <th>price</th>\n",
              "    </tr>\n",
              "    <tr>\n",
              "      <th>cut</th>\n",
              "      <th></th>\n",
              "      <th></th>\n",
              "    </tr>\n",
              "  </thead>\n",
              "  <tbody>\n",
              "    <tr>\n",
              "      <th>Fair</th>\n",
              "      <td>0.516404</td>\n",
              "      <td>18237</td>\n",
              "    </tr>\n",
              "    <tr>\n",
              "      <th>Good</th>\n",
              "      <td>0.454054</td>\n",
              "      <td>18461</td>\n",
              "    </tr>\n",
              "    <tr>\n",
              "      <th>Ideal</th>\n",
              "      <td>0.432876</td>\n",
              "      <td>18480</td>\n",
              "    </tr>\n",
              "    <tr>\n",
              "      <th>Premium</th>\n",
              "      <td>0.515262</td>\n",
              "      <td>18497</td>\n",
              "    </tr>\n",
              "    <tr>\n",
              "      <th>Very Good</th>\n",
              "      <td>0.459435</td>\n",
              "      <td>18482</td>\n",
              "    </tr>\n",
              "  </tbody>\n",
              "</table>\n",
              "</div>"
            ],
            "text/plain": [
              "              carat  price\n",
              "cut                       \n",
              "Fair       0.516404  18237\n",
              "Good       0.454054  18461\n",
              "Ideal      0.432876  18480\n",
              "Premium    0.515262  18497\n",
              "Very Good  0.459435  18482"
            ]
          },
          "metadata": {
            "tags": []
          },
          "execution_count": 11
        }
      ]
    },
    {
      "cell_type": "markdown",
      "metadata": {
        "id": "1ghapJdcugLb",
        "colab_type": "text"
      },
      "source": [
        "jawaban : 18497"
      ]
    }
  ]
}