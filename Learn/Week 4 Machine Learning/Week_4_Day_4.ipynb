{
  "nbformat": 4,
  "nbformat_minor": 0,
  "metadata": {
    "kernelspec": {
      "display_name": "Python 3",
      "language": "python",
      "name": "python3"
    },
    "language_info": {
      "codemirror_mode": {
        "name": "ipython",
        "version": 3
      },
      "file_extension": ".py",
      "mimetype": "text/x-python",
      "name": "python",
      "nbconvert_exporter": "python",
      "pygments_lexer": "ipython3",
      "version": "3.7.6"
    },
    "colab": {
      "name": "Week 4 Day 4.ipynb",
      "provenance": [],
      "collapsed_sections": []
    }
  },
  "cells": [
    {
      "cell_type": "markdown",
      "metadata": {
        "id": "fz1u6Ppbv_IO",
        "colab_type": "text"
      },
      "source": [
        "<h1> Quiz 1 Pemahaman tentang Model Selection</h1>\n",
        "\n",
        "Jelaskan dengan bahasa kalian sendiri\n",
        "\n",
        "1. Apa itu Bias dan Variance?\n",
        "2. Apa itu Overfitting dan Underfitting?\n",
        "3. Apa yang bisa kita lakukan untuk mengatur kompleksitas dari model?\n",
        "4. Bagaimana model yang baik?\n",
        "5. Kapan kira2 kita menggunakan GridSearchcv dan kapan menggunakan RandomizedSearchCV?"
      ]
    },
    {
      "cell_type": "markdown",
      "metadata": {
        "id": "U9YlDNRVbde7",
        "colab_type": "text"
      },
      "source": [
        "1. Bias adalah sebuah error dikarenakan model yang dibuat terlalu simple sehingga menimbulkan error tersebut sedangkan variance adalah sebuah error dikarenakan model yang dibuat terlalu kompleks sehingga terjadilah error.\n",
        "\n",
        "2. Overfitting adalah kemampuan suatu model dalam mempelajari data training secara detail sehingga mengakibatkan penurunan pembelajaran pada data test, sedangkan underfitting adalah kemampuan suatu model yang kurang dalam mempelajari data training sehingga mengakibatkan tingkat akurasi data test serta data training yang buruk.\n",
        "\n",
        "3. Menyesuaikan model yang telah kita buat dengan data training dan data test, apabila model yang kita buat mempelajari data training dengan baik maka perlu disesuaikan kembali dengan data test kita, agar model kita tidak salah memprediksi karena terlalu detailnya mempelajari data training, oleh karena itu perlu disesuaikan kapan model kita perlu berhenti belajar dan berganti mempelajari data test supaya seimbang\n",
        "\n",
        "4. Model yang mempunyai error bias dan error variance yang berukuran kecil, sehingga perlu dicari nilai tengah (trade off) dari kedua error tersebut\n",
        "\n",
        "5. GridSearchCV digunakan ketika kita ingin mencoba seluruh kemungkinan nilai yang ada pada kumpulan data dengan resiko menunggu waktu yang cukup lama sedangkan RandomizedSearchCV digunakan ketika kita hanya ingin mengetahui beberapa nilai saja dari semua kumpulan data dengan waktu yang relatif cepat"
      ]
    },
    {
      "cell_type": "markdown",
      "metadata": {
        "id": "bwd78Fdzv_Ig",
        "colab_type": "text"
      },
      "source": [
        "<h1> Quiz 2 Praktis Model Selection</h1>\n",
        "\n",
        "1. Bagi kedua data ini menjadi data training dan data test dengan test_size=0.25.\n",
        "2. Gunakan algoritma KNN sebagai model classifier.\n",
        "3. Gunakan fungsi GridSearchCV untuk hyperparameter tuning dan model selection.\n",
        "4. jumlah fold bebas!, gunakan scoring 'roc_auc'\n",
        "5. Definisikan kombinasi hyperparameter untuk model selection dengan GridSearchCV. kombinasi Hyperparameter bebas, baca lagi dokumentasi KNN di link berikut https://scikit-learn.org/stable/modules/generated/sklearn.neighbors.KNeighborsClassifier.html untuk memahami lagi jenis2 hyperparameter di algorithma KNN.\n",
        "6. Latih model terhadap data training.\n",
        "7. Apa hyperparameter terbaik untuk kombinasi hyperparameter kalian?\n",
        "8. Berapa score validasi terbaik dari model tersebut?\n",
        "9. Prediksi probabilitasi output dari model yang telah di buat terhadap data test. note : gunakan method .predict_proba() untuk menghasilkan output probabilitas\n",
        "10. Perhatikan bahwa hasil prediksi ada 2, dimana masing2 adalah nilai probabilitas untuk setiap class label. Ambil nilai probabilitas pasien phositive meninggal dalam waktu kurang dari 5 tahun. note : gunakan bantuan attirubte .classes_ untuk mengetahui urutan label dari hasil prediksi probabilitas.\n",
        "11. Berapa nilai score roc_auc untuk data test?\n",
        "12. Apakah model anda termasuk baik atau overtting atau underfitting?\n",
        "13. Ulangi tahap di atas namun kali ini menggunakan algoritma DecisionTreeClassifier dan kalian bisa menggunakan RandomizedSearchCV apabila process training lama. pelajari algoritma DecisionTreeClassifier di linkberikut : https://scikit-learn.org/stable/modules/generated/sklearn.tree.DecisionTreeClassifier.html?highlight=decisiontreeclassifier#sklearn.tree.DecisionTreeClassifier\n",
        "14. Bandingkan scorenya dengan Algoritma KNN, mana yang lebih baik?\n",
        "\n",
        "Note : Data Science adalah experiment, sangat di dimungkinkan memerlukan beberapa kali percobaan untuk mendapatkan hasil yang terbaik! Happy Coding :)"
      ]
    },
    {
      "cell_type": "code",
      "metadata": {
        "id": "q5hihYciv_I6",
        "colab_type": "code",
        "colab": {}
      },
      "source": [
        "import pandas as pd\n",
        "\n",
        "url = 'https://raw.githubusercontent.com/jbrownlee/Datasets/master/haberman.csv'\n",
        "list_cols = ['Age', \"Patient's Years\", \"N_positive_ax\", \"survival_status\"]\n",
        "df = pd.read_csv(url, names=list_cols)"
      ],
      "execution_count": 0,
      "outputs": []
    },
    {
      "cell_type": "code",
      "metadata": {
        "id": "AGf7gfcEv_Ku",
        "colab_type": "code",
        "outputId": "f7cea9dd-0816-4a5a-a5e3-8d121cfe4aad",
        "colab": {
          "base_uri": "https://localhost:8080/",
          "height": 206
        }
      },
      "source": [
        "df.head()"
      ],
      "execution_count": 0,
      "outputs": [
        {
          "output_type": "execute_result",
          "data": {
            "text/html": [
              "<div>\n",
              "<style scoped>\n",
              "    .dataframe tbody tr th:only-of-type {\n",
              "        vertical-align: middle;\n",
              "    }\n",
              "\n",
              "    .dataframe tbody tr th {\n",
              "        vertical-align: top;\n",
              "    }\n",
              "\n",
              "    .dataframe thead th {\n",
              "        text-align: right;\n",
              "    }\n",
              "</style>\n",
              "<table border=\"1\" class=\"dataframe\">\n",
              "  <thead>\n",
              "    <tr style=\"text-align: right;\">\n",
              "      <th></th>\n",
              "      <th>Age</th>\n",
              "      <th>Patient's Years</th>\n",
              "      <th>N_positive_ax</th>\n",
              "      <th>survival_status</th>\n",
              "    </tr>\n",
              "  </thead>\n",
              "  <tbody>\n",
              "    <tr>\n",
              "      <th>0</th>\n",
              "      <td>30</td>\n",
              "      <td>64</td>\n",
              "      <td>1</td>\n",
              "      <td>1</td>\n",
              "    </tr>\n",
              "    <tr>\n",
              "      <th>1</th>\n",
              "      <td>30</td>\n",
              "      <td>62</td>\n",
              "      <td>3</td>\n",
              "      <td>1</td>\n",
              "    </tr>\n",
              "    <tr>\n",
              "      <th>2</th>\n",
              "      <td>30</td>\n",
              "      <td>65</td>\n",
              "      <td>0</td>\n",
              "      <td>1</td>\n",
              "    </tr>\n",
              "    <tr>\n",
              "      <th>3</th>\n",
              "      <td>31</td>\n",
              "      <td>59</td>\n",
              "      <td>2</td>\n",
              "      <td>1</td>\n",
              "    </tr>\n",
              "    <tr>\n",
              "      <th>4</th>\n",
              "      <td>31</td>\n",
              "      <td>65</td>\n",
              "      <td>4</td>\n",
              "      <td>1</td>\n",
              "    </tr>\n",
              "  </tbody>\n",
              "</table>\n",
              "</div>"
            ],
            "text/plain": [
              "   Age  Patient's Years  N_positive_ax  survival_status\n",
              "0   30               64              1                1\n",
              "1   30               62              3                1\n",
              "2   30               65              0                1\n",
              "3   31               59              2                1\n",
              "4   31               65              4                1"
            ]
          },
          "metadata": {
            "tags": []
          },
          "execution_count": 2
        }
      ]
    },
    {
      "cell_type": "code",
      "metadata": {
        "id": "mgCmZFxWXxF6",
        "colab_type": "code",
        "colab": {}
      },
      "source": [
        "# 1. Bagi kedua data ini menjadi data training dan data test dengan test_size=0.25.\n",
        "from sklearn.model_selection import train_test_split\n",
        "\n",
        "X = df.drop('survival_status', axis=1)\n",
        "y = df['survival_status']\n",
        "X_train, X_test, y_train, y_test = train_test_split(X, y, random_state=21, stratify=y, test_size=0.25)"
      ],
      "execution_count": 0,
      "outputs": []
    },
    {
      "cell_type": "code",
      "metadata": {
        "id": "J6MesHlWcQkj",
        "colab_type": "code",
        "colab": {}
      },
      "source": [
        "# 2. Gunakan algoritma KNN sebagai model classifier.\n",
        "from sklearn.neighbors import KNeighborsClassifier\n",
        "\n",
        "model = KNeighborsClassifier(n_neighbors=5)"
      ],
      "execution_count": 0,
      "outputs": []
    },
    {
      "cell_type": "code",
      "metadata": {
        "id": "UPfOIsFjeXhu",
        "colab_type": "code",
        "colab": {}
      },
      "source": [
        "# 3. Gunakan fungsi GridSearchCV untuk hyperparameter tuning dan model selection.\n",
        "# 4. jumlah fold bebas!, gunakan scoring 'roc_auc'\n",
        "import numpy as np\n",
        "\n",
        "from sklearn.model_selection import GridSearchCV\n",
        "from sklearn.metrics import roc_auc_score\n",
        "\n",
        "param_grid = {'n_neighbors':np.arange(5, 50), 'weights':['distance', 'uniform']}"
      ],
      "execution_count": 0,
      "outputs": []
    },
    {
      "cell_type": "code",
      "metadata": {
        "id": "q-FDUzmledxk",
        "colab_type": "code",
        "colab": {}
      },
      "source": [
        "# 5. Definisikan kombinasi hyperparameter untuk model selection dengan GridSearchCV. kombinasi Hyperparameter bebas, baca lagi dokumentasi KNN di link berikut https://scikit-learn.org/stable/modules/generated/sklearn.neighbors.KNeighborsClassifier.html untuk memahami lagi jenis2 hyperparameter di algorithma KNN.\n",
        "gscv = GridSearchCV(model, param_grid=param_grid, scoring='roc_auc', cv=5)"
      ],
      "execution_count": 0,
      "outputs": []
    },
    {
      "cell_type": "code",
      "metadata": {
        "id": "-ICGShs_eqOx",
        "colab_type": "code",
        "outputId": "add6e030-ffc9-499e-e06f-3abc19845d6b",
        "colab": {
          "base_uri": "https://localhost:8080/",
          "height": 243
        }
      },
      "source": [
        "# 6. Latih model terhadap data training.\n",
        "gscv.fit(X, y)"
      ],
      "execution_count": 0,
      "outputs": [
        {
          "output_type": "execute_result",
          "data": {
            "text/plain": [
              "GridSearchCV(cv=5, error_score=nan,\n",
              "             estimator=KNeighborsClassifier(algorithm='auto', leaf_size=30,\n",
              "                                            metric='minkowski',\n",
              "                                            metric_params=None, n_jobs=None,\n",
              "                                            n_neighbors=5, p=2,\n",
              "                                            weights='uniform'),\n",
              "             iid='deprecated', n_jobs=None,\n",
              "             param_grid={'n_neighbors': array([ 5,  6,  7,  8,  9, 10, 11, 12, 13, 14, 15, 16, 17, 18, 19, 20, 21,\n",
              "       22, 23, 24, 25, 26, 27, 28, 29, 30, 31, 32, 33, 34, 35, 36, 37, 38,\n",
              "       39, 40, 41, 42, 43, 44, 45, 46, 47, 48, 49]),\n",
              "                         'weights': ['distance', 'uniform']},\n",
              "             pre_dispatch='2*n_jobs', refit=True, return_train_score=False,\n",
              "             scoring='roc_auc', verbose=0)"
            ]
          },
          "metadata": {
            "tags": []
          },
          "execution_count": 7
        }
      ]
    },
    {
      "cell_type": "code",
      "metadata": {
        "id": "NMM5kwcFe1oW",
        "colab_type": "code",
        "outputId": "95a3e1d7-bc14-4c5a-f297-f2723a080544",
        "colab": {
          "base_uri": "https://localhost:8080/",
          "height": 34
        }
      },
      "source": [
        "# 7. Apa hyperparameter terbaik untuk kombinasi hyperparameter kalian?\n",
        "gscv.best_params_"
      ],
      "execution_count": 0,
      "outputs": [
        {
          "output_type": "execute_result",
          "data": {
            "text/plain": [
              "{'n_neighbors': 40, 'weights': 'uniform'}"
            ]
          },
          "metadata": {
            "tags": []
          },
          "execution_count": 8
        }
      ]
    },
    {
      "cell_type": "code",
      "metadata": {
        "id": "JF5qlVnde-Jx",
        "colab_type": "code",
        "outputId": "d18f6f2b-a026-41c5-aaa6-fb740dd9aadb",
        "colab": {
          "base_uri": "https://localhost:8080/",
          "height": 34
        }
      },
      "source": [
        "# 8. Berapa score validasi terbaik dari model tersebut?\n",
        "gscv.best_score_"
      ],
      "execution_count": 0,
      "outputs": [
        {
          "output_type": "execute_result",
          "data": {
            "text/plain": [
              "0.7151062091503269"
            ]
          },
          "metadata": {
            "tags": []
          },
          "execution_count": 9
        }
      ]
    },
    {
      "cell_type": "code",
      "metadata": {
        "id": "O8y44nawfE0K",
        "colab_type": "code",
        "outputId": "68c5a8e4-3aba-4f08-c495-72d5da3b5284",
        "colab": {
          "base_uri": "https://localhost:8080/",
          "height": 1000
        }
      },
      "source": [
        "# 9. Prediksi probabilitasi output dari model yang telah di buat terhadap data test. note : gunakan method .predict_proba() untuk menghasilkan output probabilitas\n",
        "gscv.predict_proba(X_test)"
      ],
      "execution_count": 0,
      "outputs": [
        {
          "output_type": "execute_result",
          "data": {
            "text/plain": [
              "array([[0.725, 0.275],\n",
              "       [0.725, 0.275],\n",
              "       [0.65 , 0.35 ],\n",
              "       [0.5  , 0.5  ],\n",
              "       [0.7  , 0.3  ],\n",
              "       [0.825, 0.175],\n",
              "       [0.8  , 0.2  ],\n",
              "       [0.8  , 0.2  ],\n",
              "       [0.75 , 0.25 ],\n",
              "       [0.7  , 0.3  ],\n",
              "       [0.375, 0.625],\n",
              "       [0.875, 0.125],\n",
              "       [0.75 , 0.25 ],\n",
              "       [0.85 , 0.15 ],\n",
              "       [0.85 , 0.15 ],\n",
              "       [0.925, 0.075],\n",
              "       [0.8  , 0.2  ],\n",
              "       [0.75 , 0.25 ],\n",
              "       [0.775, 0.225],\n",
              "       [0.475, 0.525],\n",
              "       [0.875, 0.125],\n",
              "       [0.85 , 0.15 ],\n",
              "       [0.85 , 0.15 ],\n",
              "       [0.375, 0.625],\n",
              "       [0.875, 0.125],\n",
              "       [0.925, 0.075],\n",
              "       [0.85 , 0.15 ],\n",
              "       [0.875, 0.125],\n",
              "       [0.9  , 0.1  ],\n",
              "       [0.825, 0.175],\n",
              "       [0.9  , 0.1  ],\n",
              "       [0.425, 0.575],\n",
              "       [0.8  , 0.2  ],\n",
              "       [0.8  , 0.2  ],\n",
              "       [0.475, 0.525],\n",
              "       [0.8  , 0.2  ],\n",
              "       [0.85 , 0.15 ],\n",
              "       [0.8  , 0.2  ],\n",
              "       [0.875, 0.125],\n",
              "       [0.8  , 0.2  ],\n",
              "       [0.5  , 0.5  ],\n",
              "       [0.85 , 0.15 ],\n",
              "       [0.75 , 0.25 ],\n",
              "       [0.55 , 0.45 ],\n",
              "       [0.8  , 0.2  ],\n",
              "       [0.925, 0.075],\n",
              "       [0.8  , 0.2  ],\n",
              "       [0.9  , 0.1  ],\n",
              "       [0.875, 0.125],\n",
              "       [0.4  , 0.6  ],\n",
              "       [0.8  , 0.2  ],\n",
              "       [0.4  , 0.6  ],\n",
              "       [0.875, 0.125],\n",
              "       [0.775, 0.225],\n",
              "       [0.85 , 0.15 ],\n",
              "       [0.85 , 0.15 ],\n",
              "       [0.85 , 0.15 ],\n",
              "       [0.5  , 0.5  ],\n",
              "       [0.825, 0.175],\n",
              "       [0.375, 0.625],\n",
              "       [0.45 , 0.55 ],\n",
              "       [0.85 , 0.15 ],\n",
              "       [0.75 , 0.25 ],\n",
              "       [0.85 , 0.15 ],\n",
              "       [0.75 , 0.25 ],\n",
              "       [0.75 , 0.25 ],\n",
              "       [0.775, 0.225],\n",
              "       [0.75 , 0.25 ],\n",
              "       [0.65 , 0.35 ],\n",
              "       [0.925, 0.075],\n",
              "       [0.725, 0.275],\n",
              "       [0.875, 0.125],\n",
              "       [0.75 , 0.25 ],\n",
              "       [0.425, 0.575],\n",
              "       [0.75 , 0.25 ],\n",
              "       [0.85 , 0.15 ],\n",
              "       [0.4  , 0.6  ]])"
            ]
          },
          "metadata": {
            "tags": []
          },
          "execution_count": 10
        }
      ]
    },
    {
      "cell_type": "code",
      "metadata": {
        "id": "vApdseZOfJba",
        "colab_type": "code",
        "outputId": "e8ecc3a0-4428-44eb-e2fc-3780892facce",
        "colab": {
          "base_uri": "https://localhost:8080/",
          "height": 191
        }
      },
      "source": [
        "# 10. Perhatikan bahwa hasil prediksi ada 2, dimana masing2 adalah nilai probabilitas untuk setiap class label. Ambil nilai probabilitas pasien phositive meninggal dalam waktu kurang dari 5 tahun. note : gunakan bantuan attirubte .classes_ untuk mengetahui urutan label dari hasil prediksi probabilitas.\n",
        "print(gscv.classes_)\n",
        "# Survival status (class attribute)\n",
        "    #  1 = the patient survived 5 years or longer (Array = 0)\n",
        "    #  2 = the patient died within 5 year         (Array = 1)\n",
        "gscv.predict_proba(X_test)[:,1]"
      ],
      "execution_count": 0,
      "outputs": [
        {
          "output_type": "stream",
          "text": [
            "[1 2]\n"
          ],
          "name": "stdout"
        },
        {
          "output_type": "execute_result",
          "data": {
            "text/plain": [
              "array([0.275, 0.275, 0.35 , 0.5  , 0.3  , 0.175, 0.2  , 0.2  , 0.25 ,\n",
              "       0.3  , 0.625, 0.125, 0.25 , 0.15 , 0.15 , 0.075, 0.2  , 0.25 ,\n",
              "       0.225, 0.525, 0.125, 0.15 , 0.15 , 0.625, 0.125, 0.075, 0.15 ,\n",
              "       0.125, 0.1  , 0.175, 0.1  , 0.575, 0.2  , 0.2  , 0.525, 0.2  ,\n",
              "       0.15 , 0.2  , 0.125, 0.2  , 0.5  , 0.15 , 0.25 , 0.45 , 0.2  ,\n",
              "       0.075, 0.2  , 0.1  , 0.125, 0.6  , 0.2  , 0.6  , 0.125, 0.225,\n",
              "       0.15 , 0.15 , 0.15 , 0.5  , 0.175, 0.625, 0.55 , 0.15 , 0.25 ,\n",
              "       0.15 , 0.25 , 0.25 , 0.225, 0.25 , 0.35 , 0.075, 0.275, 0.125,\n",
              "       0.25 , 0.575, 0.25 , 0.15 , 0.6  ])"
            ]
          },
          "metadata": {
            "tags": []
          },
          "execution_count": 11
        }
      ]
    },
    {
      "cell_type": "code",
      "metadata": {
        "id": "VScxabypgAOn",
        "colab_type": "code",
        "outputId": "d20d3d30-ecec-49b9-dd7a-737ac73bcac8",
        "colab": {
          "base_uri": "https://localhost:8080/",
          "height": 34
        }
      },
      "source": [
        "# 11. Berapa nilai score roc_auc untuk data test?\n",
        "from sklearn.model_selection import cross_validate\n",
        "\n",
        "cv_score = cross_validate(model, X_test, y_test, cv=10, return_train_score=True)\n",
        "cv_score['test_score'].mean()"
      ],
      "execution_count": 0,
      "outputs": [
        {
          "output_type": "execute_result",
          "data": {
            "text/plain": [
              "0.7160714285714286"
            ]
          },
          "metadata": {
            "tags": []
          },
          "execution_count": 12
        }
      ]
    },
    {
      "cell_type": "code",
      "metadata": {
        "id": "3nbFDjHPgHe3",
        "colab_type": "code",
        "outputId": "ecd406b0-42a2-42e9-894f-e076d53a7310",
        "colab": {
          "base_uri": "https://localhost:8080/",
          "height": 561
        }
      },
      "source": [
        "# 12. Apakah model anda termasuk baik atau overtting atau underfitting?\n",
        "def knn_predict(k):\n",
        "    model = KNeighborsClassifier(n_neighbors=k)\n",
        "    score = cross_validate(model, X, y, cv=10, return_train_score=True)\n",
        "    train_score = score['train_score'].mean()\n",
        "    test_score = score['test_score'].mean()\n",
        "    return train_score, test_score\n",
        "\n",
        "train_scores = []\n",
        "test_scores = []\n",
        "\n",
        "for k in range(2, 100):\n",
        "  train_score, test_score = knn_predict(k)\n",
        "  train_scores.append(train_score)\n",
        "  test_scores.append(test_score)\n",
        "\n",
        "import matplotlib.pyplot as plt\n",
        "\n",
        "fig, ax = plt.subplots(figsize=(14, 8))\n",
        "\n",
        "ax.plot(range(2, 100), train_scores, marker='x', color='b', label='Train Scores')\n",
        "ax.plot(range(2, 100), test_scores, marker='o', color='g', label='Test Scores')\n",
        "ax.set_xlabel('Nilai K')\n",
        "ax.set_ylabel('Score')\n",
        "\n",
        "fig.legend()\n",
        "plt.show()\n",
        "# Termasuk overfitting karena terlihat pada figure dibawah jika data training terlalu tinggi dibanding data test"
      ],
      "execution_count": 0,
      "outputs": [
        {
          "output_type": "display_data",
          "data": {
            "image/png": "[encoded data removed]",
            "text/plain": [
              "<Figure size 1008x576 with 1 Axes>"
            ]
          },
          "metadata": {
            "tags": [],
            "needs_background": "light"
          }
        }
      ]
    },
    {
      "cell_type": "code",
      "metadata": {
        "id": "3xzGfKoYgKZX",
        "colab_type": "code",
        "outputId": "ab86def1-fe10-4e67-ecb4-152ddb47f1d6",
        "colab": {
          "base_uri": "https://localhost:8080/",
          "height": 1000
        }
      },
      "source": [
        "# 13. Ulangi tahap di atas namun kali ini menggunakan algoritma DecisionTreeClassifier dan kalian bisa menggunakan RandomizedSearchCV apabila process training lama. pelajari algoritma DecisionTreeClassifier di linkberikut : https://scikit-learn.org/stable/modules/generated/sklearn.tree.DecisionTreeClassifier.html?highlight=decisiontreeclassifier#sklearn.tree.DecisionTreeClassifier\n",
        "import numpy as np\n",
        "import matplotlib.pyplot as plt\n",
        "\n",
        "from sklearn.model_selection import train_test_split\n",
        "from sklearn.tree import DecisionTreeClassifier\n",
        "from sklearn.model_selection import RandomizedSearchCV\n",
        "from sklearn.metrics import roc_auc_score\n",
        "from sklearn.model_selection import cross_validate\n",
        "\n",
        "X = df.drop('survival_status', axis=1)\n",
        "y = df['survival_status']\n",
        "\n",
        "X_train, X_test, y_train, y_test = train_test_split(X, y, random_state=21, stratify=y, test_size=0.25)\n",
        "\n",
        "model = DecisionTreeClassifier(random_state=42)\n",
        "param_grid = {'max_leaf_nodes': list(range(2, 100)), 'min_samples_split': [2, 3, 4]}\n",
        "\n",
        "rscv = RandomizedSearchCV(model, param_grid, verbose=1, scoring='roc_auc', cv=3)\n",
        "rscv.fit(X, y)\n",
        "\n",
        "print('Best Params : ', rscv.best_params_)\n",
        "print('Best Score : ', rscv.best_score_)\n",
        "print('Predict Proba : ', rscv.predict_proba(X_test))\n",
        "print('Classes : ', rscv.classes_)\n",
        "print('Predict Proba kurang dari 5 tahun : ', rscv.predict_proba(X_test)[:,1])\n",
        "\n",
        "cv_score2 = cross_validate(model, X_test, y_test, cv=10, return_train_score=True)\n",
        "print('Test Score : ', cv_score2['test_score'].mean())\n",
        "\n",
        "def tree_predict(k):\n",
        "    model = DecisionTreeClassifier(max_depth=k)\n",
        "    score = cross_validate(model, X, y, cv=10, return_train_score=True)\n",
        "    train_score = score['train_score'].mean()\n",
        "    test_score = score['test_score'].mean()\n",
        "    return train_score, test_score\n",
        "\n",
        "train_scores = []\n",
        "test_scores = []\n",
        "\n",
        "for k in range(2, 100):\n",
        "  train_score, test_score = tree_predict(k)\n",
        "  train_scores.append(train_score)\n",
        "  test_scores.append(test_score)\n",
        "\n",
        "fig, ax = plt.subplots(figsize=(14, 8))\n",
        "\n",
        "ax.plot(range(2, 100), train_scores, marker='x', color='b', label='Train Scores')\n",
        "ax.plot(range(2, 100), test_scores, marker='o', color='g', label='Test Scores')\n",
        "ax.set_xlabel('Nilai K')\n",
        "ax.set_ylabel('Score')\n",
        "\n",
        "fig.legend()\n",
        "plt.show()\n",
        "# Termasuk overfitting karena terlihat pada figure dibawah jika data training terlalu tinggi dibanding data test"
      ],
      "execution_count": 0,
      "outputs": [
        {
          "output_type": "stream",
          "text": [
            "Fitting 3 folds for each of 10 candidates, totalling 30 fits\n",
            "Best Params :  {'min_samples_split': 2, 'max_leaf_nodes': 7}\n",
            "Best Score :  0.6024691358024691\n",
            "Predict Proba :  [[0.8245614  0.1754386 ]\n",
            " [0.91666667 0.08333333]\n",
            " [0.8245614  0.1754386 ]\n",
            " [0.36842105 0.63157895]\n",
            " [0.8245614  0.1754386 ]\n",
            " [0.8245614  0.1754386 ]\n",
            " [0.8245614  0.1754386 ]\n",
            " [0.8245614  0.1754386 ]\n",
            " [0.8245614  0.1754386 ]\n",
            " [0.8245614  0.1754386 ]\n",
            " [0.36842105 0.63157895]\n",
            " [0.8245614  0.1754386 ]\n",
            " [0.         1.        ]\n",
            " [0.8245614  0.1754386 ]\n",
            " [0.8245614  0.1754386 ]\n",
            " [0.8245614  0.1754386 ]\n",
            " [0.8245614  0.1754386 ]\n",
            " [0.8245614  0.1754386 ]\n",
            " [0.8245614  0.1754386 ]\n",
            " [0.36842105 0.63157895]\n",
            " [0.8245614  0.1754386 ]\n",
            " [0.8245614  0.1754386 ]\n",
            " [0.8245614  0.1754386 ]\n",
            " [0.36842105 0.63157895]\n",
            " [0.8245614  0.1754386 ]\n",
            " [0.91666667 0.08333333]\n",
            " [0.8245614  0.1754386 ]\n",
            " [0.8245614  0.1754386 ]\n",
            " [0.8245614  0.1754386 ]\n",
            " [0.8245614  0.1754386 ]\n",
            " [0.8245614  0.1754386 ]\n",
            " [0.36842105 0.63157895]\n",
            " [0.8245614  0.1754386 ]\n",
            " [0.91666667 0.08333333]\n",
            " [0.91666667 0.08333333]\n",
            " [0.8245614  0.1754386 ]\n",
            " [0.8245614  0.1754386 ]\n",
            " [0.8245614  0.1754386 ]\n",
            " [0.8245614  0.1754386 ]\n",
            " [0.8245614  0.1754386 ]\n",
            " [0.36842105 0.63157895]\n",
            " [0.8245614  0.1754386 ]\n",
            " [0.8245614  0.1754386 ]\n",
            " [0.36842105 0.63157895]\n",
            " [0.8245614  0.1754386 ]\n",
            " [0.8245614  0.1754386 ]\n",
            " [0.8245614  0.1754386 ]\n",
            " [0.8245614  0.1754386 ]\n",
            " [0.8245614  0.1754386 ]\n",
            " [1.         0.        ]\n",
            " [0.8245614  0.1754386 ]\n",
            " [0.36842105 0.63157895]\n",
            " [0.8245614  0.1754386 ]\n",
            " [0.8245614  0.1754386 ]\n",
            " [0.8245614  0.1754386 ]\n",
            " [0.8245614  0.1754386 ]\n",
            " [0.8245614  0.1754386 ]\n",
            " [0.36842105 0.63157895]\n",
            " [0.8245614  0.1754386 ]\n",
            " [0.36842105 0.63157895]\n",
            " [0.36842105 0.63157895]\n",
            " [0.8245614  0.1754386 ]\n",
            " [0.91666667 0.08333333]\n",
            " [0.8245614  0.1754386 ]\n",
            " [0.8245614  0.1754386 ]\n",
            " [0.8245614  0.1754386 ]\n",
            " [0.8245614  0.1754386 ]\n",
            " [0.8245614  0.1754386 ]\n",
            " [0.36842105 0.63157895]\n",
            " [0.91666667 0.08333333]\n",
            " [0.36842105 0.63157895]\n",
            " [0.8245614  0.1754386 ]\n",
            " [0.8245614  0.1754386 ]\n",
            " [0.36842105 0.63157895]\n",
            " [0.8245614  0.1754386 ]\n",
            " [0.8245614  0.1754386 ]\n",
            " [0.36842105 0.63157895]]\n",
            "Classes :  [1 2]\n",
            "Predict Proba kurang dari 5 tahun :  [0.1754386  0.08333333 0.1754386  0.63157895 0.1754386  0.1754386\n",
            " 0.1754386  0.1754386  0.1754386  0.1754386  0.63157895 0.1754386\n",
            " 1.         0.1754386  0.1754386  0.1754386  0.1754386  0.1754386\n",
            " 0.1754386  0.63157895 0.1754386  0.1754386  0.1754386  0.63157895\n",
            " 0.1754386  0.08333333 0.1754386  0.1754386  0.1754386  0.1754386\n",
            " 0.1754386  0.63157895 0.1754386  0.08333333 0.08333333 0.1754386\n",
            " 0.1754386  0.1754386  0.1754386  0.1754386  0.63157895 0.1754386\n",
            " 0.1754386  0.63157895 0.1754386  0.1754386  0.1754386  0.1754386\n",
            " 0.1754386  0.         0.1754386  0.63157895 0.1754386  0.1754386\n",
            " 0.1754386  0.1754386  0.1754386  0.63157895 0.1754386  0.63157895\n",
            " 0.63157895 0.1754386  0.08333333 0.1754386  0.1754386  0.1754386\n",
            " 0.1754386  0.1754386  0.63157895 0.08333333 0.63157895 0.1754386\n",
            " 0.1754386  0.63157895 0.1754386  0.1754386  0.63157895]\n",
            "Test Score :  0.6125\n"
          ],
          "name": "stdout"
        },
        {
          "output_type": "stream",
          "text": [
            "[Parallel(n_jobs=1)]: Using backend SequentialBackend with 1 concurrent workers.\n",
            "[Parallel(n_jobs=1)]: Done  30 out of  30 | elapsed:    0.1s finished\n"
          ],
          "name": "stderr"
        },
        {
          "output_type": "display_data",
          "data": {
            "image/png": "[encoded data removed]",
            "text/plain": [
              "<Figure size 1008x576 with 1 Axes>"
            ]
          },
          "metadata": {
            "tags": [],
            "needs_background": "light"
          }
        }
      ]
    },
    {
      "cell_type": "code",
      "metadata": {
        "id": "XSOFL1HHgLQD",
        "colab_type": "code",
        "outputId": "21a7eccf-2e0c-45d7-f715-08f646ccbd07",
        "colab": {
          "base_uri": "https://localhost:8080/",
          "height": 52
        }
      },
      "source": [
        "# 14. Bandingkan scorenya dengan Algoritma KNN, mana yang lebih baik?\n",
        "print('Algoritma KNN :', cv_score['test_score'].mean())\n",
        "print('Algoritma Tree : ', cv_score2['test_score'].mean())"
      ],
      "execution_count": 0,
      "outputs": [
        {
          "output_type": "stream",
          "text": [
            "Algoritma KNN : 0.7160714285714286\n",
            "Algoritma Tree :  0.6125\n"
          ],
          "name": "stdout"
        }
      ]
    },
    {
      "cell_type": "code",
      "metadata": {
        "id": "FDuyTTqMOQCw",
        "colab_type": "code",
        "colab": {}
      },
      "source": [
        ""
      ],
      "execution_count": 0,
      "outputs": []
    }
  ]
}