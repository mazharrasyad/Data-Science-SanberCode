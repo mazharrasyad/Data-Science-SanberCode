{
  "nbformat": 4,
  "nbformat_minor": 0,
  "metadata": {
    "kernelspec": {
      "display_name": "Python 3",
      "language": "python",
      "name": "python3"
    },
    "language_info": {
      "codemirror_mode": {
        "name": "ipython",
        "version": 3
      },
      "file_extension": ".py",
      "mimetype": "text/x-python",
      "name": "python",
      "nbconvert_exporter": "python",
      "pygments_lexer": "ipython3",
      "version": "3.7.6"
    },
    "colab": {
      "name": "Week 3 Day 5.ipynb",
      "provenance": [],
      "collapsed_sections": []
    }
  },
  "cells": [
    {
      "cell_type": "markdown",
      "metadata": {
        "id": "US651VcEn_Ka",
        "colab_type": "text"
      },
      "source": [
        "Downoad file vgsales.csv <a href=\"https://blog.sanbercode.com/wp-content/uploads/2020/05/vgsales.csv\">di sini</a>"
      ]
    },
    {
      "cell_type": "code",
      "metadata": {
        "id": "Y5aCt2wrn_K6",
        "colab_type": "code",
        "outputId": "86123c8f-775e-43e5-a5ff-9604d0ee6a7c",
        "colab": {
          "base_uri": "https://localhost:8080/",
          "height": 206
        }
      },
      "source": [
        "import pandas as pd\n",
        "import matplotlib.pyplot as plt\n",
        "\n",
        "df = pd.read_csv('vgsales.csv')\n",
        "df.head()"
      ],
      "execution_count": 0,
      "outputs": [
        {
          "output_type": "execute_result",
          "data": {
            "text/html": [
              "<div>\n",
              "<style scoped>\n",
              "    .dataframe tbody tr th:only-of-type {\n",
              "        vertical-align: middle;\n",
              "    }\n",
              "\n",
              "    .dataframe tbody tr th {\n",
              "        vertical-align: top;\n",
              "    }\n",
              "\n",
              "    .dataframe thead th {\n",
              "        text-align: right;\n",
              "    }\n",
              "</style>\n",
              "<table border=\"1\" class=\"dataframe\">\n",
              "  <thead>\n",
              "    <tr style=\"text-align: right;\">\n",
              "      <th></th>\n",
              "      <th>Rank</th>\n",
              "      <th>Name</th>\n",
              "      <th>Platform</th>\n",
              "      <th>Year</th>\n",
              "      <th>Genre</th>\n",
              "      <th>Publisher</th>\n",
              "      <th>NA_Sales</th>\n",
              "      <th>EU_Sales</th>\n",
              "      <th>JP_Sales</th>\n",
              "      <th>Other_Sales</th>\n",
              "      <th>Global_Sales</th>\n",
              "    </tr>\n",
              "  </thead>\n",
              "  <tbody>\n",
              "    <tr>\n",
              "      <th>0</th>\n",
              "      <td>1</td>\n",
              "      <td>Wii Sports</td>\n",
              "      <td>Wii</td>\n",
              "      <td>2006.0</td>\n",
              "      <td>Sports</td>\n",
              "      <td>Nintendo</td>\n",
              "      <td>41.49</td>\n",
              "      <td>29.02</td>\n",
              "      <td>3.77</td>\n",
              "      <td>8.46</td>\n",
              "      <td>82.74</td>\n",
              "    </tr>\n",
              "    <tr>\n",
              "      <th>1</th>\n",
              "      <td>2</td>\n",
              "      <td>Super Mario Bros.</td>\n",
              "      <td>NES</td>\n",
              "      <td>1985.0</td>\n",
              "      <td>Platform</td>\n",
              "      <td>Nintendo</td>\n",
              "      <td>29.08</td>\n",
              "      <td>3.58</td>\n",
              "      <td>6.81</td>\n",
              "      <td>0.77</td>\n",
              "      <td>40.24</td>\n",
              "    </tr>\n",
              "    <tr>\n",
              "      <th>2</th>\n",
              "      <td>3</td>\n",
              "      <td>Mario Kart Wii</td>\n",
              "      <td>Wii</td>\n",
              "      <td>2008.0</td>\n",
              "      <td>Racing</td>\n",
              "      <td>Nintendo</td>\n",
              "      <td>15.85</td>\n",
              "      <td>12.88</td>\n",
              "      <td>3.79</td>\n",
              "      <td>3.31</td>\n",
              "      <td>35.82</td>\n",
              "    </tr>\n",
              "    <tr>\n",
              "      <th>3</th>\n",
              "      <td>4</td>\n",
              "      <td>Wii Sports Resort</td>\n",
              "      <td>Wii</td>\n",
              "      <td>2009.0</td>\n",
              "      <td>Sports</td>\n",
              "      <td>Nintendo</td>\n",
              "      <td>15.75</td>\n",
              "      <td>11.01</td>\n",
              "      <td>3.28</td>\n",
              "      <td>2.96</td>\n",
              "      <td>33.00</td>\n",
              "    </tr>\n",
              "    <tr>\n",
              "      <th>4</th>\n",
              "      <td>5</td>\n",
              "      <td>Pokemon Red/Pokemon Blue</td>\n",
              "      <td>GB</td>\n",
              "      <td>1996.0</td>\n",
              "      <td>Role-Playing</td>\n",
              "      <td>Nintendo</td>\n",
              "      <td>11.27</td>\n",
              "      <td>8.89</td>\n",
              "      <td>10.22</td>\n",
              "      <td>1.00</td>\n",
              "      <td>31.37</td>\n",
              "    </tr>\n",
              "  </tbody>\n",
              "</table>\n",
              "</div>"
            ],
            "text/plain": [
              "   Rank                      Name Platform  ...  JP_Sales Other_Sales Global_Sales\n",
              "0     1                Wii Sports      Wii  ...      3.77        8.46        82.74\n",
              "1     2         Super Mario Bros.      NES  ...      6.81        0.77        40.24\n",
              "2     3            Mario Kart Wii      Wii  ...      3.79        3.31        35.82\n",
              "3     4         Wii Sports Resort      Wii  ...      3.28        2.96        33.00\n",
              "4     5  Pokemon Red/Pokemon Blue       GB  ...     10.22        1.00        31.37\n",
              "\n",
              "[5 rows x 11 columns]"
            ]
          },
          "metadata": {
            "tags": []
          },
          "execution_count": 46
        }
      ]
    },
    {
      "cell_type": "markdown",
      "metadata": {
        "id": "JEDgiEK0n_M6",
        "colab_type": "text"
      },
      "source": [
        "<h2>Quiz 1 Preparing Data</h2>\n",
        "\n",
        "Manipulasi data tersebut dengan menggroupkan berdasarkan Genre, kemudian ambil rata2 penjualan untuk setiap Region Kecuali Global_Sales berdasarkan kategori Genre."
      ]
    },
    {
      "cell_type": "code",
      "metadata": {
        "id": "ADjQcoLsn_Nj",
        "colab_type": "code",
        "outputId": "e2388e98-daac-43f4-8ea5-95ea163fc740",
        "colab": {
          "base_uri": "https://localhost:8080/",
          "height": 512
        }
      },
      "source": [
        "mean_genre = df.groupby('Genre')['NA_Sales', 'EU_Sales', 'JP_Sales', 'Other_Sales'].mean()\n",
        "mean_genre"
      ],
      "execution_count": 0,
      "outputs": [
        {
          "output_type": "stream",
          "text": [
            "/usr/local/lib/python3.6/dist-packages/ipykernel_launcher.py:1: FutureWarning: Indexing with multiple keys (implicitly converted to a tuple of keys) will be deprecated, use a list instead.\n",
            "  \"\"\"Entry point for launching an IPython kernel.\n"
          ],
          "name": "stderr"
        },
        {
          "output_type": "execute_result",
          "data": {
            "text/html": [
              "<div>\n",
              "<style scoped>\n",
              "    .dataframe tbody tr th:only-of-type {\n",
              "        vertical-align: middle;\n",
              "    }\n",
              "\n",
              "    .dataframe tbody tr th {\n",
              "        vertical-align: top;\n",
              "    }\n",
              "\n",
              "    .dataframe thead th {\n",
              "        text-align: right;\n",
              "    }\n",
              "</style>\n",
              "<table border=\"1\" class=\"dataframe\">\n",
              "  <thead>\n",
              "    <tr style=\"text-align: right;\">\n",
              "      <th></th>\n",
              "      <th>NA_Sales</th>\n",
              "      <th>EU_Sales</th>\n",
              "      <th>JP_Sales</th>\n",
              "      <th>Other_Sales</th>\n",
              "    </tr>\n",
              "    <tr>\n",
              "      <th>Genre</th>\n",
              "      <th></th>\n",
              "      <th></th>\n",
              "      <th></th>\n",
              "      <th></th>\n",
              "    </tr>\n",
              "  </thead>\n",
              "  <tbody>\n",
              "    <tr>\n",
              "      <th>Action</th>\n",
              "      <td>0.264726</td>\n",
              "      <td>0.158323</td>\n",
              "      <td>0.048236</td>\n",
              "      <td>0.056508</td>\n",
              "    </tr>\n",
              "    <tr>\n",
              "      <th>Adventure</th>\n",
              "      <td>0.082271</td>\n",
              "      <td>0.049868</td>\n",
              "      <td>0.040490</td>\n",
              "      <td>0.013072</td>\n",
              "    </tr>\n",
              "    <tr>\n",
              "      <th>Fighting</th>\n",
              "      <td>0.263667</td>\n",
              "      <td>0.119481</td>\n",
              "      <td>0.103007</td>\n",
              "      <td>0.043255</td>\n",
              "    </tr>\n",
              "    <tr>\n",
              "      <th>Misc</th>\n",
              "      <td>0.235906</td>\n",
              "      <td>0.124198</td>\n",
              "      <td>0.061967</td>\n",
              "      <td>0.043312</td>\n",
              "    </tr>\n",
              "    <tr>\n",
              "      <th>Platform</th>\n",
              "      <td>0.504571</td>\n",
              "      <td>0.227573</td>\n",
              "      <td>0.147596</td>\n",
              "      <td>0.058228</td>\n",
              "    </tr>\n",
              "    <tr>\n",
              "      <th>Puzzle</th>\n",
              "      <td>0.212680</td>\n",
              "      <td>0.087251</td>\n",
              "      <td>0.098471</td>\n",
              "      <td>0.021564</td>\n",
              "    </tr>\n",
              "    <tr>\n",
              "      <th>Racing</th>\n",
              "      <td>0.287766</td>\n",
              "      <td>0.190865</td>\n",
              "      <td>0.045388</td>\n",
              "      <td>0.061865</td>\n",
              "    </tr>\n",
              "    <tr>\n",
              "      <th>Role-Playing</th>\n",
              "      <td>0.219946</td>\n",
              "      <td>0.126384</td>\n",
              "      <td>0.236767</td>\n",
              "      <td>0.040060</td>\n",
              "    </tr>\n",
              "    <tr>\n",
              "      <th>Shooter</th>\n",
              "      <td>0.444733</td>\n",
              "      <td>0.239137</td>\n",
              "      <td>0.029221</td>\n",
              "      <td>0.078389</td>\n",
              "    </tr>\n",
              "    <tr>\n",
              "      <th>Simulation</th>\n",
              "      <td>0.211430</td>\n",
              "      <td>0.130773</td>\n",
              "      <td>0.073472</td>\n",
              "      <td>0.036355</td>\n",
              "    </tr>\n",
              "    <tr>\n",
              "      <th>Sports</th>\n",
              "      <td>0.291283</td>\n",
              "      <td>0.160635</td>\n",
              "      <td>0.057702</td>\n",
              "      <td>0.057532</td>\n",
              "    </tr>\n",
              "    <tr>\n",
              "      <th>Strategy</th>\n",
              "      <td>0.100881</td>\n",
              "      <td>0.066579</td>\n",
              "      <td>0.072628</td>\n",
              "      <td>0.016681</td>\n",
              "    </tr>\n",
              "  </tbody>\n",
              "</table>\n",
              "</div>"
            ],
            "text/plain": [
              "              NA_Sales  EU_Sales  JP_Sales  Other_Sales\n",
              "Genre                                                  \n",
              "Action        0.264726  0.158323  0.048236     0.056508\n",
              "Adventure     0.082271  0.049868  0.040490     0.013072\n",
              "Fighting      0.263667  0.119481  0.103007     0.043255\n",
              "Misc          0.235906  0.124198  0.061967     0.043312\n",
              "Platform      0.504571  0.227573  0.147596     0.058228\n",
              "Puzzle        0.212680  0.087251  0.098471     0.021564\n",
              "Racing        0.287766  0.190865  0.045388     0.061865\n",
              "Role-Playing  0.219946  0.126384  0.236767     0.040060\n",
              "Shooter       0.444733  0.239137  0.029221     0.078389\n",
              "Simulation    0.211430  0.130773  0.073472     0.036355\n",
              "Sports        0.291283  0.160635  0.057702     0.057532\n",
              "Strategy      0.100881  0.066579  0.072628     0.016681"
            ]
          },
          "metadata": {
            "tags": []
          },
          "execution_count": 225
        }
      ]
    },
    {
      "cell_type": "markdown",
      "metadata": {
        "id": "YCJaWR6qn_Or",
        "colab_type": "text"
      },
      "source": [
        "Expected Output :\n",
        "\n",
        "![image.png](attachment:image.png)"
      ]
    },
    {
      "cell_type": "markdown",
      "metadata": {
        "id": "a6veeq_wn_O8",
        "colab_type": "text"
      },
      "source": [
        "<h2>Perbandingan Kuantitatif Barplot : Grouping Visualisasi Dengan Barplot</h2>\n",
        "\n",
        "1. Visualisasikan gambar yang tadi kita manipulasi, untuk menhasilkan visualisasi seperti di bawah ini\n",
        "2. Tuliskan apa insight yang bisa kamu dapat dari visualisasi tersebut"
      ]
    },
    {
      "cell_type": "code",
      "metadata": {
        "id": "HMjnsqMvn_PK",
        "colab_type": "code",
        "colab": {}
      },
      "source": [
        "import numpy as np\n",
        "\n",
        "genre = mean_genre.T\n",
        "\n",
        "x = np.arange(len(genre.index))\n",
        "y1 = genre['Action']\n",
        "y2 = genre['Adventure']\n",
        "y3 = genre['Fighting']\n",
        "y4 = genre['Misc']\n",
        "y5 = genre['Platform']\n",
        "y6 = genre['Puzzle']\n",
        "y7 = genre['Racing']\n",
        "y8 = genre['Role-Playing']\n",
        "y9 = genre['Shooter']\n",
        "y10 = genre['Simulation']\n",
        "y11 = genre['Sports']\n",
        "y12 = genre['Strategy']\n",
        "\n",
        "width = 0.05"
      ],
      "execution_count": 0,
      "outputs": []
    },
    {
      "cell_type": "code",
      "metadata": {
        "id": "G4pN0OscfVEm",
        "colab_type": "code",
        "outputId": "06c7e86f-5f7e-481f-aa98-d73fcee5718c",
        "colab": {
          "base_uri": "https://localhost:8080/",
          "height": 405
        }
      },
      "source": [
        "fig, ax = plt.subplots(figsize=(12, 6))\n",
        "\n",
        "ax.bar(x, y1, width, label='Action')\n",
        "ax.bar([i + width for i in x], y2, width, label='Adventure')\n",
        "ax.bar([i + width*2 for i in x], y3, width, label='Fighting')\n",
        "ax.bar([i + width*3 for i in x], y4, width, label='Misc')\n",
        "ax.bar([i + width*4 for i in x], y5, width, label='Platform')\n",
        "ax.bar([i + width*5 for i in x], y6, width, label='Puzzle')\n",
        "ax.bar([i + width*6 for i in x], y7, width, label='Racing')\n",
        "ax.bar([i + width*7 for i in x], y8, width, label='Role-Playing')\n",
        "ax.bar([i + width*8 for i in x], y9, width, label='Shooter')\n",
        "ax.bar([i + width*9 for i in x], y10, width, label='Simulation')\n",
        "ax.bar([i + width*10 for i in x], y11, width, label='Sports')\n",
        "ax.bar([i + width*11 for i in x], y12, width, label='Strategy')\n",
        "\n",
        "ax.set_xticks([i + 5 * width for i in x])\n",
        "ax.set_xticklabels(genre.index)\n",
        "ax.set_ylabel('Mean Sales')\n",
        "ax.set_xlabel('Region Sales')\n",
        "ax.set_title('Mean Sales Video Games By Genre')\n",
        "ax.set_facecolor('#DCDCDC')\n",
        "\n",
        "plt.legend(loc='upper right')\n",
        "plt.grid()\n",
        "plt.show()"
      ],
      "execution_count": 0,
      "outputs": [
        {
          "output_type": "display_data",
          "data": {
            "image/png": "[encoded data removed]",
            "text/plain": [
              "<Figure size 864x432 with 1 Axes>"
            ]
          },
          "metadata": {
            "tags": [],
            "needs_background": "light"
          }
        }
      ]
    },
    {
      "cell_type": "markdown",
      "metadata": {
        "id": "iBCLsVQCo7Bo",
        "colab_type": "text"
      },
      "source": [
        "Insight yang saya dapat yaitu kita dapat mengetahui rata-rata penjualan video games disuatu negara berdasarkan genrenya dengan dilihat dari tinggi atau rendahnya bar tersebut antara bar yang lainnya disebelahnya"
      ]
    },
    {
      "cell_type": "markdown",
      "metadata": {
        "id": "K59cUVern_QQ",
        "colab_type": "text"
      },
      "source": [
        "![image.png](attachment:image.png)"
      ]
    },
    {
      "cell_type": "markdown",
      "metadata": {
        "id": "6eo8o80Fn_Qj",
        "colab_type": "text"
      },
      "source": [
        "<h2>Perbandingan Kuantitatif Barplot : Stack Barplot</h2>\n",
        "\n",
        "1. Visualisasikan gambar yang tadi kita manipulasi, untuk menhasilkan visualisasi seperti di bawah ini\n",
        "2. Tuliskan apa insight yang bisa kamu dapat dari visualisasi tersebut"
      ]
    },
    {
      "cell_type": "code",
      "metadata": {
        "id": "Duhn2EEen_Q2",
        "colab_type": "code",
        "outputId": "ebd01bf0-0e6d-4b0f-9630-d9ef32ea6a08",
        "colab": {
          "base_uri": "https://localhost:8080/",
          "height": 405
        }
      },
      "source": [
        "fig, ax = plt.subplots(figsize=(12, 6))\n",
        "\n",
        "ax.bar(x, y1, label='Action')\n",
        "ax.bar(x, y2, bottom=y1, label='Adventure')\n",
        "ax.bar(x, y3, bottom=y1+y2, label='Fighting')\n",
        "ax.bar(x, y4, bottom=y1+y2+y3, label='Misc')\n",
        "ax.bar(x, y5, bottom=y1+y2+y3+y4, label='Platform')\n",
        "ax.bar(x, y6, bottom=y1+y2+y3+y4+y5, label='Puzzle')\n",
        "ax.bar(x, y7, bottom=y1+y2+y3+y4+y5+y6, label='Racing')\n",
        "ax.bar(x, y8, bottom=y1+y2+y3+y4+y5+y6+y7, label='Role-Playing')\n",
        "ax.bar(x, y9, bottom=y1+y2+y3+y4+y5+y6+y7+y8, label='Shooter')\n",
        "ax.bar(x, y10, bottom=y1+y2+y3+y4+y5+y6+y7+y8+y9, label='Simulation')\n",
        "ax.bar(x, y11, bottom=y1+y2+y3+y4+y5+y6+y7+y8+y9+y10, label='Sports')\n",
        "ax.bar(x, y12, bottom=y1+y2+y3+y4+y5+y6+y7+y8+y9+y10+y11, label='Strategy')\n",
        "\n",
        "ax.set_xticks([i + 0.5 * width for i in x])\n",
        "ax.set_xticklabels(genre.index)\n",
        "ax.set_ylabel('Mean Sales')\n",
        "ax.set_xlabel('Region Sales')\n",
        "ax.set_title('Mean Sales Video Games By Genre')\n",
        "ax.set_facecolor('#DCDCDC')\n",
        "\n",
        "plt.legend(loc='upper right')\n",
        "plt.grid()\n",
        "plt.show()"
      ],
      "execution_count": 0,
      "outputs": [
        {
          "output_type": "display_data",
          "data": {
            "image/png": "[encoded data removed]",
            "text/plain": [
              "<Figure size 864x432 with 1 Axes>"
            ]
          },
          "metadata": {
            "tags": [],
            "needs_background": "light"
          }
        }
      ]
    },
    {
      "cell_type": "markdown",
      "metadata": {
        "id": "e9MfQBzi1cUI",
        "colab_type": "text"
      },
      "source": [
        "Insight yang saya dapat yaitu kita dapat mengetahui rata-rata penjualan video games disuatu negara berdasarkan genrenya dengan dilihat dari tinggi atau rendahnya bar tersebut antara bar yang lainnya diatas atau dibawahnya"
      ]
    },
    {
      "cell_type": "markdown",
      "metadata": {
        "id": "tAbHyd0Jn_SH",
        "colab_type": "text"
      },
      "source": [
        "![image.png](attachment:image.png)"
      ]
    },
    {
      "cell_type": "code",
      "metadata": {
        "id": "okr4pENysPNH",
        "colab_type": "code",
        "colab": {}
      },
      "source": [
        ""
      ],
      "execution_count": 0,
      "outputs": []
    }
  ]
}