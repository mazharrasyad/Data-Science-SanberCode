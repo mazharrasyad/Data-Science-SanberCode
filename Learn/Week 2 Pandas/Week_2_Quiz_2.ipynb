{
  "nbformat": 4,
  "nbformat_minor": 0,
  "metadata": {
    "colab": {
      "name": "Week 2 Quiz 2.ipynb",
      "provenance": [],
      "collapsed_sections": []
    },
    "kernelspec": {
      "name": "python3",
      "display_name": "Python 3"
    }
  },
  "cells": [
    {
      "cell_type": "markdown",
      "metadata": {
        "id": "RxhYJEQn6gdj",
        "colab_type": "text"
      },
      "source": [
        "1. Mana dari statement berikut ini yang benar mengenai Pandas Series dan DataFrame?\n",
        "Semuanya Benar\n",
        "\n",
        "2. Apakah objek dataframe teridiri dari objek-objek series? \n",
        "True\n",
        "\n",
        "3. Bagaimana process grouping dengan method groupby di pandas\n",
        "Splitting - Applying - Combining\n",
        "\n",
        "4. Mana di bawah ini statement yang benar mengenai Pandas index?\n",
        "Semuanya Benar\n",
        "\n",
        "5. Mana method berikut yang akan menghasilkan summary statistic dari dataframe?\n",
        ".describe()\n",
        "\n",
        "6. Diantara opsi berikut ini, operasi mana di pandas yang syntax nya sama seperti di dictionary?\n",
        "Semuanya Benar\n",
        "\n",
        "7. Series adalah array satu dimensi yang memiliki label dan bisa berisi berbagai tipe data.\n",
        "True\n",
        "\n",
        "8. Apa jenis penggabungan yang diterapkan pada parameter 'how' jika df_gabung adalah hasil dari df1.merge(df2, on='....', how='....')?\n",
        "right\n",
        "\n",
        "9. Apa Jenis penggabungan data berikut\n",
        "Left Join\n",
        "\n",
        "10. Mana berikut di bawah ini yang bukan merupkan fungsi reshaping data?\n",
        "Tidak ada, Semuanya merupakan fungsi reshaping data\n",
        "\n",
        "11. Mana code berikut adalah cara yang benar untuk mengambil baris Umur dan column Nama dari sebuah dataframe bernama variabel df?\n",
        "df['Umur']['Nama']\n",
        "\n",
        "12. Jika data berbentuk objek array, maka index dan value harus memiliki jumlah elemen yang sama?\n",
        "True\n",
        "\n",
        "13. Kita dapat memfilter saat akses dataframe menggunakan teknik berikut, KECUALI?\n",
        "Grouping\n",
        "\n",
        "14. Mana objek berikut ini yang dapat di jadikan DataFrame?\n",
        "Semuanya\n",
        "\n",
        "15. Mana attribute dibawah ini yang bisa di gunakan untuk mendapatkan numpy array dari DataFrame?\n",
        ".values"
      ]
    },
    {
      "cell_type": "code",
      "metadata": {
        "id": "9zYxV7bZ_7Jv",
        "colab_type": "code",
        "outputId": "9555c26d-7b9d-4952-8562-23b31d9020f0",
        "colab": {
          "base_uri": "https://localhost:8080/",
          "height": 86
        }
      },
      "source": [
        "import pandas as pd\n",
        "\n",
        "x = pd.DataFrame([6,'aa',True][])\n",
        "x"
      ],
      "execution_count": 0,
      "outputs": [
        {
          "output_type": "execute_result",
          "data": {
            "text/plain": [
              "0       6\n",
              "1      aa\n",
              "2    True\n",
              "dtype: object"
            ]
          },
          "metadata": {
            "tags": []
          },
          "execution_count": 1
        }
      ]
    },
    {
      "cell_type": "code",
      "metadata": {
        "id": "4X8V0inBB_45",
        "colab_type": "code",
        "outputId": "20467e06-6251-4d26-d756-79763e3730e1",
        "colab": {
          "base_uri": "https://localhost:8080/",
          "height": 34
        }
      },
      "source": [
        "df = [\n",
        "      [0,2],\n",
        "      [1,2]\n",
        "]\n",
        "df[0][1]"
      ],
      "execution_count": 0,
      "outputs": [
        {
          "output_type": "execute_result",
          "data": {
            "text/plain": [
              "2"
            ]
          },
          "metadata": {
            "tags": []
          },
          "execution_count": 8
        }
      ]
    }
  ]
}