{
  "nbformat": 4,
  "nbformat_minor": 0,
  "metadata": {
    "kernelspec": {
      "display_name": "Python 3",
      "language": "python",
      "name": "python3"
    },
    "language_info": {
      "codemirror_mode": {
        "name": "ipython",
        "version": 3
      },
      "file_extension": ".py",
      "mimetype": "text/x-python",
      "name": "python",
      "nbconvert_exporter": "python",
      "pygments_lexer": "ipython3",
      "version": "3.7.7"
    },
    "colab": {
      "name": "Week 1 Day 1.ipynb",
      "provenance": [],
      "collapsed_sections": []
    }
  },
  "cells": [
    {
      "cell_type": "markdown",
      "metadata": {
        "id": "6byiMZZCHtR4",
        "colab_type": "text"
      },
      "source": [
        "<h2>Quiz 1 : Hello World to Python</h2>\n",
        "    \n",
        "Print Say Hello World to Python"
      ]
    },
    {
      "cell_type": "code",
      "metadata": {
        "id": "ArLlbdAfHtSR",
        "colab_type": "code",
        "outputId": "da5c5558-3a86-4438-c168-440b3fb813bd",
        "colab": {
          "base_uri": "https://localhost:8080/",
          "height": 34
        }
      },
      "source": [
        "print('Hello World Python')"
      ],
      "execution_count": 0,
      "outputs": [
        {
          "output_type": "stream",
          "text": [
            "Hello World Python\n"
          ],
          "name": "stdout"
        }
      ]
    },
    {
      "cell_type": "markdown",
      "metadata": {
        "id": "FQwCC-5fHtUJ",
        "colab_type": "text"
      },
      "source": [
        "Expected Output : \n",
        "\n",
        "Hello World Python"
      ]
    },
    {
      "cell_type": "markdown",
      "metadata": {
        "id": "0PN-kXeHHtUz",
        "colab_type": "text"
      },
      "source": [
        "<h2>Quiz 2 : Aritmatika di Python </h2>\n",
        "    \n",
        "- Buat statement pertambahan antara 2 number di Python\n",
        "- Buat statement perkurangan antara 2 number di Python\n",
        "- Buat statement perkalian antara 2 number di Python\n",
        "- Buat statement pembagian antara 2 number di Python"
      ]
    },
    {
      "cell_type": "code",
      "metadata": {
        "id": "bqHDjMG-HtVC",
        "colab_type": "code",
        "outputId": "c01d1795-b9a3-4992-bd4f-4b4e08f44917",
        "colab": {
          "base_uri": "https://localhost:8080/",
          "height": 34
        }
      },
      "source": [
        "a = 10\n",
        "b = 20\n",
        "c = a + b\n",
        "d = a - b\n",
        "e = a * b\n",
        "f = a / b\n",
        "print(c,d,e,f)"
      ],
      "execution_count": 0,
      "outputs": [
        {
          "output_type": "stream",
          "text": [
            "30 -10 200 0.5\n"
          ],
          "name": "stdout"
        }
      ]
    },
    {
      "cell_type": "markdown",
      "metadata": {
        "id": "S_4thHGNHtWY",
        "colab_type": "text"
      },
      "source": [
        "<h2>Quiz 3 : Assign Variable dan Tipe Data Integer, Float </h2>\n",
        "\n",
        "- Buat suatu variabel a dan b, dimana a dan b adalah nilai bertipe data numeric\n",
        "- Berikan suatu nilai bertipe data integer, hasil pembagian dari a dengan b\n",
        "- Berikan suatu nilai bertipe data float, hasil pembagian dari a dengan b"
      ]
    },
    {
      "cell_type": "code",
      "metadata": {
        "id": "9DLK3ZkaHtWm",
        "colab_type": "code",
        "outputId": "14768d9e-a4d8-4fb1-8ea4-50a5c12c74c2",
        "colab": {
          "base_uri": "https://localhost:8080/",
          "height": 52
        }
      },
      "source": [
        "a = 2\n",
        "b = 5\n",
        "c = int(a / b)\n",
        "print(c)\n",
        "d = float(a / b)\n",
        "print(d)"
      ],
      "execution_count": 0,
      "outputs": [
        {
          "output_type": "stream",
          "text": [
            "0\n",
            "0.4\n"
          ],
          "name": "stdout"
        }
      ]
    },
    {
      "cell_type": "markdown",
      "metadata": {
        "id": "Y3N1d_y0HtXs",
        "colab_type": "text"
      },
      "source": [
        "<h2>Quiz 4 : String Operation </h2>\n",
        "\n",
        "- masukan nama depan kamu kedalam suatu variable firstname\n",
        "- masukan nama belakang kamu kedalam suatu variable lasname\n",
        "- tampilkan suatu kalimat 'Hello sanbercode, saya firstname lastname! saya siap belajar python data science.'"
      ]
    },
    {
      "cell_type": "code",
      "metadata": {
        "id": "_BA6ARvlHtX-",
        "colab_type": "code",
        "outputId": "1fa9fb0c-5308-4435-b211-d0152b1338cf",
        "colab": {
          "base_uri": "https://localhost:8080/",
          "height": 34
        }
      },
      "source": [
        "firstname = \"Muhammad Azhar\"\n",
        "lastname = \"Rasyad\"\n",
        "print(\"Hello sanbercode, saya\", firstname, lastname + \"! saya siap belajar python data science\")"
      ],
      "execution_count": 0,
      "outputs": [
        {
          "output_type": "stream",
          "text": [
            "Hello sanbercode, saya Muhammad Azhar Rasyad! saya siap belajar python data science\n"
          ],
          "name": "stdout"
        }
      ]
    },
    {
      "cell_type": "markdown",
      "metadata": {
        "id": "NfA4LBe2HtZI",
        "colab_type": "text"
      },
      "source": [
        "Expected Output :\n",
        "\n",
        "Hello sanbercode, saya fauzan taufik! saya siap belajar python data science."
      ]
    },
    {
      "cell_type": "markdown",
      "metadata": {
        "id": "7esOQNVuHtZe",
        "colab_type": "text"
      },
      "source": [
        "<h2>Quiz 5 : Tipe Data</h2>\n",
        "\n",
        "Lengkapi code di bawah ini untuk menghasilkan output yang sesuai"
      ]
    },
    {
      "cell_type": "code",
      "metadata": {
        "id": "KTgkDEsWHtZv",
        "colab_type": "code",
        "colab": {}
      },
      "source": [
        "p = 9.99999\n",
        "q = 'the number : '\n",
        "print(q + ...(p))"
      ],
      "execution_count": 0,
      "outputs": []
    },
    {
      "cell_type": "markdown",
      "metadata": {
        "id": "2WAPOjlzHtbA",
        "colab_type": "text"
      },
      "source": [
        "Expected Output :\n",
        "\n",
        "the number : 9.99999"
      ]
    },
    {
      "cell_type": "code",
      "metadata": {
        "id": "RwBF9z4OHtbL",
        "colab_type": "code",
        "outputId": "767018a0-76c8-45c7-e89c-57764ec0bf4c",
        "colab": {
          "base_uri": "https://localhost:8080/",
          "height": 34
        }
      },
      "source": [
        "p = 9.99999\n",
        "q = 'the number : '\n",
        "print(q + str(p))"
      ],
      "execution_count": 0,
      "outputs": [
        {
          "output_type": "stream",
          "text": [
            "the number : 9.99999\n"
          ],
          "name": "stdout"
        }
      ]
    }
  ]
}